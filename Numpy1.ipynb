{
  "nbformat": 4,
  "nbformat_minor": 0,
  "metadata": {
    "colab": {
      "provenance": [],
      "authorship_tag": "ABX9TyNkpsnoBmOWEqxg7b24pQPe",
      "include_colab_link": true
    },
    "kernelspec": {
      "name": "python3",
      "display_name": "Python 3"
    },
    "language_info": {
      "name": "python"
    }
  },
  "cells": [
    {
      "cell_type": "markdown",
      "metadata": {
        "id": "view-in-github",
        "colab_type": "text"
      },
      "source": [
        "<a href=\"https://colab.research.google.com/github/Ramandeep-Singh17/NumpyPracticeandNotes./blob/main/Numpy1.ipynb\" target=\"_parent\"><img src=\"https://colab.research.google.com/assets/colab-badge.svg\" alt=\"Open In Colab\"/></a>"
      ]
    },
    {
      "cell_type": "code",
      "source": [
        "import numpy as np# np aliyas short form, kuch bhi likh sakte jaruri nhi np\n"
      ],
      "metadata": {
        "id": "PuJXAimZMnor"
      },
      "execution_count": 77,
      "outputs": []
    },
    {
      "cell_type": "markdown",
      "source": [
        "list se array"
      ],
      "metadata": {
        "id": "rtjiHBYBNAUM"
      }
    },
    {
      "cell_type": "code",
      "source": [
        "np.array([1,2,3,4,5])\n"
      ],
      "metadata": {
        "colab": {
          "base_uri": "https://localhost:8080/"
        },
        "id": "kSDREGLPM6WS",
        "outputId": "40f2a341-d0ea-4a5e-ae1a-2059b829b784"
      },
      "execution_count": 78,
      "outputs": [
        {
          "output_type": "execute_result",
          "data": {
            "text/plain": [
              "array([1, 2, 3, 4, 5])"
            ]
          },
          "metadata": {},
          "execution_count": 78
        }
      ]
    },
    {
      "cell_type": "markdown",
      "source": [
        "to save, array agar create hoga tu usmse array likha hua aayeaga"
      ],
      "metadata": {
        "id": "xhQ01W4YNMXT"
      }
    },
    {
      "cell_type": "code",
      "source": [
        "arr=np.array([1,2,3,4,5])\n",
        "arr"
      ],
      "metadata": {
        "colab": {
          "base_uri": "https://localhost:8080/"
        },
        "id": "MqXoNy6GNIuj",
        "outputId": "4fde0c56-8bf7-448a-e682-e7e00cc2bc03"
      },
      "execution_count": 79,
      "outputs": [
        {
          "output_type": "execute_result",
          "data": {
            "text/plain": [
              "array([1, 2, 3, 4, 5])"
            ]
          },
          "metadata": {},
          "execution_count": 79
        }
      ]
    },
    {
      "cell_type": "code",
      "source": [
        "a=[1,2,3.5,\"hello\"]\n",
        "a  #print ke liye agar a nhi likhenge tu print nhi karega"
      ],
      "metadata": {
        "colab": {
          "base_uri": "https://localhost:8080/"
        },
        "id": "Zcwg6RFrNS-H",
        "outputId": "85f754e6-8f1c-4f0c-a36a-77eb4e5f900e"
      },
      "execution_count": 80,
      "outputs": [
        {
          "output_type": "execute_result",
          "data": {
            "text/plain": [
              "[1, 2, 3.5, 'hello']"
            ]
          },
          "metadata": {},
          "execution_count": 80
        }
      ]
    },
    {
      "cell_type": "code",
      "source": [
        "np.array(a)#list pass kar rhe hai\n"
      ],
      "metadata": {
        "colab": {
          "base_uri": "https://localhost:8080/"
        },
        "id": "JWA2zH2wNtlM",
        "outputId": "f634c293-0274-4e4c-f4d6-d277398de747"
      },
      "execution_count": 81,
      "outputs": [
        {
          "output_type": "execute_result",
          "data": {
            "text/plain": [
              "array(['1', '2', '3.5', 'hello'], dtype='<U32')"
            ]
          },
          "metadata": {},
          "execution_count": 81
        }
      ]
    },
    {
      "cell_type": "markdown",
      "source": [
        "**Iska mtlb hai ki sare data types u32 mtlb string me convert ho gaye hai\n",
        "** **Aagr hm string pass nhi kiye tu given example ke hisab se sab float ban jayega**"
      ],
      "metadata": {
        "id": "hhbeJWZVN54P"
      }
    },
    {
      "cell_type": "code",
      "source": [
        "l=[[1,2,3],[4,5,6],[7,8,9]]\n",
        "l"
      ],
      "metadata": {
        "colab": {
          "base_uri": "https://localhost:8080/"
        },
        "id": "aDdjIiY7OIjj",
        "outputId": "782bc6b9-b342-4361-902e-ba2c9b6065c0"
      },
      "execution_count": 82,
      "outputs": [
        {
          "output_type": "execute_result",
          "data": {
            "text/plain": [
              "[[1, 2, 3], [4, 5, 6], [7, 8, 9]]"
            ]
          },
          "metadata": {},
          "execution_count": 82
        }
      ]
    },
    {
      "cell_type": "markdown",
      "source": [
        "Conversion of list to matrix.\n",
        " *2d array se uppper sab tensor hai isiliye tensor flow*"
      ],
      "metadata": {
        "id": "6QUL4_joPbdZ"
      }
    },
    {
      "cell_type": "code",
      "source": [
        "np.array(l)#Agar hm niche l likh de tu wo phirse list ke hisab se kaam karne lagega\n",
        "\n"
      ],
      "metadata": {
        "colab": {
          "base_uri": "https://localhost:8080/"
        },
        "id": "u-Z_BDqcPhn-",
        "outputId": "498b1919-939a-4726-e3cd-95c60aa031ce"
      },
      "execution_count": 83,
      "outputs": [
        {
          "output_type": "execute_result",
          "data": {
            "text/plain": [
              "array([[1, 2, 3],\n",
              "       [4, 5, 6],\n",
              "       [7, 8, 9]])"
            ]
          },
          "metadata": {},
          "execution_count": 83
        }
      ]
    },
    {
      "cell_type": "markdown",
      "source": [
        "**`Array Generating function`**\n",
        "\n",
        "\n",
        "\n"
      ],
      "metadata": {
        "id": "G2UZ72unQHKY"
      }
    },
    {
      "cell_type": "code",
      "source": [
        "np.arange(1,11)#1 se 10 tak generate ho jayega, ye range function hi hai but array ke liye isliye starting me \"a\"."
      ],
      "metadata": {
        "colab": {
          "base_uri": "https://localhost:8080/"
        },
        "id": "GZN2r_TXP004",
        "outputId": "1466e79e-5cc3-461d-bb90-401ed7442e14"
      },
      "execution_count": 84,
      "outputs": [
        {
          "output_type": "execute_result",
          "data": {
            "text/plain": [
              "array([ 1,  2,  3,  4,  5,  6,  7,  8,  9, 10])"
            ]
          },
          "metadata": {},
          "execution_count": 84
        }
      ]
    },
    {
      "cell_type": "code",
      "source": [
        "arr=np.arange(1,11,2)# do ke gap me generate hoga.\n",
        "arr#save karne ke liye"
      ],
      "metadata": {
        "colab": {
          "base_uri": "https://localhost:8080/"
        },
        "id": "Lt4qQIYiRAJt",
        "outputId": "21b26217-f486-419e-d742-58722bd1b8c2"
      },
      "execution_count": 85,
      "outputs": [
        {
          "output_type": "execute_result",
          "data": {
            "text/plain": [
              "array([1, 3, 5, 7, 9])"
            ]
          },
          "metadata": {},
          "execution_count": 85
        }
      ]
    },
    {
      "cell_type": "code",
      "source": [
        "# to genarte zeros\n",
        "arr=np.zeros(6)\n",
        "arr#yaha print ke liye arr kykui = karke"
      ],
      "metadata": {
        "colab": {
          "base_uri": "https://localhost:8080/"
        },
        "id": "nfm2Q-8HRQ9W",
        "outputId": "6fde4725-7c27-4017-ed6d-52afbdee74c6"
      },
      "execution_count": 86,
      "outputs": [
        {
          "output_type": "execute_result",
          "data": {
            "text/plain": [
              "array([0., 0., 0., 0., 0., 0.])"
            ]
          },
          "metadata": {},
          "execution_count": 86
        }
      ]
    },
    {
      "cell_type": "code",
      "source": [
        "#matrix of zeros\n",
        "arr=np.zeros((4,8))\n",
        "arr#yaha print ke liye arr kykui = karke"
      ],
      "metadata": {
        "colab": {
          "base_uri": "https://localhost:8080/"
        },
        "id": "fSTDGi5iRfGB",
        "outputId": "43b5b782-e33a-4e8e-887f-f7a517815013"
      },
      "execution_count": 87,
      "outputs": [
        {
          "output_type": "execute_result",
          "data": {
            "text/plain": [
              "array([[0., 0., 0., 0., 0., 0., 0., 0.],\n",
              "       [0., 0., 0., 0., 0., 0., 0., 0.],\n",
              "       [0., 0., 0., 0., 0., 0., 0., 0.],\n",
              "       [0., 0., 0., 0., 0., 0., 0., 0.]])"
            ]
          },
          "metadata": {},
          "execution_count": 87
        }
      ]
    },
    {
      "cell_type": "code",
      "source": [
        "arr=np.ones((4,8))\n",
        "arr"
      ],
      "metadata": {
        "colab": {
          "base_uri": "https://localhost:8080/"
        },
        "id": "OxWnfLflSSRs",
        "outputId": "5c3c8830-af97-4410-adc8-60cd8dfec9de"
      },
      "execution_count": 88,
      "outputs": [
        {
          "output_type": "execute_result",
          "data": {
            "text/plain": [
              "array([[1., 1., 1., 1., 1., 1., 1., 1.],\n",
              "       [1., 1., 1., 1., 1., 1., 1., 1.],\n",
              "       [1., 1., 1., 1., 1., 1., 1., 1.],\n",
              "       [1., 1., 1., 1., 1., 1., 1., 1.]])"
            ]
          },
          "metadata": {},
          "execution_count": 88
        }
      ]
    },
    {
      "cell_type": "markdown",
      "source": [
        "linspace or liner spacing. Return evenly spaced numbers over a specified interval."
      ],
      "metadata": {
        "id": "20Yl1G9ZSjAI"
      }
    },
    {
      "cell_type": "code",
      "source": [
        "arr= np.linspace(1,5,2)#hme 1 aur 5 ke bich me 2 number chahiye with equal space\n",
        "arr"
      ],
      "metadata": {
        "colab": {
          "base_uri": "https://localhost:8080/"
        },
        "id": "PLK8UTrfSowI",
        "outputId": "64faf1d5-c254-456e-ee28-cfcd8ba7f836"
      },
      "execution_count": 89,
      "outputs": [
        {
          "output_type": "execute_result",
          "data": {
            "text/plain": [
              "array([1., 5.])"
            ]
          },
          "metadata": {},
          "execution_count": 89
        }
      ]
    },
    {
      "cell_type": "code",
      "source": [
        "arr= np.linspace(1,5,3)#hme 1 aur 5 ke bich me 3number chahiye with equal space\n",
        "arr"
      ],
      "metadata": {
        "colab": {
          "base_uri": "https://localhost:8080/"
        },
        "id": "cAkbi1DMTcdG",
        "outputId": "ef8d86c1-ac1e-4b29-a3ae-6c329522e936"
      },
      "execution_count": 90,
      "outputs": [
        {
          "output_type": "execute_result",
          "data": {
            "text/plain": [
              "array([1., 3., 5.])"
            ]
          },
          "metadata": {},
          "execution_count": 90
        }
      ]
    },
    {
      "cell_type": "code",
      "source": [
        "arr= np.linspace(1,5,8)#hme 1 aur 5 ke bich me 8 number chahiye with equal space\n",
        "arr"
      ],
      "metadata": {
        "colab": {
          "base_uri": "https://localhost:8080/"
        },
        "id": "UWF9gP5aTiQY",
        "outputId": "de5401f2-6306-461b-92cd-1febd5f5c8c0"
      },
      "execution_count": 91,
      "outputs": [
        {
          "output_type": "execute_result",
          "data": {
            "text/plain": [
              "array([1.        , 1.57142857, 2.14285714, 2.71428571, 3.28571429,\n",
              "       3.85714286, 4.42857143, 5.        ])"
            ]
          },
          "metadata": {},
          "execution_count": 91
        }
      ]
    },
    {
      "cell_type": "code",
      "source": [
        "arr= np.linspace(1,10,100)#hme 1 aur 5 ke bich me 100 number chahiye with equal space\n",
        "arr"
      ],
      "metadata": {
        "colab": {
          "base_uri": "https://localhost:8080/"
        },
        "id": "OtRc7MLATrDT",
        "outputId": "7a2fe0c0-3827-4e6f-ed1e-1f0df9307cf2"
      },
      "execution_count": 92,
      "outputs": [
        {
          "output_type": "execute_result",
          "data": {
            "text/plain": [
              "array([ 1.        ,  1.09090909,  1.18181818,  1.27272727,  1.36363636,\n",
              "        1.45454545,  1.54545455,  1.63636364,  1.72727273,  1.81818182,\n",
              "        1.90909091,  2.        ,  2.09090909,  2.18181818,  2.27272727,\n",
              "        2.36363636,  2.45454545,  2.54545455,  2.63636364,  2.72727273,\n",
              "        2.81818182,  2.90909091,  3.        ,  3.09090909,  3.18181818,\n",
              "        3.27272727,  3.36363636,  3.45454545,  3.54545455,  3.63636364,\n",
              "        3.72727273,  3.81818182,  3.90909091,  4.        ,  4.09090909,\n",
              "        4.18181818,  4.27272727,  4.36363636,  4.45454545,  4.54545455,\n",
              "        4.63636364,  4.72727273,  4.81818182,  4.90909091,  5.        ,\n",
              "        5.09090909,  5.18181818,  5.27272727,  5.36363636,  5.45454545,\n",
              "        5.54545455,  5.63636364,  5.72727273,  5.81818182,  5.90909091,\n",
              "        6.        ,  6.09090909,  6.18181818,  6.27272727,  6.36363636,\n",
              "        6.45454545,  6.54545455,  6.63636364,  6.72727273,  6.81818182,\n",
              "        6.90909091,  7.        ,  7.09090909,  7.18181818,  7.27272727,\n",
              "        7.36363636,  7.45454545,  7.54545455,  7.63636364,  7.72727273,\n",
              "        7.81818182,  7.90909091,  8.        ,  8.09090909,  8.18181818,\n",
              "        8.27272727,  8.36363636,  8.45454545,  8.54545455,  8.63636364,\n",
              "        8.72727273,  8.81818182,  8.90909091,  9.        ,  9.09090909,\n",
              "        9.18181818,  9.27272727,  9.36363636,  9.45454545,  9.54545455,\n",
              "        9.63636364,  9.72727273,  9.81818182,  9.90909091, 10.        ])"
            ]
          },
          "metadata": {},
          "execution_count": 92
        }
      ]
    },
    {
      "cell_type": "markdown",
      "source": [
        "\n",
        "*RANDOM GENERATING FUNCTION*.  \n",
        " Ise hm random library with the help of rand function se banate hai."
      ],
      "metadata": {
        "id": "nP5nJ5f6USTq"
      }
    },
    {
      "cell_type": "code",
      "source": [
        "np.random.rand(5)"
      ],
      "metadata": {
        "colab": {
          "base_uri": "https://localhost:8080/"
        },
        "id": "hbu15mf9UcU4",
        "outputId": "06142602-cd0f-4005-8337-a6f94c4e7b57"
      },
      "execution_count": 93,
      "outputs": [
        {
          "output_type": "execute_result",
          "data": {
            "text/plain": [
              "array([0.17205104, 0.31324745, 0.48448622, 0.754382  , 0.76792879])"
            ]
          },
          "metadata": {},
          "execution_count": 93
        }
      ]
    },
    {
      "cell_type": "code",
      "source": [
        "np.random.rand(20)# ye matrix nhi hai isme bas ek  hi [] agar do hota [[]] matrix hota hai sare value\n",
        "#0-1 ke beach me ahi ye normalization hai\n",
        "#agar standarization hoga tu value -3 se lekar +3 tak rahega\n"
      ],
      "metadata": {
        "colab": {
          "base_uri": "https://localhost:8080/"
        },
        "id": "obleJmlEVgvc",
        "outputId": "020c5a40-983c-4f77-efaa-27231c12db32"
      },
      "execution_count": 94,
      "outputs": [
        {
          "output_type": "execute_result",
          "data": {
            "text/plain": [
              "array([0.27324853, 0.09114899, 0.48968063, 0.0712548 , 0.4077626 ,\n",
              "       0.89999117, 0.55768355, 0.15722741, 0.64971521, 0.57679824,\n",
              "       0.53952377, 0.50098442, 0.50282708, 0.14425576, 0.62554562,\n",
              "       0.14918426, 0.0411854 , 0.102285  , 0.45865921, 0.74034025])"
            ]
          },
          "metadata": {},
          "execution_count": 94
        }
      ]
    },
    {
      "cell_type": "code",
      "source": [
        "np.random.randn(20)# agar hm randn likhe tu standarization value aayeagi\n",
        "#agar standarization hoga tu value -3 se lekar +3 tak rahega\n"
      ],
      "metadata": {
        "colab": {
          "base_uri": "https://localhost:8080/"
        },
        "id": "4ZFkz2uAWdNO",
        "outputId": "11888d17-01af-4866-b50f-ea460b4ab056"
      },
      "execution_count": 95,
      "outputs": [
        {
          "output_type": "execute_result",
          "data": {
            "text/plain": [
              "array([ 1.16987972,  0.09421405,  0.22271839,  0.8363208 , -1.27006872,\n",
              "       -0.54070012, -0.89793492,  1.45432686,  1.99721658,  0.08519317,\n",
              "       -0.55978834,  0.47881387,  1.01265748, -0.92388936, -1.16406174,\n",
              "       -0.47813229, -0.01111456,  0.80556521, -0.60006135,  0.07445483])"
            ]
          },
          "metadata": {},
          "execution_count": 95
        }
      ]
    },
    {
      "cell_type": "code",
      "source": [
        "np.random.randint(10,20,5)#randint bata rha hai 10-20 ke beach me koi 5 random numbers and number repeat ho sakte hai."
      ],
      "metadata": {
        "colab": {
          "base_uri": "https://localhost:8080/"
        },
        "id": "JsMJrf6MXnck",
        "outputId": "f0ba6ee0-d2ce-49e5-d0e9-7c29b0c21470"
      },
      "execution_count": 96,
      "outputs": [
        {
          "output_type": "execute_result",
          "data": {
            "text/plain": [
              "array([12, 16, 11, 16, 19])"
            ]
          },
          "metadata": {},
          "execution_count": 96
        }
      ]
    },
    {
      "cell_type": "markdown",
      "source": [
        " **Array Attributes**\n",
        " attrubutes are variable defined inside a class\n",
        " methods are function defined insude a class"
      ],
      "metadata": {
        "id": "E3ixFipQYP9M"
      }
    },
    {
      "cell_type": "code",
      "source": [
        "#attributes ko call nhi karte hai direct likhte hai but methods ko call karte hai.\n",
        "arr=np.array([[1,2,3],[4,5,6],[7,8,9]])\n",
        "arr"
      ],
      "metadata": {
        "colab": {
          "base_uri": "https://localhost:8080/"
        },
        "id": "81IremQhYVwQ",
        "outputId": "d9d39286-da76-4304-d039-81298103991e"
      },
      "execution_count": 97,
      "outputs": [
        {
          "output_type": "execute_result",
          "data": {
            "text/plain": [
              "array([[1, 2, 3],\n",
              "       [4, 5, 6],\n",
              "       [7, 8, 9]])"
            ]
          },
          "metadata": {},
          "execution_count": 97
        }
      ]
    },
    {
      "cell_type": "code",
      "source": [
        "arr.shape# shape attribute hai isme bracket nhi lagega agar lagaya tu galt ho jayeaga.\n"
      ],
      "metadata": {
        "colab": {
          "base_uri": "https://localhost:8080/"
        },
        "id": "BgxSYXIBampk",
        "outputId": "32c6a5e1-f91f-402f-f1a9-13637f6350f5"
      },
      "execution_count": 98,
      "outputs": [
        {
          "output_type": "execute_result",
          "data": {
            "text/plain": [
              "(3, 3)"
            ]
          },
          "metadata": {},
          "execution_count": 98
        }
      ]
    },
    {
      "cell_type": "code",
      "source": [
        "arr.size"
      ],
      "metadata": {
        "colab": {
          "base_uri": "https://localhost:8080/"
        },
        "id": "0fT30AmGawc5",
        "outputId": "a8ce0f47-ac42-4cef-ac1a-64c7d0168e63"
      },
      "execution_count": 99,
      "outputs": [
        {
          "output_type": "execute_result",
          "data": {
            "text/plain": [
              "9"
            ]
          },
          "metadata": {},
          "execution_count": 99
        }
      ]
    },
    {
      "cell_type": "code",
      "source": [
        "arr.dtype# data type ke jo integer hai.\n"
      ],
      "metadata": {
        "colab": {
          "base_uri": "https://localhost:8080/"
        },
        "id": "kv_1Jd3ba0L7",
        "outputId": "907c23fd-9bb4-41a1-f9cf-cd566fb3f64e"
      },
      "execution_count": 100,
      "outputs": [
        {
          "output_type": "execute_result",
          "data": {
            "text/plain": [
              "dtype('int64')"
            ]
          },
          "metadata": {},
          "execution_count": 100
        }
      ]
    },
    {
      "cell_type": "markdown",
      "source": [
        "**Array Methods**"
      ],
      "metadata": {
        "id": "4sMLMKkCbE08"
      }
    },
    {
      "cell_type": "code",
      "source": [
        "arr"
      ],
      "metadata": {
        "colab": {
          "base_uri": "https://localhost:8080/"
        },
        "id": "MfI-oCvqbJid",
        "outputId": "825f7806-f21a-419f-8e61-8a5d55451093"
      },
      "execution_count": 101,
      "outputs": [
        {
          "output_type": "execute_result",
          "data": {
            "text/plain": [
              "array([[1, 2, 3],\n",
              "       [4, 5, 6],\n",
              "       [7, 8, 9]])"
            ]
          },
          "metadata": {},
          "execution_count": 101
        }
      ]
    },
    {
      "cell_type": "code",
      "source": [
        "arr.min()"
      ],
      "metadata": {
        "colab": {
          "base_uri": "https://localhost:8080/"
        },
        "id": "dpz6XlV7bQdO",
        "outputId": "d96813a2-e480-4650-8a20-e6018cfd3d35"
      },
      "execution_count": 102,
      "outputs": [
        {
          "output_type": "execute_result",
          "data": {
            "text/plain": [
              "np.int64(1)"
            ]
          },
          "metadata": {},
          "execution_count": 102
        }
      ]
    },
    {
      "cell_type": "code",
      "source": [
        "arr.max()"
      ],
      "metadata": {
        "colab": {
          "base_uri": "https://localhost:8080/"
        },
        "id": "gPz0GRWnbSLE",
        "outputId": "18b9caff-fa31-4fc7-fd67-49bc45ff10dd"
      },
      "execution_count": 103,
      "outputs": [
        {
          "output_type": "execute_result",
          "data": {
            "text/plain": [
              "np.int64(9)"
            ]
          },
          "metadata": {},
          "execution_count": 103
        }
      ]
    },
    {
      "cell_type": "code",
      "source": [
        "arr.sum()"
      ],
      "metadata": {
        "colab": {
          "base_uri": "https://localhost:8080/"
        },
        "id": "acGniNkBbV4U",
        "outputId": "1f54949c-0561-40f1-ec17-d4c24507b94c"
      },
      "execution_count": 104,
      "outputs": [
        {
          "output_type": "execute_result",
          "data": {
            "text/plain": [
              "np.int64(45)"
            ]
          },
          "metadata": {},
          "execution_count": 104
        }
      ]
    },
    {
      "cell_type": "code",
      "source": [
        "#row column sum karne ke liye\n",
        "arr.sum(axis=0)#column sum\n"
      ],
      "metadata": {
        "colab": {
          "base_uri": "https://localhost:8080/"
        },
        "id": "vexs2rlUbYhm",
        "outputId": "c5ffdbc8-40ae-4f15-9387-976bf3ed576e"
      },
      "execution_count": 105,
      "outputs": [
        {
          "output_type": "execute_result",
          "data": {
            "text/plain": [
              "array([12, 15, 18])"
            ]
          },
          "metadata": {},
          "execution_count": 105
        }
      ]
    },
    {
      "cell_type": "code",
      "source": [
        "arr.sum(axis=1)#row sum"
      ],
      "metadata": {
        "colab": {
          "base_uri": "https://localhost:8080/"
        },
        "id": "cHYnCCcybws0",
        "outputId": "564afbc1-2fac-4c5f-c1a1-318713f15e9f"
      },
      "execution_count": 106,
      "outputs": [
        {
          "output_type": "execute_result",
          "data": {
            "text/plain": [
              "array([ 6, 15, 24])"
            ]
          },
          "metadata": {},
          "execution_count": 106
        }
      ]
    },
    {
      "cell_type": "code",
      "source": [
        "arr.mean()"
      ],
      "metadata": {
        "colab": {
          "base_uri": "https://localhost:8080/"
        },
        "id": "kqLdrijrb2J3",
        "outputId": "ed01a163-d51c-4aad-9bbf-2f6b7b2dde1f"
      },
      "execution_count": 107,
      "outputs": [
        {
          "output_type": "execute_result",
          "data": {
            "text/plain": [
              "np.float64(5.0)"
            ]
          },
          "metadata": {},
          "execution_count": 107
        }
      ]
    },
    {
      "cell_type": "code",
      "source": [
        "arr.std()#standard deviation"
      ],
      "metadata": {
        "colab": {
          "base_uri": "https://localhost:8080/"
        },
        "id": "KXxVmZSJcEGh",
        "outputId": "d91a3af3-85c1-4b36-94ff-8e857f808ee9"
      },
      "execution_count": 108,
      "outputs": [
        {
          "output_type": "execute_result",
          "data": {
            "text/plain": [
              "np.float64(2.581988897471611)"
            ]
          },
          "metadata": {},
          "execution_count": 108
        }
      ]
    },
    {
      "cell_type": "code",
      "source": [
        "arr.argmax()#Return highest index value which is 9 in thid case at 8 position starting from zero"
      ],
      "metadata": {
        "colab": {
          "base_uri": "https://localhost:8080/"
        },
        "id": "jk-FYPBwcL-6",
        "outputId": "c7261c41-56aa-429e-fa84-bfbae177d155"
      },
      "execution_count": 109,
      "outputs": [
        {
          "output_type": "execute_result",
          "data": {
            "text/plain": [
              "np.int64(8)"
            ]
          },
          "metadata": {},
          "execution_count": 109
        }
      ]
    },
    {
      "cell_type": "markdown",
      "source": [
        "**Reshaping and Resizing**"
      ],
      "metadata": {
        "id": "Q8Qi8N0Ncmrd"
      }
    },
    {
      "cell_type": "code",
      "source": [
        "np.arange(1,31)#abhi ye call ho rha hai but store nhi"
      ],
      "metadata": {
        "colab": {
          "base_uri": "https://localhost:8080/"
        },
        "id": "oQmue5Uxcr0g",
        "outputId": "299b496a-3cb4-4c7b-8ce6-553fa9a0f267"
      },
      "execution_count": 110,
      "outputs": [
        {
          "output_type": "execute_result",
          "data": {
            "text/plain": [
              "array([ 1,  2,  3,  4,  5,  6,  7,  8,  9, 10, 11, 12, 13, 14, 15, 16, 17,\n",
              "       18, 19, 20, 21, 22, 23, 24, 25, 26, 27, 28, 29, 30])"
            ]
          },
          "metadata": {},
          "execution_count": 110
        }
      ]
    },
    {
      "cell_type": "code",
      "source": [
        "arr=np.arange(1,31)#abhi ye store  ho rha hai but call nhi"
      ],
      "metadata": {
        "id": "zunGPdzjcyXB"
      },
      "execution_count": 111,
      "outputs": []
    },
    {
      "cell_type": "code",
      "source": [
        "arr=np.arange(1,31)#abhi ye call ho rha hai and store bhi dono\n",
        "arr"
      ],
      "metadata": {
        "colab": {
          "base_uri": "https://localhost:8080/"
        },
        "id": "h7hXV_PsdDdp",
        "outputId": "0090760e-5329-40b0-cc7e-f7b1f735ed85"
      },
      "execution_count": 112,
      "outputs": [
        {
          "output_type": "execute_result",
          "data": {
            "text/plain": [
              "array([ 1,  2,  3,  4,  5,  6,  7,  8,  9, 10, 11, 12, 13, 14, 15, 16, 17,\n",
              "       18, 19, 20, 21, 22, 23, 24, 25, 26, 27, 28, 29, 30])"
            ]
          },
          "metadata": {},
          "execution_count": 112
        }
      ]
    },
    {
      "cell_type": "code",
      "source": [
        "arr=arr.reshape(6,5)#reshaping me dhyan dena hai ki element count bhi same hona chahiye warna nhi ho payeaga.\n",
        "arr"
      ],
      "metadata": {
        "colab": {
          "base_uri": "https://localhost:8080/"
        },
        "id": "J-GpDtfvdIno",
        "outputId": "10f07c6e-4986-4561-a3e4-106feb01f066"
      },
      "execution_count": 113,
      "outputs": [
        {
          "output_type": "execute_result",
          "data": {
            "text/plain": [
              "array([[ 1,  2,  3,  4,  5],\n",
              "       [ 6,  7,  8,  9, 10],\n",
              "       [11, 12, 13, 14, 15],\n",
              "       [16, 17, 18, 19, 20],\n",
              "       [21, 22, 23, 24, 25],\n",
              "       [26, 27, 28, 29, 30]])"
            ]
          },
          "metadata": {},
          "execution_count": 113
        }
      ]
    },
    {
      "cell_type": "code",
      "source": [
        "arr"
      ],
      "metadata": {
        "colab": {
          "base_uri": "https://localhost:8080/"
        },
        "id": "jSlNmKALeA-J",
        "outputId": "5999ef7e-9759-493c-db8f-66b990f149ae"
      },
      "execution_count": 114,
      "outputs": [
        {
          "output_type": "execute_result",
          "data": {
            "text/plain": [
              "array([[ 1,  2,  3,  4,  5],\n",
              "       [ 6,  7,  8,  9, 10],\n",
              "       [11, 12, 13, 14, 15],\n",
              "       [16, 17, 18, 19, 20],\n",
              "       [21, 22, 23, 24, 25],\n",
              "       [26, 27, 28, 29, 30]])"
            ]
          },
          "metadata": {},
          "execution_count": 114
        }
      ]
    },
    {
      "cell_type": "markdown",
      "source": [
        "***NUMPY indexing and slicing of vectors***"
      ],
      "metadata": {
        "id": "Ed0pQvuIj-HZ"
      }
    },
    {
      "cell_type": "code",
      "source": [
        "arr=np.arange(11,21)\n",
        "arr"
      ],
      "metadata": {
        "colab": {
          "base_uri": "https://localhost:8080/"
        },
        "id": "NZwLU5flkGJJ",
        "outputId": "14bb2f43-4e2b-4b8e-be1c-e025acd68a4c"
      },
      "execution_count": 115,
      "outputs": [
        {
          "output_type": "execute_result",
          "data": {
            "text/plain": [
              "array([11, 12, 13, 14, 15, 16, 17, 18, 19, 20])"
            ]
          },
          "metadata": {},
          "execution_count": 115
        }
      ]
    },
    {
      "cell_type": "code",
      "source": [
        "arr[6]"
      ],
      "metadata": {
        "colab": {
          "base_uri": "https://localhost:8080/"
        },
        "id": "fOsD-5_CkYKp",
        "outputId": "b603636c-2599-418e-9179-dd496b5bad01"
      },
      "execution_count": 116,
      "outputs": [
        {
          "output_type": "execute_result",
          "data": {
            "text/plain": [
              "np.int64(17)"
            ]
          },
          "metadata": {},
          "execution_count": 116
        }
      ]
    },
    {
      "cell_type": "code",
      "source": [
        "arr[3:5]#slice ho gya"
      ],
      "metadata": {
        "colab": {
          "base_uri": "https://localhost:8080/"
        },
        "id": "VCiyuYfQmd7K",
        "outputId": "6f02623e-60d7-4137-c333-8265e0220d06"
      },
      "execution_count": 117,
      "outputs": [
        {
          "output_type": "execute_result",
          "data": {
            "text/plain": [
              "array([14, 15])"
            ]
          },
          "metadata": {},
          "execution_count": 117
        }
      ]
    },
    {
      "cell_type": "code",
      "source": [],
      "metadata": {
        "id": "QWXtW-zkmsOp"
      },
      "execution_count": 117,
      "outputs": []
    },
    {
      "cell_type": "markdown",
      "source": [
        "*NUMPY Indexing and slicing of a matrix*"
      ],
      "metadata": {
        "id": "rycUWaFim5GE"
      }
    },
    {
      "cell_type": "code",
      "source": [
        "arr= np.arange(1,31).reshape(6,5)\n",
        "arr"
      ],
      "metadata": {
        "colab": {
          "base_uri": "https://localhost:8080/"
        },
        "id": "Ot7V2jBNm_sU",
        "outputId": "40eaca23-b484-463f-dcba-8da692f5f0ce"
      },
      "execution_count": 118,
      "outputs": [
        {
          "output_type": "execute_result",
          "data": {
            "text/plain": [
              "array([[ 1,  2,  3,  4,  5],\n",
              "       [ 6,  7,  8,  9, 10],\n",
              "       [11, 12, 13, 14, 15],\n",
              "       [16, 17, 18, 19, 20],\n",
              "       [21, 22, 23, 24, 25],\n",
              "       [26, 27, 28, 29, 30]])"
            ]
          },
          "metadata": {},
          "execution_count": 118
        }
      ]
    },
    {
      "cell_type": "code",
      "source": [
        "arr[5]#for row"
      ],
      "metadata": {
        "colab": {
          "base_uri": "https://localhost:8080/"
        },
        "id": "xrFc7p4RnSJH",
        "outputId": "2bf53dc1-5432-4ed2-c522-243d22806107"
      },
      "execution_count": 119,
      "outputs": [
        {
          "output_type": "execute_result",
          "data": {
            "text/plain": [
              "array([26, 27, 28, 29, 30])"
            ]
          },
          "metadata": {},
          "execution_count": 119
        }
      ]
    },
    {
      "cell_type": "code",
      "source": [
        "arr[3]#for row"
      ],
      "metadata": {
        "colab": {
          "base_uri": "https://localhost:8080/"
        },
        "id": "2E4M05DknY6I",
        "outputId": "8e2f13a1-5b0d-4263-98dd-00da4708d1be"
      },
      "execution_count": 120,
      "outputs": [
        {
          "output_type": "execute_result",
          "data": {
            "text/plain": [
              "array([16, 17, 18, 19, 20])"
            ]
          },
          "metadata": {},
          "execution_count": 120
        }
      ]
    },
    {
      "cell_type": "code",
      "source": [
        "arr[0,0]#for column"
      ],
      "metadata": {
        "colab": {
          "base_uri": "https://localhost:8080/"
        },
        "id": "5sM8H_xEnahu",
        "outputId": "0be99b74-d284-4936-b987-ec65a6ce59c4"
      },
      "execution_count": 121,
      "outputs": [
        {
          "output_type": "execute_result",
          "data": {
            "text/plain": [
              "np.int64(1)"
            ]
          },
          "metadata": {},
          "execution_count": 121
        }
      ]
    },
    {
      "cell_type": "code",
      "source": [
        "arr[5,4]#for column, pahle row then column"
      ],
      "metadata": {
        "colab": {
          "base_uri": "https://localhost:8080/"
        },
        "id": "v87aKx0NnnuB",
        "outputId": "8a57d811-f22a-4b66-dff7-b266306d237d"
      },
      "execution_count": 122,
      "outputs": [
        {
          "output_type": "execute_result",
          "data": {
            "text/plain": [
              "np.int64(30)"
            ]
          },
          "metadata": {},
          "execution_count": 122
        }
      ]
    },
    {
      "cell_type": "markdown",
      "source": [],
      "metadata": {
        "id": "qTHMoaL0AA2C"
      }
    },
    {
      "cell_type": "code",
      "source": [
        "arr= np.arange(1,31).reshape(6,5)\n",
        "arr"
      ],
      "metadata": {
        "colab": {
          "base_uri": "https://localhost:8080/"
        },
        "id": "2ia9COw-nvCw",
        "outputId": "d91815db-0f82-43ff-c64d-32200867d5ae"
      },
      "execution_count": 123,
      "outputs": [
        {
          "output_type": "execute_result",
          "data": {
            "text/plain": [
              "array([[ 1,  2,  3,  4,  5],\n",
              "       [ 6,  7,  8,  9, 10],\n",
              "       [11, 12, 13, 14, 15],\n",
              "       [16, 17, 18, 19, 20],\n",
              "       [21, 22, 23, 24, 25],\n",
              "       [26, 27, 28, 29, 30]])"
            ]
          },
          "metadata": {},
          "execution_count": 123
        }
      ]
    },
    {
      "cell_type": "code",
      "source": [
        "slice=arr[0:2,1:3]#ye dikha rha hai ki row no 0 se leke 2 tak chalega but 2 include  nhi hoga\n",
        "# and 1:3 ka mtlb hai ki column 1 se leke 3 tak karenege but 3 ko nhi\n",
        "slice"
      ],
      "metadata": {
        "colab": {
          "base_uri": "https://localhost:8080/"
        },
        "id": "PDPFiCQWn894",
        "outputId": "917b1af0-9463-4144-c48f-27248498717f"
      },
      "execution_count": 124,
      "outputs": [
        {
          "output_type": "execute_result",
          "data": {
            "text/plain": [
              "array([[2, 3],\n",
              "       [7, 8]])"
            ]
          },
          "metadata": {},
          "execution_count": 124
        }
      ]
    },
    {
      "cell_type": "code",
      "source": [
        "slice=arr[3:6,3:5]\n",
        "slice"
      ],
      "metadata": {
        "colab": {
          "base_uri": "https://localhost:8080/"
        },
        "id": "LfbOM7mPp7PX",
        "outputId": "10218194-527d-44f7-e7f7-441beb572c3b"
      },
      "execution_count": 125,
      "outputs": [
        {
          "output_type": "execute_result",
          "data": {
            "text/plain": [
              "array([[19, 20],\n",
              "       [24, 25],\n",
              "       [29, 30]])"
            ]
          },
          "metadata": {},
          "execution_count": 125
        }
      ]
    },
    {
      "cell_type": "code",
      "source": [
        "arr[:,2]#column slice"
      ],
      "metadata": {
        "colab": {
          "base_uri": "https://localhost:8080/"
        },
        "id": "Vrm5YpWIqXeg",
        "outputId": "2602fea6-b2bb-41e7-849f-f7c1af366c3d"
      },
      "execution_count": 126,
      "outputs": [
        {
          "output_type": "execute_result",
          "data": {
            "text/plain": [
              "array([ 3,  8, 13, 18, 23, 28])"
            ]
          },
          "metadata": {},
          "execution_count": 126
        }
      ]
    },
    {
      "cell_type": "markdown",
      "source": [
        "**Boolean indexing**"
      ],
      "metadata": {
        "id": "WdEEy7WAqkQr"
      }
    },
    {
      "cell_type": "code",
      "source": [
        "arr = np.arange(11,21)\n",
        "arr"
      ],
      "metadata": {
        "colab": {
          "base_uri": "https://localhost:8080/"
        },
        "id": "x9DJtxK1qrbD",
        "outputId": "3a0e364e-1b69-4b02-f1ec-336a040304fc"
      },
      "execution_count": 127,
      "outputs": [
        {
          "output_type": "execute_result",
          "data": {
            "text/plain": [
              "array([11, 12, 13, 14, 15, 16, 17, 18, 19, 20])"
            ]
          },
          "metadata": {},
          "execution_count": 127
        }
      ]
    },
    {
      "cell_type": "code",
      "source": [
        "bool_index = arr%2 ==0\n",
        "bool_index"
      ],
      "metadata": {
        "colab": {
          "base_uri": "https://localhost:8080/"
        },
        "id": "mrSv10LswnSX",
        "outputId": "85801a3d-f71f-4d16-b02f-d9e84a48d744"
      },
      "execution_count": 128,
      "outputs": [
        {
          "output_type": "execute_result",
          "data": {
            "text/plain": [
              "array([False,  True, False,  True, False,  True, False,  True, False,\n",
              "        True])"
            ]
          },
          "metadata": {},
          "execution_count": 128
        }
      ]
    },
    {
      "cell_type": "code",
      "source": [
        "arr = arr[bool_index]\n",
        "arr"
      ],
      "metadata": {
        "colab": {
          "base_uri": "https://localhost:8080/"
        },
        "id": "Kaxm-W6SwyZj",
        "outputId": "8db28e81-5042-4d01-baf8-bddb4154a859"
      },
      "execution_count": 129,
      "outputs": [
        {
          "output_type": "execute_result",
          "data": {
            "text/plain": [
              "array([12, 14, 16, 18, 20])"
            ]
          },
          "metadata": {},
          "execution_count": 129
        }
      ]
    },
    {
      "cell_type": "markdown",
      "source": [
        "***Array opereations***"
      ],
      "metadata": {
        "id": "LJuv48TlLlEa"
      }
    },
    {
      "cell_type": "code",
      "source": [
        "import numpy as np"
      ],
      "metadata": {
        "id": "4pbJ6DWbw6Dh"
      },
      "execution_count": 130,
      "outputs": []
    },
    {
      "cell_type": "code",
      "source": [
        "a1=np.array([1,2,3,4,5])\n",
        "a2=np.array([6,7,8,9,10])\n",
        "a2"
      ],
      "metadata": {
        "colab": {
          "base_uri": "https://localhost:8080/"
        },
        "id": "fssqRIi1Ltor",
        "outputId": "44cf5f34-7fa0-430b-b88a-60bc9b9e721f"
      },
      "execution_count": 131,
      "outputs": [
        {
          "output_type": "execute_result",
          "data": {
            "text/plain": [
              "array([ 6,  7,  8,  9, 10])"
            ]
          },
          "metadata": {},
          "execution_count": 131
        }
      ]
    },
    {
      "cell_type": "code",
      "source": [
        "a1+a2#addition of two arrays"
      ],
      "metadata": {
        "colab": {
          "base_uri": "https://localhost:8080/"
        },
        "id": "2WD0_pU_MAgb",
        "outputId": "f6beb3b5-7c1e-4e9f-ee78-172c8f041ea6"
      },
      "execution_count": 132,
      "outputs": [
        {
          "output_type": "execute_result",
          "data": {
            "text/plain": [
              "array([ 7,  9, 11, 13, 15])"
            ]
          },
          "metadata": {},
          "execution_count": 132
        }
      ]
    },
    {
      "cell_type": "code",
      "source": [
        "a1=np.array([1,2,3,4,5,6])#add karne ke liye dono me same number of elemnts hone chahiye jo nhi hai\n",
        "a2=np.array([6,7,8,9,10])#uuper 6 hai and niche 5 so ye nhi add hoga.So upper niche same rakhna chachiye agar add karna hai tu\n",
        "a1+a2"
      ],
      "metadata": {
        "colab": {
          "base_uri": "https://localhost:8080/",
          "height": 176
        },
        "id": "TiZLNoH6MJDh",
        "outputId": "f9f29135-2646-416a-ca73-6722e1dafd8a"
      },
      "execution_count": 194,
      "outputs": [
        {
          "output_type": "error",
          "ename": "ValueError",
          "evalue": "operands could not be broadcast together with shapes (6,) (5,) ",
          "traceback": [
            "\u001b[0;31m---------------------------------------------------------------------------\u001b[0m",
            "\u001b[0;31mValueError\u001b[0m                                Traceback (most recent call last)",
            "\u001b[0;32m/tmp/ipython-input-3691757317.py\u001b[0m in \u001b[0;36m<cell line: 0>\u001b[0;34m()\u001b[0m\n\u001b[1;32m      1\u001b[0m \u001b[0ma1\u001b[0m\u001b[0;34m=\u001b[0m\u001b[0mnp\u001b[0m\u001b[0;34m.\u001b[0m\u001b[0marray\u001b[0m\u001b[0;34m(\u001b[0m\u001b[0;34m[\u001b[0m\u001b[0;36m1\u001b[0m\u001b[0;34m,\u001b[0m\u001b[0;36m2\u001b[0m\u001b[0;34m,\u001b[0m\u001b[0;36m3\u001b[0m\u001b[0;34m,\u001b[0m\u001b[0;36m4\u001b[0m\u001b[0;34m,\u001b[0m\u001b[0;36m5\u001b[0m\u001b[0;34m,\u001b[0m\u001b[0;36m6\u001b[0m\u001b[0;34m]\u001b[0m\u001b[0;34m)\u001b[0m\u001b[0;31m#add karne ke liye dono me same number of elemnts hone chahiye jo nhi hai\u001b[0m\u001b[0;34m\u001b[0m\u001b[0;34m\u001b[0m\u001b[0m\n\u001b[1;32m      2\u001b[0m \u001b[0ma2\u001b[0m\u001b[0;34m=\u001b[0m\u001b[0mnp\u001b[0m\u001b[0;34m.\u001b[0m\u001b[0marray\u001b[0m\u001b[0;34m(\u001b[0m\u001b[0;34m[\u001b[0m\u001b[0;36m6\u001b[0m\u001b[0;34m,\u001b[0m\u001b[0;36m7\u001b[0m\u001b[0;34m,\u001b[0m\u001b[0;36m8\u001b[0m\u001b[0;34m,\u001b[0m\u001b[0;36m9\u001b[0m\u001b[0;34m,\u001b[0m\u001b[0;36m10\u001b[0m\u001b[0;34m]\u001b[0m\u001b[0;34m)\u001b[0m\u001b[0;31m#uuper 6 hai and niche 5 so ye nhi add hoga.So upper niche same rakhna chachiye agar add karna hai tu\u001b[0m\u001b[0;34m\u001b[0m\u001b[0;34m\u001b[0m\u001b[0m\n\u001b[0;32m----> 3\u001b[0;31m \u001b[0ma1\u001b[0m\u001b[0;34m+\u001b[0m\u001b[0ma2\u001b[0m\u001b[0;34m\u001b[0m\u001b[0;34m\u001b[0m\u001b[0m\n\u001b[0m",
            "\u001b[0;31mValueError\u001b[0m: operands could not be broadcast together with shapes (6,) (5,) "
          ]
        }
      ]
    },
    {
      "cell_type": "code",
      "source": [
        "a1=np.array([1,2,3,4,5,8])\n",
        "a2=np.array([6,7,8,9,10,12])\n",
        "arr2=a1+a2\n",
        "arr2"
      ],
      "metadata": {
        "colab": {
          "base_uri": "https://localhost:8080/"
        },
        "id": "1cI6sactMU_t",
        "outputId": "e4af7144-77a8-46bc-e35a-2ed390cbbf90"
      },
      "execution_count": 195,
      "outputs": [
        {
          "output_type": "execute_result",
          "data": {
            "text/plain": [
              "array([ 7,  9, 11, 13, 15, 20])"
            ]
          },
          "metadata": {},
          "execution_count": 195
        }
      ]
    },
    {
      "cell_type": "code",
      "source": [
        "a1-a2"
      ],
      "metadata": {
        "colab": {
          "base_uri": "https://localhost:8080/"
        },
        "id": "vvuMrufaMwBL",
        "outputId": "7e5a1ca7-0d22-4037-9aef-42e26c4ac9d4"
      },
      "execution_count": 135,
      "outputs": [
        {
          "output_type": "execute_result",
          "data": {
            "text/plain": [
              "array([-5, -5, -5, -5, -5, -4])"
            ]
          },
          "metadata": {},
          "execution_count": 135
        }
      ]
    },
    {
      "cell_type": "code",
      "source": [
        "a1*a2"
      ],
      "metadata": {
        "colab": {
          "base_uri": "https://localhost:8080/"
        },
        "id": "IenF8vXiM4Qf",
        "outputId": "70e91df9-7cd2-4535-cf8d-53ac31b1c74f"
      },
      "execution_count": 136,
      "outputs": [
        {
          "output_type": "execute_result",
          "data": {
            "text/plain": [
              "array([ 6, 14, 24, 36, 50, 96])"
            ]
          },
          "metadata": {},
          "execution_count": 136
        }
      ]
    },
    {
      "cell_type": "code",
      "source": [
        "a1/a2"
      ],
      "metadata": {
        "colab": {
          "base_uri": "https://localhost:8080/"
        },
        "id": "re8msVawM_ja",
        "outputId": "1c49663f-9648-4778-cdfc-963c683144b0"
      },
      "execution_count": 137,
      "outputs": [
        {
          "output_type": "execute_result",
          "data": {
            "text/plain": [
              "array([0.16666667, 0.28571429, 0.375     , 0.44444444, 0.5       ,\n",
              "       0.66666667])"
            ]
          },
          "metadata": {},
          "execution_count": 137
        }
      ]
    },
    {
      "cell_type": "code",
      "source": [
        "a1//a2#floor division"
      ],
      "metadata": {
        "colab": {
          "base_uri": "https://localhost:8080/"
        },
        "id": "sMArWz4RNCo7",
        "outputId": "b0f21302-b458-43e3-b214-c9ba0a9263be"
      },
      "execution_count": 138,
      "outputs": [
        {
          "output_type": "execute_result",
          "data": {
            "text/plain": [
              "array([0, 0, 0, 0, 0, 0])"
            ]
          },
          "metadata": {},
          "execution_count": 138
        }
      ]
    },
    {
      "cell_type": "code",
      "source": [
        "a1**a2"
      ],
      "metadata": {
        "colab": {
          "base_uri": "https://localhost:8080/"
        },
        "id": "uc6lLWa0NOh6",
        "outputId": "2463311e-db0a-4cd4-b3a3-a79b287a3187"
      },
      "execution_count": 139,
      "outputs": [
        {
          "output_type": "execute_result",
          "data": {
            "text/plain": [
              "array([          1,         128,        6561,      262144,     9765625,\n",
              "       68719476736])"
            ]
          },
          "metadata": {},
          "execution_count": 139
        }
      ]
    },
    {
      "cell_type": "markdown",
      "source": [
        "**Broadcasting**"
      ],
      "metadata": {
        "id": "zUS4zzwINTA0"
      }
    },
    {
      "cell_type": "code",
      "source": [
        "l=[10,20,30,40]\n",
        "arr=np.array(l)"
      ],
      "metadata": {
        "id": "w-kG-oAnNVGd"
      },
      "execution_count": 196,
      "outputs": []
    },
    {
      "cell_type": "code",
      "source": [
        "l+10# we cant directly add"
      ],
      "metadata": {
        "colab": {
          "base_uri": "https://localhost:8080/",
          "height": 141
        },
        "id": "TfUzV11-Njsk",
        "outputId": "c10370c9-76c1-46ed-8d39-78b7c2ed9eb8"
      },
      "execution_count": 197,
      "outputs": [
        {
          "output_type": "error",
          "ename": "TypeError",
          "evalue": "can only concatenate list (not \"int\") to list",
          "traceback": [
            "\u001b[0;31m---------------------------------------------------------------------------\u001b[0m",
            "\u001b[0;31mTypeError\u001b[0m                                 Traceback (most recent call last)",
            "\u001b[0;32m/tmp/ipython-input-2879731070.py\u001b[0m in \u001b[0;36m<cell line: 0>\u001b[0;34m()\u001b[0m\n\u001b[0;32m----> 1\u001b[0;31m \u001b[0ml\u001b[0m\u001b[0;34m+\u001b[0m\u001b[0;36m10\u001b[0m\u001b[0;31m# we cant directly add\u001b[0m\u001b[0;34m\u001b[0m\u001b[0;34m\u001b[0m\u001b[0m\n\u001b[0m",
            "\u001b[0;31mTypeError\u001b[0m: can only concatenate list (not \"int\") to list"
          ]
        }
      ]
    },
    {
      "cell_type": "code",
      "source": [
        "for i in l:# we need long procedure\n",
        "  print (i+10)# to avoid this we directly add in array"
      ],
      "metadata": {
        "id": "z5d-IhYjNpoP",
        "colab": {
          "base_uri": "https://localhost:8080/"
        },
        "outputId": "6fcd2f38-7b05-4e0f-ca6c-0f498af366f3"
      },
      "execution_count": 144,
      "outputs": [
        {
          "output_type": "stream",
          "name": "stdout",
          "text": [
            "20\n",
            "30\n",
            "40\n",
            "50\n"
          ]
        }
      ]
    },
    {
      "cell_type": "code",
      "source": [
        "l=[10,20,30,40]#directly array me add karo ye hi broadcsting hai agar koi number hai jise add karna chahte ho sab me then  use broadcasting.\n",
        "arr=np.array(l)\n",
        "arr+10"
      ],
      "metadata": {
        "id": "zBtEmxF0N0O2",
        "colab": {
          "base_uri": "https://localhost:8080/"
        },
        "outputId": "a73fbb7d-f7da-44ed-d8ab-ec027a73c6e6"
      },
      "execution_count": 198,
      "outputs": [
        {
          "output_type": "execute_result",
          "data": {
            "text/plain": [
              "array([20, 30, 40, 50])"
            ]
          },
          "metadata": {},
          "execution_count": 198
        }
      ]
    },
    {
      "cell_type": "code",
      "source": [
        "arr2=np.arange(1,26).reshape(5,5)\n",
        "arr2"
      ],
      "metadata": {
        "id": "C0TKaIhiOqbn",
        "colab": {
          "base_uri": "https://localhost:8080/"
        },
        "outputId": "74fd1ccb-580a-4195-ce39-3dbf97409673"
      },
      "execution_count": 146,
      "outputs": [
        {
          "output_type": "execute_result",
          "data": {
            "text/plain": [
              "array([[ 1,  2,  3,  4,  5],\n",
              "       [ 6,  7,  8,  9, 10],\n",
              "       [11, 12, 13, 14, 15],\n",
              "       [16, 17, 18, 19, 20],\n",
              "       [21, 22, 23, 24, 25]])"
            ]
          },
          "metadata": {},
          "execution_count": 146
        }
      ]
    },
    {
      "cell_type": "code",
      "source": [
        "# ab hm isme bhi broadcast kaar sakte hai\n",
        "arr2=arr2+10"
      ],
      "metadata": {
        "id": "kB1rfiIFO2nH"
      },
      "execution_count": 147,
      "outputs": []
    },
    {
      "cell_type": "code",
      "source": [
        "arr2*2"
      ],
      "metadata": {
        "id": "WiLkdVJnO_1n",
        "colab": {
          "base_uri": "https://localhost:8080/"
        },
        "outputId": "e05a1220-d175-4c51-87f6-e6c39c25d9e8"
      },
      "execution_count": 149,
      "outputs": [
        {
          "output_type": "execute_result",
          "data": {
            "text/plain": [
              "array([[22, 24, 26, 28, 30],\n",
              "       [32, 34, 36, 38, 40],\n",
              "       [42, 44, 46, 48, 50],\n",
              "       [52, 54, 56, 58, 60],\n",
              "       [62, 64, 66, 68, 70]])"
            ]
          },
          "metadata": {},
          "execution_count": 149
        }
      ]
    },
    {
      "cell_type": "markdown",
      "source": [
        "**Deep and shallow copy**"
      ],
      "metadata": {
        "id": "DFZ4Q-InPSmT"
      }
    },
    {
      "cell_type": "code",
      "source": [
        "a=np.arange(1,21)\n",
        "a"
      ],
      "metadata": {
        "id": "nzzJx1JXPNI6",
        "colab": {
          "base_uri": "https://localhost:8080/"
        },
        "outputId": "73517098-651e-41c4-b678-a230cf0fac58"
      },
      "execution_count": 200,
      "outputs": [
        {
          "output_type": "execute_result",
          "data": {
            "text/plain": [
              "array([ 1,  2,  3,  4,  5,  6,  7,  8,  9, 10, 11, 12, 13, 14, 15, 16, 17,\n",
              "       18, 19, 20])"
            ]
          },
          "metadata": {},
          "execution_count": 200
        }
      ]
    },
    {
      "cell_type": "code",
      "source": [
        "slice=a[:5]\n",
        "slice=slice*10\n",
        "slice"
      ],
      "metadata": {
        "id": "yQH8XaqrPf88",
        "colab": {
          "base_uri": "https://localhost:8080/"
        },
        "outputId": "4a3b2cf4-92fb-4892-9d65-77424e5e49ad"
      },
      "execution_count": 201,
      "outputs": [
        {
          "output_type": "execute_result",
          "data": {
            "text/plain": [
              "array([10, 20, 30, 40, 50])"
            ]
          },
          "metadata": {},
          "execution_count": 201
        }
      ]
    },
    {
      "cell_type": "code",
      "source": [
        "a#slice portion me change hone se array me change nhi hua hai but agar hm list use karte tu change hota .\n",
        "# ye shallow copy hai  jisse main wale me change nhi ho rha hai\n",
        "#but agar hm b=a likh ke a me change kare tu a me changaes hoga"
      ],
      "metadata": {
        "id": "rp2eyw-JPqe0",
        "colab": {
          "base_uri": "https://localhost:8080/"
        },
        "outputId": "deee7287-672a-4a33-be5c-043382effaec"
      },
      "execution_count": 152,
      "outputs": [
        {
          "output_type": "execute_result",
          "data": {
            "text/plain": [
              "array([ 1,  2,  3,  4,  5,  6,  7,  8,  9, 10, 11, 12, 13, 14, 15, 16, 17,\n",
              "       18, 19, 20])"
            ]
          },
          "metadata": {},
          "execution_count": 152
        }
      ]
    },
    {
      "cell_type": "code",
      "source": [
        "#shallow copy me change karne se original (main) array me bhi change hota hai.\n",
        "# Deep copy me change karne se original me change nhi hot hai."
      ],
      "metadata": {
        "id": "zU_MTZoVP0yb"
      },
      "execution_count": 202,
      "outputs": []
    },
    {
      "cell_type": "markdown",
      "source": [
        "**Matrix Operations**"
      ],
      "metadata": {
        "id": "ob8GXb__RGaw"
      }
    },
    {
      "cell_type": "code",
      "source": [
        "A = np.array([[1, 2], [3, 4]])\n",
        "B = np.array([[5, 6], [7, 8]])\n"
      ],
      "metadata": {
        "id": "NxxnYN6wRM4u"
      },
      "execution_count": 153,
      "outputs": []
    },
    {
      "cell_type": "code",
      "source": [
        "A"
      ],
      "metadata": {
        "id": "m1bnWsD5RW0X",
        "colab": {
          "base_uri": "https://localhost:8080/"
        },
        "outputId": "75f0acd0-44f2-401e-d7d0-123f7997012d"
      },
      "execution_count": 154,
      "outputs": [
        {
          "output_type": "execute_result",
          "data": {
            "text/plain": [
              "array([[1, 2],\n",
              "       [3, 4]])"
            ]
          },
          "metadata": {},
          "execution_count": 154
        }
      ]
    },
    {
      "cell_type": "code",
      "source": [
        "B"
      ],
      "metadata": {
        "id": "VZbnf78tRXR5",
        "colab": {
          "base_uri": "https://localhost:8080/"
        },
        "outputId": "ccef4978-d6bd-4ff3-f904-62ad948a5967"
      },
      "execution_count": 155,
      "outputs": [
        {
          "output_type": "execute_result",
          "data": {
            "text/plain": [
              "array([[5, 6],\n",
              "       [7, 8]])"
            ]
          },
          "metadata": {},
          "execution_count": 155
        }
      ]
    },
    {
      "cell_type": "markdown",
      "source": [
        "**Matrix multiplication**"
      ],
      "metadata": {
        "id": "GTz3WyRHSWX7"
      }
    },
    {
      "cell_type": "code",
      "source": [
        "A*B# A and B multiply ho gya hai but wo matrix multiplication nhi hai."
      ],
      "metadata": {
        "id": "EsAk3k3iRZWB",
        "colab": {
          "base_uri": "https://localhost:8080/"
        },
        "outputId": "5c5d1c5d-ad39-46d9-c1d6-dac54e270ebc"
      },
      "execution_count": 203,
      "outputs": [
        {
          "output_type": "execute_result",
          "data": {
            "text/plain": [
              "array([[ 5, 12],\n",
              "       [21, 32]])"
            ]
          },
          "metadata": {},
          "execution_count": 203
        }
      ]
    },
    {
      "cell_type": "code",
      "source": [
        "#tu hme matrix multiplication ke liye dot product karna hoga\n",
        "A @ B #@ MATRIX MULTIPLICATION KAARTA HAI."
      ],
      "metadata": {
        "id": "Uxi2-5vbRfkw",
        "colab": {
          "base_uri": "https://localhost:8080/"
        },
        "outputId": "90c8a01e-a8ab-44c6-89a6-1767af12ccda"
      },
      "execution_count": 204,
      "outputs": [
        {
          "output_type": "execute_result",
          "data": {
            "text/plain": [
              "array([[19, 22],\n",
              "       [43, 50]])"
            ]
          },
          "metadata": {},
          "execution_count": 204
        }
      ]
    },
    {
      "cell_type": "code",
      "source": [
        "#2nd method\n",
        "np.dot(A,B)#Agar hm np.dot ka use kaare tu usse bhi ho jayega matrix multiplication."
      ],
      "metadata": {
        "id": "MILGMqh1R58a",
        "colab": {
          "base_uri": "https://localhost:8080/"
        },
        "outputId": "8d4fe10e-7ca2-4cd2-831c-beec33ec7ab7"
      },
      "execution_count": 205,
      "outputs": [
        {
          "output_type": "execute_result",
          "data": {
            "text/plain": [
              "array([[19, 22],\n",
              "       [43, 50]])"
            ]
          },
          "metadata": {},
          "execution_count": 205
        }
      ]
    },
    {
      "cell_type": "markdown",
      "source": [
        "**Transpose of a matrix**"
      ],
      "metadata": {
        "id": "hWvmGX9GSfej"
      }
    },
    {
      "cell_type": "code",
      "source": [
        "A"
      ],
      "metadata": {
        "id": "z1ZBfk2MSEmN",
        "colab": {
          "base_uri": "https://localhost:8080/"
        },
        "outputId": "db591aa0-b29f-4229-f1e3-fa3573f34e4c"
      },
      "execution_count": 159,
      "outputs": [
        {
          "output_type": "execute_result",
          "data": {
            "text/plain": [
              "array([[1, 2],\n",
              "       [3, 4]])"
            ]
          },
          "metadata": {},
          "execution_count": 159
        }
      ]
    },
    {
      "cell_type": "code",
      "source": [
        "A.T#.T for transpose"
      ],
      "metadata": {
        "id": "UUA6qFeFSphM",
        "colab": {
          "base_uri": "https://localhost:8080/"
        },
        "outputId": "4247bd61-d0d8-4a19-89e3-0c179a8432d9"
      },
      "execution_count": 160,
      "outputs": [
        {
          "output_type": "execute_result",
          "data": {
            "text/plain": [
              "array([[1, 3],\n",
              "       [2, 4]])"
            ]
          },
          "metadata": {},
          "execution_count": 160
        }
      ]
    },
    {
      "cell_type": "markdown",
      "source": [
        "**Advanced Array opertaion**"
      ],
      "metadata": {
        "id": "uiyGfbz8Swjw"
      }
    },
    {
      "cell_type": "code",
      "source": [
        "#stacking of two array we need to add vectors cant add matrix in stacking\n",
        "a = np.array([1, 2, 3, 4])\n",
        "b = np.array([5, 6, 7, 8])"
      ],
      "metadata": {
        "id": "wOfmirfZS1_3"
      },
      "execution_count": 206,
      "outputs": []
    },
    {
      "cell_type": "code",
      "source": [
        "np.vstack((a,b))#verically stack"
      ],
      "metadata": {
        "id": "Fr2KTEa6S_Bo",
        "colab": {
          "base_uri": "https://localhost:8080/"
        },
        "outputId": "2da17ee7-fc2c-4df3-c4af-ad9ee86fd3b1"
      },
      "execution_count": 207,
      "outputs": [
        {
          "output_type": "execute_result",
          "data": {
            "text/plain": [
              "array([[1, 2, 3, 4],\n",
              "       [5, 6, 7, 8]])"
            ]
          },
          "metadata": {},
          "execution_count": 207
        }
      ]
    },
    {
      "cell_type": "code",
      "source": [
        "np.hstack((a,b))#horixontal staack"
      ],
      "metadata": {
        "id": "QWuWxXmpTEjT",
        "colab": {
          "base_uri": "https://localhost:8080/"
        },
        "outputId": "6bd3fab7-2305-4bc1-a27e-dd1f74d2e302"
      },
      "execution_count": 209,
      "outputs": [
        {
          "output_type": "execute_result",
          "data": {
            "text/plain": [
              "array([1, 2, 3, 4, 5, 6, 7, 8])"
            ]
          },
          "metadata": {},
          "execution_count": 209
        }
      ]
    },
    {
      "cell_type": "code",
      "source": [
        "np.column_stack((a,b))#column stack"
      ],
      "metadata": {
        "id": "fKqSVX1XTiui",
        "colab": {
          "base_uri": "https://localhost:8080/"
        },
        "outputId": "b2d500bb-7a47-45bf-e41f-7d60257c0928"
      },
      "execution_count": 164,
      "outputs": [
        {
          "output_type": "execute_result",
          "data": {
            "text/plain": [
              "array([[1, 5],\n",
              "       [2, 6],\n",
              "       [3, 7],\n",
              "       [4, 8]])"
            ]
          },
          "metadata": {},
          "execution_count": 164
        }
      ]
    },
    {
      "cell_type": "markdown",
      "source": [
        "**Splitting Array**\n",
        "*Array splitting need an equal division*"
      ],
      "metadata": {
        "id": "abBy0LwQTx-z"
      }
    },
    {
      "cell_type": "code",
      "source": [
        "c = np.arange(16).reshape(4, 4)\n",
        "c"
      ],
      "metadata": {
        "id": "1dNlUt9hTwI4",
        "colab": {
          "base_uri": "https://localhost:8080/"
        },
        "outputId": "54f52cab-a5fd-4fba-8996-22a3559159da"
      },
      "execution_count": 211,
      "outputs": [
        {
          "output_type": "execute_result",
          "data": {
            "text/plain": [
              "array([[ 0,  1,  2,  3],\n",
              "       [ 4,  5,  6,  7],\n",
              "       [ 8,  9, 10, 11],\n",
              "       [12, 13, 14, 15]])"
            ]
          },
          "metadata": {},
          "execution_count": 211
        }
      ]
    },
    {
      "cell_type": "code",
      "source": [
        "np.hsplit(c,4)#horizontal split"
      ],
      "metadata": {
        "id": "MvNQlynCT57v",
        "colab": {
          "base_uri": "https://localhost:8080/"
        },
        "outputId": "fe53fc48-ef67-4b22-d355-6db83c48c813"
      },
      "execution_count": 215,
      "outputs": [
        {
          "output_type": "execute_result",
          "data": {
            "text/plain": [
              "[array([[ 0],\n",
              "        [ 4],\n",
              "        [ 8],\n",
              "        [12]]),\n",
              " array([[ 1],\n",
              "        [ 5],\n",
              "        [ 9],\n",
              "        [13]]),\n",
              " array([[ 2],\n",
              "        [ 6],\n",
              "        [10],\n",
              "        [14]]),\n",
              " array([[ 3],\n",
              "        [ 7],\n",
              "        [11],\n",
              "        [15]])]"
            ]
          },
          "metadata": {},
          "execution_count": 215
        }
      ]
    },
    {
      "cell_type": "code",
      "source": [
        "\n",
        "np.vsplit(c,2)# vertically split"
      ],
      "metadata": {
        "id": "tIQdj0rBT80Q",
        "colab": {
          "base_uri": "https://localhost:8080/"
        },
        "outputId": "8483db52-d6f5-4d66-e585-be590953ac64"
      },
      "execution_count": 167,
      "outputs": [
        {
          "output_type": "execute_result",
          "data": {
            "text/plain": [
              "[array([[0, 1, 2, 3],\n",
              "        [4, 5, 6, 7]]),\n",
              " array([[ 8,  9, 10, 11],\n",
              "        [12, 13, 14, 15]])]"
            ]
          },
          "metadata": {},
          "execution_count": 167
        }
      ]
    },
    {
      "cell_type": "code",
      "source": [
        "np.vsplit(c,3)# vertically split wrong divison for 16 array split does not result in an equal division"
      ],
      "metadata": {
        "id": "jCJp_XMAUAHA",
        "colab": {
          "base_uri": "https://localhost:8080/",
          "height": 287
        },
        "outputId": "02496284-ad04-44dd-e47f-b0f5233aaab8"
      },
      "execution_count": 168,
      "outputs": [
        {
          "output_type": "error",
          "ename": "ValueError",
          "evalue": "array split does not result in an equal division",
          "traceback": [
            "\u001b[0;31m---------------------------------------------------------------------------\u001b[0m",
            "\u001b[0;31mValueError\u001b[0m                                Traceback (most recent call last)",
            "\u001b[0;32m/tmp/ipython-input-968902586.py\u001b[0m in \u001b[0;36m<cell line: 0>\u001b[0;34m()\u001b[0m\n\u001b[0;32m----> 1\u001b[0;31m \u001b[0mnp\u001b[0m\u001b[0;34m.\u001b[0m\u001b[0mvsplit\u001b[0m\u001b[0;34m(\u001b[0m\u001b[0mc\u001b[0m\u001b[0;34m,\u001b[0m\u001b[0;36m3\u001b[0m\u001b[0;34m)\u001b[0m\u001b[0;31m# vertically split wrong divison for 16 array split does not result in an equal division\u001b[0m\u001b[0;34m\u001b[0m\u001b[0;34m\u001b[0m\u001b[0m\n\u001b[0m",
            "\u001b[0;32m/usr/local/lib/python3.11/dist-packages/numpy/lib/_shape_base_impl.py\u001b[0m in \u001b[0;36mvsplit\u001b[0;34m(ary, indices_or_sections)\u001b[0m\n\u001b[1;32m   1001\u001b[0m     \u001b[0;32mif\u001b[0m \u001b[0m_nx\u001b[0m\u001b[0;34m.\u001b[0m\u001b[0mndim\u001b[0m\u001b[0;34m(\u001b[0m\u001b[0mary\u001b[0m\u001b[0;34m)\u001b[0m \u001b[0;34m<\u001b[0m \u001b[0;36m2\u001b[0m\u001b[0;34m:\u001b[0m\u001b[0;34m\u001b[0m\u001b[0;34m\u001b[0m\u001b[0m\n\u001b[1;32m   1002\u001b[0m         \u001b[0;32mraise\u001b[0m \u001b[0mValueError\u001b[0m\u001b[0;34m(\u001b[0m\u001b[0;34m'vsplit only works on arrays of 2 or more dimensions'\u001b[0m\u001b[0;34m)\u001b[0m\u001b[0;34m\u001b[0m\u001b[0;34m\u001b[0m\u001b[0m\n\u001b[0;32m-> 1003\u001b[0;31m     \u001b[0;32mreturn\u001b[0m \u001b[0msplit\u001b[0m\u001b[0;34m(\u001b[0m\u001b[0mary\u001b[0m\u001b[0;34m,\u001b[0m \u001b[0mindices_or_sections\u001b[0m\u001b[0;34m,\u001b[0m \u001b[0;36m0\u001b[0m\u001b[0;34m)\u001b[0m\u001b[0;34m\u001b[0m\u001b[0;34m\u001b[0m\u001b[0m\n\u001b[0m\u001b[1;32m   1004\u001b[0m \u001b[0;34m\u001b[0m\u001b[0m\n\u001b[1;32m   1005\u001b[0m \u001b[0;34m\u001b[0m\u001b[0m\n",
            "\u001b[0;32m/usr/local/lib/python3.11/dist-packages/numpy/lib/_shape_base_impl.py\u001b[0m in \u001b[0;36msplit\u001b[0;34m(ary, indices_or_sections, axis)\u001b[0m\n\u001b[1;32m    872\u001b[0m         \u001b[0mN\u001b[0m \u001b[0;34m=\u001b[0m \u001b[0mary\u001b[0m\u001b[0;34m.\u001b[0m\u001b[0mshape\u001b[0m\u001b[0;34m[\u001b[0m\u001b[0maxis\u001b[0m\u001b[0;34m]\u001b[0m\u001b[0;34m\u001b[0m\u001b[0;34m\u001b[0m\u001b[0m\n\u001b[1;32m    873\u001b[0m         \u001b[0;32mif\u001b[0m \u001b[0mN\u001b[0m \u001b[0;34m%\u001b[0m \u001b[0msections\u001b[0m\u001b[0;34m:\u001b[0m\u001b[0;34m\u001b[0m\u001b[0;34m\u001b[0m\u001b[0m\n\u001b[0;32m--> 874\u001b[0;31m             raise ValueError(\n\u001b[0m\u001b[1;32m    875\u001b[0m                 'array split does not result in an equal division') from None\n\u001b[1;32m    876\u001b[0m     \u001b[0;32mreturn\u001b[0m \u001b[0marray_split\u001b[0m\u001b[0;34m(\u001b[0m\u001b[0mary\u001b[0m\u001b[0;34m,\u001b[0m \u001b[0mindices_or_sections\u001b[0m\u001b[0;34m,\u001b[0m \u001b[0maxis\u001b[0m\u001b[0;34m)\u001b[0m\u001b[0;34m\u001b[0m\u001b[0;34m\u001b[0m\u001b[0m\n",
            "\u001b[0;31mValueError\u001b[0m: array split does not result in an equal division"
          ]
        }
      ]
    },
    {
      "cell_type": "code",
      "source": [
        "a=np.vsplit (c,4)# vertically split\n",
        "a"
      ],
      "metadata": {
        "id": "4-FUNB00rAOp",
        "colab": {
          "base_uri": "https://localhost:8080/"
        },
        "outputId": "31a644f6-c3c6-4fea-94d3-c115be99ed36"
      },
      "execution_count": 216,
      "outputs": [
        {
          "output_type": "execute_result",
          "data": {
            "text/plain": [
              "[array([[0, 1, 2, 3]]),\n",
              " array([[4, 5, 6, 7]]),\n",
              " array([[ 8,  9, 10, 11]]),\n",
              " array([[12, 13, 14, 15]])]"
            ]
          },
          "metadata": {},
          "execution_count": 216
        }
      ]
    },
    {
      "cell_type": "code",
      "source": [
        "for i in a :\n",
        "  print (i)"
      ],
      "metadata": {
        "id": "c6YEFwX5qmq9",
        "colab": {
          "base_uri": "https://localhost:8080/"
        },
        "outputId": "3604cd52-107e-4cbf-ddf4-4ca91ba43067"
      },
      "execution_count": 170,
      "outputs": [
        {
          "output_type": "stream",
          "name": "stdout",
          "text": [
            "[[0 1 2 3]]\n",
            "[[4 5 6 7]]\n",
            "[[ 8  9 10 11]]\n",
            "[[12 13 14 15]]\n"
          ]
        }
      ]
    },
    {
      "cell_type": "markdown",
      "source": [
        "**Practicce questions**"
      ],
      "metadata": {
        "id": "VBBmt2_br6Nf"
      }
    },
    {
      "cell_type": "markdown",
      "source": [
        "*Valid Sudoku*"
      ],
      "metadata": {
        "id": "j-LL3pL0sBwB"
      }
    },
    {
      "cell_type": "code",
      "source": [
        "# row and column ka sum same hona chahiye and har block of 3x3 ka sum same hona chahiye\n",
        "s = np.array([\n",
        "    [5, 3, 4, 6, 7, 8, 9, 1, 2],\n",
        "    [6, 7, 2, 1, 9, 5, 3, 4, 8],\n",
        "    [1, 9, 8, 3, 4, 2, 5, 6, 7],\n",
        "\n",
        "    [8, 5, 9, 7, 6, 1, 4, 2, 3],\n",
        "    [4, 2, 6, 8, 5, 3, 7, 9, 1],\n",
        "    [7, 1, 3, 9, 2, 4, 8, 5, 6],\n",
        "\n",
        "    [9, 6, 1, 5, 3, 7, 2, 8, 4],\n",
        "    [2, 8, 7, 4, 1, 9, 6, 3, 5],\n",
        "    [3, 4, 5, 2, 8, 6, 1, 7, 9]\n",
        "])"
      ],
      "metadata": {
        "id": "TUC0fDfQsF7N"
      },
      "execution_count": 171,
      "outputs": []
    },
    {
      "cell_type": "code",
      "source": [
        "b=np.sum(s,axis=1)# row kw liye 1 and column ke liye zero so valid sudoku\n",
        "b==45# for true and false"
      ],
      "metadata": {
        "id": "r7SBRW2HsheG",
        "colab": {
          "base_uri": "https://localhost:8080/"
        },
        "outputId": "d674905a-bc19-4317-bc45-57c4c319ec9b"
      },
      "execution_count": 172,
      "outputs": [
        {
          "output_type": "execute_result",
          "data": {
            "text/plain": [
              "array([ True,  True,  True,  True,  True,  True,  True,  True,  True])"
            ]
          },
          "metadata": {},
          "execution_count": 172
        }
      ]
    },
    {
      "cell_type": "code",
      "source": [
        "c=np.sum(s,axis=0)# so row and column are same it is valid\n",
        "c==45"
      ],
      "metadata": {
        "id": "0OlQU4uutZve",
        "colab": {
          "base_uri": "https://localhost:8080/"
        },
        "outputId": "3a8244ce-7498-4705-90d2-03df281a4ea6"
      },
      "execution_count": 173,
      "outputs": [
        {
          "output_type": "execute_result",
          "data": {
            "text/plain": [
              "array([ True,  True,  True,  True,  True,  True,  True,  True,  True])"
            ]
          },
          "metadata": {},
          "execution_count": 173
        }
      ]
    },
    {
      "cell_type": "code",
      "source": [
        "s[0:3,0:3]"
      ],
      "metadata": {
        "id": "83JwvK1rtb0J",
        "colab": {
          "base_uri": "https://localhost:8080/"
        },
        "outputId": "9981e510-d9bb-42d3-f081-b09a58d99a1b"
      },
      "execution_count": 174,
      "outputs": [
        {
          "output_type": "execute_result",
          "data": {
            "text/plain": [
              "array([[5, 3, 4],\n",
              "       [6, 7, 2],\n",
              "       [1, 9, 8]])"
            ]
          },
          "metadata": {},
          "execution_count": 174
        }
      ]
    },
    {
      "cell_type": "code",
      "source": [
        "s[0:3,3:6]"
      ],
      "metadata": {
        "id": "vNM90EGyuBG_",
        "colab": {
          "base_uri": "https://localhost:8080/"
        },
        "outputId": "9c85a901-e611-427a-bb03-91a12d7743fb"
      },
      "execution_count": 175,
      "outputs": [
        {
          "output_type": "execute_result",
          "data": {
            "text/plain": [
              "array([[6, 7, 8],\n",
              "       [1, 9, 5],\n",
              "       [3, 4, 2]])"
            ]
          },
          "metadata": {},
          "execution_count": 175
        }
      ]
    },
    {
      "cell_type": "code",
      "source": [
        "\n",
        "s[0:3,6:9]"
      ],
      "metadata": {
        "id": "UQIgn4YTuCBT",
        "colab": {
          "base_uri": "https://localhost:8080/"
        },
        "outputId": "9de92588-61bf-4d55-977f-8cd9c82fd949"
      },
      "execution_count": 176,
      "outputs": [
        {
          "output_type": "execute_result",
          "data": {
            "text/plain": [
              "array([[9, 1, 2],\n",
              "       [3, 4, 8],\n",
              "       [5, 6, 7]])"
            ]
          },
          "metadata": {},
          "execution_count": 176
        }
      ]
    },
    {
      "cell_type": "code",
      "source": [
        "#2nd approach we can use for loop\n",
        "for i in range(0,9,3):\n",
        "  for j in range(0,9,3):\n",
        "    print(s[i:i+3,j:j+3])"
      ],
      "metadata": {
        "id": "kmb7CSmsuBrL",
        "colab": {
          "base_uri": "https://localhost:8080/"
        },
        "outputId": "e78e67a1-a7ec-49db-e398-d2d28d7a16cb"
      },
      "execution_count": 177,
      "outputs": [
        {
          "output_type": "stream",
          "name": "stdout",
          "text": [
            "[[5 3 4]\n",
            " [6 7 2]\n",
            " [1 9 8]]\n",
            "[[6 7 8]\n",
            " [1 9 5]\n",
            " [3 4 2]]\n",
            "[[9 1 2]\n",
            " [3 4 8]\n",
            " [5 6 7]]\n",
            "[[8 5 9]\n",
            " [4 2 6]\n",
            " [7 1 3]]\n",
            "[[7 6 1]\n",
            " [8 5 3]\n",
            " [9 2 4]]\n",
            "[[4 2 3]\n",
            " [7 9 1]\n",
            " [8 5 6]]\n",
            "[[9 6 1]\n",
            " [2 8 7]\n",
            " [3 4 5]]\n",
            "[[5 3 7]\n",
            " [4 1 9]\n",
            " [2 8 6]]\n",
            "[[2 8 4]\n",
            " [6 3 5]\n",
            " [1 7 9]]\n"
          ]
        }
      ]
    },
    {
      "cell_type": "code",
      "source": [
        "for i in range(0,9,3):\n",
        "  for j in range(0,9,3):\n",
        "    n= s[i:i+3,j:j+3]\n",
        "    print (n.sum())"
      ],
      "metadata": {
        "id": "GdvRit2Du6Rj",
        "colab": {
          "base_uri": "https://localhost:8080/"
        },
        "outputId": "5694169b-d30a-443a-f19e-e8a616cb37c1"
      },
      "execution_count": 178,
      "outputs": [
        {
          "output_type": "stream",
          "name": "stdout",
          "text": [
            "45\n",
            "45\n",
            "45\n",
            "45\n",
            "45\n",
            "45\n",
            "45\n",
            "45\n",
            "45\n"
          ]
        }
      ]
    },
    {
      "cell_type": "code",
      "source": [
        "import numpy as np\n",
        "\n",
        "# Columns: [Age, Math Marks, Science Marks]\n",
        "data = np.array([\n",
        "    [18, 85, 78],   # Student 1\n",
        "    [19, 92, 88],   # Student 2\n",
        "    [17, 76, 95],   # Student 3\n",
        "    [18, 65, 70],   # Student 4\n",
        "    [20, 90, 85]    # Student 5\n",
        "])"
      ],
      "metadata": {
        "id": "g4pvmar5sUlv"
      },
      "execution_count": 179,
      "outputs": []
    },
    {
      "cell_type": "code",
      "source": [
        "\n",
        "#Get the shape of the matrix.\n",
        "data.shape"
      ],
      "metadata": {
        "id": "zLPTlNZhv3_0",
        "colab": {
          "base_uri": "https://localhost:8080/"
        },
        "outputId": "211ef12a-fcc9-448f-99e9-1a66d01cdf49"
      },
      "execution_count": 180,
      "outputs": [
        {
          "output_type": "execute_result",
          "data": {
            "text/plain": [
              "(5, 3)"
            ]
          },
          "metadata": {},
          "execution_count": 180
        }
      ]
    },
    {
      "cell_type": "code",
      "source": [
        "#Find the average age of students.\n",
        "np.mean(data[5:,0])# agar blank rahne doge tu bhi le lega kast tak\n",
        "np.mean(data[:,0])# dono sahi hai"
      ],
      "metadata": {
        "id": "4zJWmZ4Nv7a5",
        "colab": {
          "base_uri": "https://localhost:8080/"
        },
        "outputId": "c9d876c4-eeee-4b83-f1f3-23a693210a04"
      },
      "execution_count": 181,
      "outputs": [
        {
          "output_type": "stream",
          "name": "stderr",
          "text": [
            "/usr/local/lib/python3.11/dist-packages/numpy/_core/fromnumeric.py:3596: RuntimeWarning: Mean of empty slice.\n",
            "  return _methods._mean(a, axis=axis, dtype=dtype,\n",
            "/usr/local/lib/python3.11/dist-packages/numpy/_core/_methods.py:138: RuntimeWarning: invalid value encountered in scalar divide\n",
            "  ret = ret.dtype.type(ret / rcount)\n"
          ]
        },
        {
          "output_type": "execute_result",
          "data": {
            "text/plain": [
              "np.float64(18.4)"
            ]
          },
          "metadata": {},
          "execution_count": 181
        }
      ]
    },
    {
      "cell_type": "code",
      "source": [
        "#Extract Math marks of all students.\n",
        "'''all rows are selected agar blank chode tu ye bhi comment hi hai'''\n",
        "data[ :,1]"
      ],
      "metadata": {
        "id": "CdqHwaQBv-4H",
        "colab": {
          "base_uri": "https://localhost:8080/"
        },
        "outputId": "ed78cb74-ef1f-4c60-fdae-850d604c1331"
      },
      "execution_count": 182,
      "outputs": [
        {
          "output_type": "execute_result",
          "data": {
            "text/plain": [
              "array([85, 92, 76, 65, 90])"
            ]
          },
          "metadata": {},
          "execution_count": 182
        }
      ]
    },
    {
      "cell_type": "code",
      "source": [
        "#Find the highest Science mark.\n",
        "data[ :,2]\n",
        "np.max(data[ :,2])"
      ],
      "metadata": {
        "id": "71HXfW7LwBtZ",
        "colab": {
          "base_uri": "https://localhost:8080/"
        },
        "outputId": "70133418-5b0e-4c22-f7cd-dc6e2e36bab4"
      },
      "execution_count": 183,
      "outputs": [
        {
          "output_type": "execute_result",
          "data": {
            "text/plain": [
              "np.int64(95)"
            ]
          },
          "metadata": {},
          "execution_count": 183
        }
      ]
    },
    {
      "cell_type": "code",
      "source": [
        "#Get details of the student who scored more than 90 in Math.\n",
        "data[:,1]>90"
      ],
      "metadata": {
        "id": "9-Z0xsR5wEFs",
        "colab": {
          "base_uri": "https://localhost:8080/"
        },
        "outputId": "e7f828c4-6f93-4210-cd73-04428ee91e0e"
      },
      "execution_count": 184,
      "outputs": [
        {
          "output_type": "execute_result",
          "data": {
            "text/plain": [
              "array([False,  True, False, False, False])"
            ]
          },
          "metadata": {},
          "execution_count": 184
        }
      ]
    },
    {
      "cell_type": "code",
      "source": [
        "#Get details of the student who scored more than 90 in Math.\n",
        "data[data[:,1]>90]"
      ],
      "metadata": {
        "id": "RD9wzP9tyfR5",
        "colab": {
          "base_uri": "https://localhost:8080/"
        },
        "outputId": "b89f42c8-9c65-4cb9-981c-a3273a284875"
      },
      "execution_count": 185,
      "outputs": [
        {
          "output_type": "execute_result",
          "data": {
            "text/plain": [
              "array([[19, 92, 88]])"
            ]
          },
          "metadata": {},
          "execution_count": 185
        }
      ]
    },
    {
      "cell_type": "code",
      "source": [
        "#Increase Math marks of all students by 5.\n",
        "data[:,1]+5\n"
      ],
      "metadata": {
        "id": "3TMrvNAHyJSf",
        "colab": {
          "base_uri": "https://localhost:8080/"
        },
        "outputId": "3ab8ee26-71ec-42ba-bdfb-5936108ccdcd"
      },
      "execution_count": 186,
      "outputs": [
        {
          "output_type": "execute_result",
          "data": {
            "text/plain": [
              "array([90, 97, 81, 70, 95])"
            ]
          },
          "metadata": {},
          "execution_count": 186
        }
      ]
    },
    {
      "cell_type": "code",
      "source": [
        "#Increase Math marks of all students by 5.\n",
        "data[:,1]=data[:,1]+5\n",
        "data"
      ],
      "metadata": {
        "id": "bIGewKZ-y24a",
        "colab": {
          "base_uri": "https://localhost:8080/"
        },
        "outputId": "f95278c1-0975-41b4-f6b4-427e41ba6572"
      },
      "execution_count": 187,
      "outputs": [
        {
          "output_type": "execute_result",
          "data": {
            "text/plain": [
              "array([[18, 90, 78],\n",
              "       [19, 97, 88],\n",
              "       [17, 81, 95],\n",
              "       [18, 70, 70],\n",
              "       [20, 95, 85]])"
            ]
          },
          "metadata": {},
          "execution_count": 187
        }
      ]
    },
    {
      "cell_type": "code",
      "source": [
        "\n",
        "#Find how many students are younger than 19.\n",
        "data[:,0]<19"
      ],
      "metadata": {
        "id": "anrk_SxSyLkA",
        "colab": {
          "base_uri": "https://localhost:8080/"
        },
        "outputId": "9019dc9d-c310-4217-c52b-944bd35fe7f1"
      },
      "execution_count": 188,
      "outputs": [
        {
          "output_type": "execute_result",
          "data": {
            "text/plain": [
              "array([ True, False,  True,  True, False])"
            ]
          },
          "metadata": {},
          "execution_count": 188
        }
      ]
    },
    {
      "cell_type": "code",
      "source": [
        "#Find how many students are younger than 19.\n",
        "len(data[data[:,0]<19])"
      ],
      "metadata": {
        "id": "y5KVgRVCzVlS",
        "colab": {
          "base_uri": "https://localhost:8080/"
        },
        "outputId": "758a5196-0789-4a0e-9f10-f8bf2e087081"
      },
      "execution_count": 189,
      "outputs": [
        {
          "output_type": "execute_result",
          "data": {
            "text/plain": [
              "3"
            ]
          },
          "metadata": {},
          "execution_count": 189
        }
      ]
    },
    {
      "cell_type": "code",
      "source": [
        "#Calculate the average marks in each subject (column-wise mean).\n",
        "np.mean(data,axis=0)"
      ],
      "metadata": {
        "id": "Pj-WH7T5yOQc",
        "colab": {
          "base_uri": "https://localhost:8080/"
        },
        "outputId": "dd83ea95-05cb-43e0-9656-82f983a9f902"
      },
      "execution_count": 190,
      "outputs": [
        {
          "output_type": "execute_result",
          "data": {
            "text/plain": [
              "array([18.4, 86.6, 83.2])"
            ]
          },
          "metadata": {},
          "execution_count": 190
        }
      ]
    },
    {
      "cell_type": "code",
      "source": [
        "#Get data of students who scored at least 80 in both subjects.\n",
        "data[data[:,1]>80& (data[:,2]>80)]\n"
      ],
      "metadata": {
        "id": "up5vRaIryREQ",
        "colab": {
          "base_uri": "https://localhost:8080/"
        },
        "outputId": "d11971e3-590f-4ac0-fd23-1586a63aa609"
      },
      "execution_count": 191,
      "outputs": [
        {
          "output_type": "execute_result",
          "data": {
            "text/plain": [
              "array([[18, 90, 78],\n",
              "       [19, 97, 88],\n",
              "       [17, 81, 95],\n",
              "       [18, 70, 70],\n",
              "       [20, 95, 85]])"
            ]
          },
          "metadata": {},
          "execution_count": 191
        }
      ]
    },
    {
      "cell_type": "code",
      "source": [
        "#Replace all Science marks < 75 with 0.\n",
        "data[data[:,2]<75,2]=0#[ pahle row and then column is selected]\n",
        "data"
      ],
      "metadata": {
        "id": "eLXS_racyWT2",
        "colab": {
          "base_uri": "https://localhost:8080/"
        },
        "outputId": "fc05c110-bcaa-4044-ec4c-1993d1c78425"
      },
      "execution_count": 192,
      "outputs": [
        {
          "output_type": "execute_result",
          "data": {
            "text/plain": [
              "array([[18, 90, 78],\n",
              "       [19, 97, 88],\n",
              "       [17, 81, 95],\n",
              "       [18, 70,  0],\n",
              "       [20, 95, 85]])"
            ]
          },
          "metadata": {},
          "execution_count": 192
        }
      ]
    },
    {
      "cell_type": "code",
      "source": [],
      "metadata": {
        "id": "nNr2rcMVm_l0"
      },
      "execution_count": 192,
      "outputs": []
    }
  ]
}