{
  "nbformat": 4,
  "nbformat_minor": 0,
  "metadata": {
    "colab": {
      "provenance": [],
      "authorship_tag": "ABX9TyOr8os8pXC8Q1I1jCf9HhGj",
      "include_colab_link": true
    },
    "kernelspec": {
      "name": "python3",
      "display_name": "Python 3"
    },
    "language_info": {
      "name": "python"
    }
  },
  "cells": [
    {
      "cell_type": "markdown",
      "metadata": {
        "id": "view-in-github",
        "colab_type": "text"
      },
      "source": [
        "<a href=\"https://colab.research.google.com/github/Ramandeep-Singh17/NumpyPracticeandNotes./blob/main/Numpy1.ipynb\" target=\"_parent\"><img src=\"https://colab.research.google.com/assets/colab-badge.svg\" alt=\"Open In Colab\"/></a>"
      ]
    },
    {
      "cell_type": "code",
      "source": [
        "import numpy as np# np aliyas short form, kuch bhi likh sakte jaruri nhi np\n"
      ],
      "metadata": {
        "id": "PuJXAimZMnor"
      },
      "execution_count": 217,
      "outputs": []
    },
    {
      "cell_type": "markdown",
      "source": [
        "list se array"
      ],
      "metadata": {
        "id": "rtjiHBYBNAUM"
      }
    },
    {
      "cell_type": "code",
      "source": [
        "np.array([1,2,3,4,5])\n"
      ],
      "metadata": {
        "colab": {
          "base_uri": "https://localhost:8080/"
        },
        "id": "kSDREGLPM6WS",
        "outputId": "98b04974-b8a7-433f-9338-fd1122afd45c"
      },
      "execution_count": 218,
      "outputs": [
        {
          "output_type": "execute_result",
          "data": {
            "text/plain": [
              "array([1, 2, 3, 4, 5])"
            ]
          },
          "metadata": {},
          "execution_count": 218
        }
      ]
    },
    {
      "cell_type": "markdown",
      "source": [
        "to save, array agar create hoga tu usmse array likha hua aayeaga"
      ],
      "metadata": {
        "id": "xhQ01W4YNMXT"
      }
    },
    {
      "cell_type": "code",
      "source": [
        "arr=np.array([1,2,3,4,5])\n",
        "arr"
      ],
      "metadata": {
        "colab": {
          "base_uri": "https://localhost:8080/"
        },
        "id": "MqXoNy6GNIuj",
        "outputId": "b79d2f7e-9d76-4158-f129-a83e6f6907bd"
      },
      "execution_count": 219,
      "outputs": [
        {
          "output_type": "execute_result",
          "data": {
            "text/plain": [
              "array([1, 2, 3, 4, 5])"
            ]
          },
          "metadata": {},
          "execution_count": 219
        }
      ]
    },
    {
      "cell_type": "code",
      "source": [
        "a=[1,2,3.5,\"hello\"]\n",
        "a#print ke liye"
      ],
      "metadata": {
        "colab": {
          "base_uri": "https://localhost:8080/"
        },
        "id": "Zcwg6RFrNS-H",
        "outputId": "f5c181b0-0b7f-41b4-a1e6-7c9369745431"
      },
      "execution_count": 220,
      "outputs": [
        {
          "output_type": "execute_result",
          "data": {
            "text/plain": [
              "[1, 2, 3.5, 'hello']"
            ]
          },
          "metadata": {},
          "execution_count": 220
        }
      ]
    },
    {
      "cell_type": "code",
      "source": [
        "np.array(a)#list pass kar rhe hai\n"
      ],
      "metadata": {
        "colab": {
          "base_uri": "https://localhost:8080/"
        },
        "id": "JWA2zH2wNtlM",
        "outputId": "dc85a9dc-965f-40c7-96eb-641510c3431e"
      },
      "execution_count": 221,
      "outputs": [
        {
          "output_type": "execute_result",
          "data": {
            "text/plain": [
              "array(['1', '2', '3.5', 'hello'], dtype='<U32')"
            ]
          },
          "metadata": {},
          "execution_count": 221
        }
      ]
    },
    {
      "cell_type": "markdown",
      "source": [
        "**Iska mtlb hai ki sare data types u32 mtlb string me convert ho gaye hai\n",
        "** **Aagr hm string pass nhi kiye tu given example ke hisab se sab float ban jayega**"
      ],
      "metadata": {
        "id": "hhbeJWZVN54P"
      }
    },
    {
      "cell_type": "code",
      "source": [
        "l=[[1,2,3],[4,5,6],[7,8,9]]\n",
        "l"
      ],
      "metadata": {
        "colab": {
          "base_uri": "https://localhost:8080/"
        },
        "id": "aDdjIiY7OIjj",
        "outputId": "90b8ea4c-0a91-4bd4-bdc0-4a1cf89eb899"
      },
      "execution_count": 223,
      "outputs": [
        {
          "output_type": "execute_result",
          "data": {
            "text/plain": [
              "[[1, 2, 3], [4, 5, 6], [7, 8, 9]]"
            ]
          },
          "metadata": {},
          "execution_count": 223
        }
      ]
    },
    {
      "cell_type": "markdown",
      "source": [
        "Conversion of list to matrix.\n",
        " *2d array se uppper sab tensor hai isiliye tensor flow*"
      ],
      "metadata": {
        "id": "6QUL4_joPbdZ"
      }
    },
    {
      "cell_type": "code",
      "source": [
        "np.array(l)#Agar hm niche l likh de tu wo phirse list ke hisab se kaam karne lagega\n",
        "\n"
      ],
      "metadata": {
        "colab": {
          "base_uri": "https://localhost:8080/"
        },
        "id": "u-Z_BDqcPhn-",
        "outputId": "95c7bfaa-f599-421d-bd69-dfd0cb443945"
      },
      "execution_count": 224,
      "outputs": [
        {
          "output_type": "execute_result",
          "data": {
            "text/plain": [
              "array([[1, 2, 3],\n",
              "       [4, 5, 6],\n",
              "       [7, 8, 9]])"
            ]
          },
          "metadata": {},
          "execution_count": 224
        }
      ]
    },
    {
      "cell_type": "markdown",
      "source": [
        "**`Array Generating function`**\n",
        "\n",
        "\n",
        "\n"
      ],
      "metadata": {
        "id": "G2UZ72unQHKY"
      }
    },
    {
      "cell_type": "code",
      "source": [
        "np.arange(1,11)#1 se 10 tak generate ho jayega, ye range function hi hai but array ke liye isliye starting me \"a\"."
      ],
      "metadata": {
        "colab": {
          "base_uri": "https://localhost:8080/"
        },
        "id": "GZN2r_TXP004",
        "outputId": "4c098040-2cad-4484-b4f0-3a7ee75bbafb"
      },
      "execution_count": 225,
      "outputs": [
        {
          "output_type": "execute_result",
          "data": {
            "text/plain": [
              "array([ 1,  2,  3,  4,  5,  6,  7,  8,  9, 10])"
            ]
          },
          "metadata": {},
          "execution_count": 225
        }
      ]
    },
    {
      "cell_type": "code",
      "source": [
        "arr=np.arange(1,11,2)# do ke gap me generate hoga.\n",
        "arr#save karne ke liye"
      ],
      "metadata": {
        "colab": {
          "base_uri": "https://localhost:8080/"
        },
        "id": "Lt4qQIYiRAJt",
        "outputId": "f08778f6-8586-4eaf-b001-8be2a3843c2a"
      },
      "execution_count": 226,
      "outputs": [
        {
          "output_type": "execute_result",
          "data": {
            "text/plain": [
              "array([1, 3, 5, 7, 9])"
            ]
          },
          "metadata": {},
          "execution_count": 226
        }
      ]
    },
    {
      "cell_type": "code",
      "source": [
        "# to genarte zeros\n",
        "arr=np.zeros(6)\n",
        "arr#yaha print ke liye arr kykui = karke"
      ],
      "metadata": {
        "colab": {
          "base_uri": "https://localhost:8080/"
        },
        "id": "nfm2Q-8HRQ9W",
        "outputId": "427aafa4-fac1-41a4-fe88-66b9542c2ac7"
      },
      "execution_count": 227,
      "outputs": [
        {
          "output_type": "execute_result",
          "data": {
            "text/plain": [
              "array([0., 0., 0., 0., 0., 0.])"
            ]
          },
          "metadata": {},
          "execution_count": 227
        }
      ]
    },
    {
      "cell_type": "code",
      "source": [
        "#matrix of zeros\n",
        "arr=np.zeros((4,8))\n",
        "arr#yaha print ke liye arr kykui = karke"
      ],
      "metadata": {
        "colab": {
          "base_uri": "https://localhost:8080/"
        },
        "id": "fSTDGi5iRfGB",
        "outputId": "7f4b69ff-a4d6-4062-b6b1-53b521890bc6"
      },
      "execution_count": 161,
      "outputs": [
        {
          "output_type": "execute_result",
          "data": {
            "text/plain": [
              "array([[0., 0., 0., 0., 0., 0., 0., 0.],\n",
              "       [0., 0., 0., 0., 0., 0., 0., 0.],\n",
              "       [0., 0., 0., 0., 0., 0., 0., 0.],\n",
              "       [0., 0., 0., 0., 0., 0., 0., 0.]])"
            ]
          },
          "metadata": {},
          "execution_count": 161
        }
      ]
    },
    {
      "cell_type": "code",
      "source": [
        "arr=np.ones((4,8))\n",
        "arr"
      ],
      "metadata": {
        "colab": {
          "base_uri": "https://localhost:8080/"
        },
        "id": "OxWnfLflSSRs",
        "outputId": "bc8b7018-b13b-4ced-c19c-ac19baa97c7f"
      },
      "execution_count": 162,
      "outputs": [
        {
          "output_type": "execute_result",
          "data": {
            "text/plain": [
              "array([[1., 1., 1., 1., 1., 1., 1., 1.],\n",
              "       [1., 1., 1., 1., 1., 1., 1., 1.],\n",
              "       [1., 1., 1., 1., 1., 1., 1., 1.],\n",
              "       [1., 1., 1., 1., 1., 1., 1., 1.]])"
            ]
          },
          "metadata": {},
          "execution_count": 162
        }
      ]
    },
    {
      "cell_type": "markdown",
      "source": [
        "linspace or liner spacing. Return evenly spaced numbers over a specified interval."
      ],
      "metadata": {
        "id": "20Yl1G9ZSjAI"
      }
    },
    {
      "cell_type": "code",
      "source": [
        "arr= np.linspace(1,5,2)#hme 1 aur 5 ke bich me 2 number chahiye with equal space\n",
        "arr"
      ],
      "metadata": {
        "colab": {
          "base_uri": "https://localhost:8080/"
        },
        "id": "PLK8UTrfSowI",
        "outputId": "2db8251c-4ee0-4cc2-b6e1-dbc7c0914f57"
      },
      "execution_count": 163,
      "outputs": [
        {
          "output_type": "execute_result",
          "data": {
            "text/plain": [
              "array([1., 5.])"
            ]
          },
          "metadata": {},
          "execution_count": 163
        }
      ]
    },
    {
      "cell_type": "code",
      "source": [
        "arr= np.linspace(1,5,3)#hme 1 aur 5 ke bich me 3number chahiye with equal space\n",
        "arr"
      ],
      "metadata": {
        "colab": {
          "base_uri": "https://localhost:8080/"
        },
        "id": "cAkbi1DMTcdG",
        "outputId": "475eed93-3918-44a5-9a6a-632f442395b0"
      },
      "execution_count": 164,
      "outputs": [
        {
          "output_type": "execute_result",
          "data": {
            "text/plain": [
              "array([1., 3., 5.])"
            ]
          },
          "metadata": {},
          "execution_count": 164
        }
      ]
    },
    {
      "cell_type": "code",
      "source": [
        "arr= np.linspace(1,5,8)#hme 1 aur 5 ke bich me 8 number chahiye with equal space\n",
        "arr"
      ],
      "metadata": {
        "colab": {
          "base_uri": "https://localhost:8080/"
        },
        "id": "UWF9gP5aTiQY",
        "outputId": "9903f20c-6658-43c5-a245-9a913d081330"
      },
      "execution_count": 165,
      "outputs": [
        {
          "output_type": "execute_result",
          "data": {
            "text/plain": [
              "array([1.        , 1.57142857, 2.14285714, 2.71428571, 3.28571429,\n",
              "       3.85714286, 4.42857143, 5.        ])"
            ]
          },
          "metadata": {},
          "execution_count": 165
        }
      ]
    },
    {
      "cell_type": "code",
      "source": [
        "arr= np.linspace(1,10,100)#hme 1 aur 5 ke bich me 100 number chahiye with equal space\n",
        "arr"
      ],
      "metadata": {
        "colab": {
          "base_uri": "https://localhost:8080/"
        },
        "id": "OtRc7MLATrDT",
        "outputId": "589eaf17-040c-4fcc-b0f4-97bb1bac90a8"
      },
      "execution_count": 232,
      "outputs": [
        {
          "output_type": "execute_result",
          "data": {
            "text/plain": [
              "array([ 1.        ,  1.09090909,  1.18181818,  1.27272727,  1.36363636,\n",
              "        1.45454545,  1.54545455,  1.63636364,  1.72727273,  1.81818182,\n",
              "        1.90909091,  2.        ,  2.09090909,  2.18181818,  2.27272727,\n",
              "        2.36363636,  2.45454545,  2.54545455,  2.63636364,  2.72727273,\n",
              "        2.81818182,  2.90909091,  3.        ,  3.09090909,  3.18181818,\n",
              "        3.27272727,  3.36363636,  3.45454545,  3.54545455,  3.63636364,\n",
              "        3.72727273,  3.81818182,  3.90909091,  4.        ,  4.09090909,\n",
              "        4.18181818,  4.27272727,  4.36363636,  4.45454545,  4.54545455,\n",
              "        4.63636364,  4.72727273,  4.81818182,  4.90909091,  5.        ,\n",
              "        5.09090909,  5.18181818,  5.27272727,  5.36363636,  5.45454545,\n",
              "        5.54545455,  5.63636364,  5.72727273,  5.81818182,  5.90909091,\n",
              "        6.        ,  6.09090909,  6.18181818,  6.27272727,  6.36363636,\n",
              "        6.45454545,  6.54545455,  6.63636364,  6.72727273,  6.81818182,\n",
              "        6.90909091,  7.        ,  7.09090909,  7.18181818,  7.27272727,\n",
              "        7.36363636,  7.45454545,  7.54545455,  7.63636364,  7.72727273,\n",
              "        7.81818182,  7.90909091,  8.        ,  8.09090909,  8.18181818,\n",
              "        8.27272727,  8.36363636,  8.45454545,  8.54545455,  8.63636364,\n",
              "        8.72727273,  8.81818182,  8.90909091,  9.        ,  9.09090909,\n",
              "        9.18181818,  9.27272727,  9.36363636,  9.45454545,  9.54545455,\n",
              "        9.63636364,  9.72727273,  9.81818182,  9.90909091, 10.        ])"
            ]
          },
          "metadata": {},
          "execution_count": 232
        }
      ]
    },
    {
      "cell_type": "markdown",
      "source": [
        "\n",
        "*RANDOM GENERATING FUNCTION*.  \n",
        " Ise hm random library with the help of rand function se banate hai."
      ],
      "metadata": {
        "id": "nP5nJ5f6USTq"
      }
    },
    {
      "cell_type": "code",
      "source": [
        "np.random.rand(5)"
      ],
      "metadata": {
        "colab": {
          "base_uri": "https://localhost:8080/"
        },
        "id": "hbu15mf9UcU4",
        "outputId": "764422eb-f22e-4fad-e474-c796c8d3ec1b"
      },
      "execution_count": 167,
      "outputs": [
        {
          "output_type": "execute_result",
          "data": {
            "text/plain": [
              "array([0.94541066, 0.89359729, 0.96450944, 0.13637848, 0.16980317])"
            ]
          },
          "metadata": {},
          "execution_count": 167
        }
      ]
    },
    {
      "cell_type": "code",
      "source": [
        "np.random.rand(20)# ye matrix nhi hai isme bas ek  hi [] agar do hota [[]] matrix hota hai sare value\n",
        "#0-1 ke beach me ahi ye normalization hai\n",
        "#agar standarization hoga tu value -3 se lekar +3 tak rahega\n"
      ],
      "metadata": {
        "colab": {
          "base_uri": "https://localhost:8080/"
        },
        "id": "obleJmlEVgvc",
        "outputId": "72adacdc-5cff-4ac2-c9c0-b788cd7c0cfd"
      },
      "execution_count": 168,
      "outputs": [
        {
          "output_type": "execute_result",
          "data": {
            "text/plain": [
              "array([0.68006766, 0.49044431, 0.18750914, 0.72840741, 0.36001202,\n",
              "       0.6961167 , 0.71996924, 0.03740479, 0.63318291, 0.68730421,\n",
              "       0.62773053, 0.19829453, 0.03145609, 0.95862581, 0.37538663,\n",
              "       0.95296957, 0.10501597, 0.0364164 , 0.39687689, 0.68697696])"
            ]
          },
          "metadata": {},
          "execution_count": 168
        }
      ]
    },
    {
      "cell_type": "code",
      "source": [
        "np.random.randn(20)# agar hm randn likhe tu standarization value aayeagi\n",
        "#agar standarization hoga tu value -3 se lekar +3 tak rahega\n"
      ],
      "metadata": {
        "colab": {
          "base_uri": "https://localhost:8080/"
        },
        "id": "4ZFkz2uAWdNO",
        "outputId": "f3c6034d-d2d1-4242-b61b-7b1324f9ec8d"
      },
      "execution_count": 169,
      "outputs": [
        {
          "output_type": "execute_result",
          "data": {
            "text/plain": [
              "array([-0.86300943, -0.20791992,  0.01313673,  0.47555687, -0.01773264,\n",
              "       -1.13991618, -0.65801802, -0.42939256,  1.88651976,  1.49510495,\n",
              "        1.43359738,  0.76871394,  0.8177659 , -0.9451311 ,  0.2656231 ,\n",
              "        0.39333288, -0.47557819,  1.25014834,  0.24446443, -0.24892363])"
            ]
          },
          "metadata": {},
          "execution_count": 169
        }
      ]
    },
    {
      "cell_type": "code",
      "source": [
        "np.random.randint(10,20,5)#randint bata rha hai 10-20 ke beach me koi 5 random numbers and number repeat ho sakte hai."
      ],
      "metadata": {
        "colab": {
          "base_uri": "https://localhost:8080/"
        },
        "id": "JsMJrf6MXnck",
        "outputId": "12cb143a-9392-42ec-a237-9877617f0856"
      },
      "execution_count": 170,
      "outputs": [
        {
          "output_type": "execute_result",
          "data": {
            "text/plain": [
              "array([18, 18, 17, 10, 11])"
            ]
          },
          "metadata": {},
          "execution_count": 170
        }
      ]
    },
    {
      "cell_type": "markdown",
      "source": [
        " **Array Attributes**\n",
        " attrubutes are variable defined inside a class\n",
        " methods are function defined insude a class"
      ],
      "metadata": {
        "id": "E3ixFipQYP9M"
      }
    },
    {
      "cell_type": "code",
      "source": [
        "#attributes ko call nhi karte hai direct likhte hai but methods ko call karte hai.\n",
        "arr=np.array([[1,2,3],[4,5,6],[7,8,9]])\n",
        "arr"
      ],
      "metadata": {
        "colab": {
          "base_uri": "https://localhost:8080/"
        },
        "id": "81IremQhYVwQ",
        "outputId": "dbaefd58-2dc0-4b1c-97d0-06917842971e"
      },
      "execution_count": 171,
      "outputs": [
        {
          "output_type": "execute_result",
          "data": {
            "text/plain": [
              "array([[1, 2, 3],\n",
              "       [4, 5, 6],\n",
              "       [7, 8, 9]])"
            ]
          },
          "metadata": {},
          "execution_count": 171
        }
      ]
    },
    {
      "cell_type": "code",
      "source": [
        "arr.shape# shape attribute hai isme bracket nhi lagega agar lagaya tu galt ho jayeaga.\n"
      ],
      "metadata": {
        "colab": {
          "base_uri": "https://localhost:8080/"
        },
        "id": "BgxSYXIBampk",
        "outputId": "374bc6c1-9c3b-4529-a03c-5f1137118316"
      },
      "execution_count": 172,
      "outputs": [
        {
          "output_type": "execute_result",
          "data": {
            "text/plain": [
              "(3, 3)"
            ]
          },
          "metadata": {},
          "execution_count": 172
        }
      ]
    },
    {
      "cell_type": "code",
      "source": [
        "arr.size"
      ],
      "metadata": {
        "colab": {
          "base_uri": "https://localhost:8080/"
        },
        "id": "0fT30AmGawc5",
        "outputId": "8fbd8e9e-9f23-47ed-f0b9-dcece9a333da"
      },
      "execution_count": 173,
      "outputs": [
        {
          "output_type": "execute_result",
          "data": {
            "text/plain": [
              "9"
            ]
          },
          "metadata": {},
          "execution_count": 173
        }
      ]
    },
    {
      "cell_type": "code",
      "source": [
        "arr.dtype# data type ke jo integer hai.\n"
      ],
      "metadata": {
        "colab": {
          "base_uri": "https://localhost:8080/"
        },
        "id": "kv_1Jd3ba0L7",
        "outputId": "c86fa6bc-e2a8-4c5d-ff3b-058750a6bb9d"
      },
      "execution_count": 174,
      "outputs": [
        {
          "output_type": "execute_result",
          "data": {
            "text/plain": [
              "dtype('int64')"
            ]
          },
          "metadata": {},
          "execution_count": 174
        }
      ]
    },
    {
      "cell_type": "markdown",
      "source": [
        "**Array Methods**"
      ],
      "metadata": {
        "id": "4sMLMKkCbE08"
      }
    },
    {
      "cell_type": "code",
      "source": [
        "arr"
      ],
      "metadata": {
        "colab": {
          "base_uri": "https://localhost:8080/"
        },
        "id": "MfI-oCvqbJid",
        "outputId": "4ad7ac56-618a-44ad-8d0f-c021c22fa3c3"
      },
      "execution_count": 175,
      "outputs": [
        {
          "output_type": "execute_result",
          "data": {
            "text/plain": [
              "array([[1, 2, 3],\n",
              "       [4, 5, 6],\n",
              "       [7, 8, 9]])"
            ]
          },
          "metadata": {},
          "execution_count": 175
        }
      ]
    },
    {
      "cell_type": "code",
      "source": [
        "arr.min()"
      ],
      "metadata": {
        "colab": {
          "base_uri": "https://localhost:8080/"
        },
        "id": "dpz6XlV7bQdO",
        "outputId": "da25030c-a73e-4ce0-8629-b246bc5d29ce"
      },
      "execution_count": 176,
      "outputs": [
        {
          "output_type": "execute_result",
          "data": {
            "text/plain": [
              "np.int64(1)"
            ]
          },
          "metadata": {},
          "execution_count": 176
        }
      ]
    },
    {
      "cell_type": "code",
      "source": [
        "arr.max()"
      ],
      "metadata": {
        "colab": {
          "base_uri": "https://localhost:8080/"
        },
        "id": "gPz0GRWnbSLE",
        "outputId": "0a4df8d4-9f87-4988-ec5c-266653844f9c"
      },
      "execution_count": 177,
      "outputs": [
        {
          "output_type": "execute_result",
          "data": {
            "text/plain": [
              "np.int64(9)"
            ]
          },
          "metadata": {},
          "execution_count": 177
        }
      ]
    },
    {
      "cell_type": "code",
      "source": [
        "arr.sum()"
      ],
      "metadata": {
        "colab": {
          "base_uri": "https://localhost:8080/"
        },
        "id": "acGniNkBbV4U",
        "outputId": "9e000dc8-8e2f-4b69-d04e-0b4c3936390a"
      },
      "execution_count": 178,
      "outputs": [
        {
          "output_type": "execute_result",
          "data": {
            "text/plain": [
              "np.int64(45)"
            ]
          },
          "metadata": {},
          "execution_count": 178
        }
      ]
    },
    {
      "cell_type": "code",
      "source": [
        "#row column sum karne ke liye\n",
        "arr.sum(axis=0)#column sum\n"
      ],
      "metadata": {
        "colab": {
          "base_uri": "https://localhost:8080/"
        },
        "id": "vexs2rlUbYhm",
        "outputId": "abfb73c7-0752-425e-f42d-4aefd6a1064d"
      },
      "execution_count": 179,
      "outputs": [
        {
          "output_type": "execute_result",
          "data": {
            "text/plain": [
              "array([12, 15, 18])"
            ]
          },
          "metadata": {},
          "execution_count": 179
        }
      ]
    },
    {
      "cell_type": "code",
      "source": [
        "arr.sum(axis=1)#row sum"
      ],
      "metadata": {
        "colab": {
          "base_uri": "https://localhost:8080/"
        },
        "id": "cHYnCCcybws0",
        "outputId": "e9a1fe29-38a1-4e04-8220-459eb746d774"
      },
      "execution_count": 180,
      "outputs": [
        {
          "output_type": "execute_result",
          "data": {
            "text/plain": [
              "array([ 6, 15, 24])"
            ]
          },
          "metadata": {},
          "execution_count": 180
        }
      ]
    },
    {
      "cell_type": "code",
      "source": [
        "arr.mean()"
      ],
      "metadata": {
        "colab": {
          "base_uri": "https://localhost:8080/"
        },
        "id": "kqLdrijrb2J3",
        "outputId": "ddc5cc42-1d42-401e-cd57-f6ec79d5c970"
      },
      "execution_count": 181,
      "outputs": [
        {
          "output_type": "execute_result",
          "data": {
            "text/plain": [
              "np.float64(5.0)"
            ]
          },
          "metadata": {},
          "execution_count": 181
        }
      ]
    },
    {
      "cell_type": "code",
      "source": [
        "arr.std()#standard deviation"
      ],
      "metadata": {
        "colab": {
          "base_uri": "https://localhost:8080/"
        },
        "id": "KXxVmZSJcEGh",
        "outputId": "7d310cbb-80cc-4e99-8804-50fe6e37e4e6"
      },
      "execution_count": 182,
      "outputs": [
        {
          "output_type": "execute_result",
          "data": {
            "text/plain": [
              "np.float64(2.581988897471611)"
            ]
          },
          "metadata": {},
          "execution_count": 182
        }
      ]
    },
    {
      "cell_type": "code",
      "source": [
        "arr.argmax()#Return highest index value which is 9 in thid case at 8 position starting from zero"
      ],
      "metadata": {
        "colab": {
          "base_uri": "https://localhost:8080/"
        },
        "id": "jk-FYPBwcL-6",
        "outputId": "8d6bf4d5-bd00-4e9a-e90c-0d5173acd8df"
      },
      "execution_count": 183,
      "outputs": [
        {
          "output_type": "execute_result",
          "data": {
            "text/plain": [
              "np.int64(8)"
            ]
          },
          "metadata": {},
          "execution_count": 183
        }
      ]
    },
    {
      "cell_type": "markdown",
      "source": [
        "**Reshaping and Resizing**"
      ],
      "metadata": {
        "id": "Q8Qi8N0Ncmrd"
      }
    },
    {
      "cell_type": "code",
      "source": [
        "np.arange(1,31)#abhi ye call ho rha hai but store nhi"
      ],
      "metadata": {
        "colab": {
          "base_uri": "https://localhost:8080/"
        },
        "id": "oQmue5Uxcr0g",
        "outputId": "d8bc92a9-5176-4af1-9cac-2bfdd0c1f5bf"
      },
      "execution_count": 184,
      "outputs": [
        {
          "output_type": "execute_result",
          "data": {
            "text/plain": [
              "array([ 1,  2,  3,  4,  5,  6,  7,  8,  9, 10, 11, 12, 13, 14, 15, 16, 17,\n",
              "       18, 19, 20, 21, 22, 23, 24, 25, 26, 27, 28, 29, 30])"
            ]
          },
          "metadata": {},
          "execution_count": 184
        }
      ]
    },
    {
      "cell_type": "code",
      "source": [
        "arr=np.arange(1,31)#abhi ye store  ho rha hai but call nhi"
      ],
      "metadata": {
        "id": "zunGPdzjcyXB"
      },
      "execution_count": 185,
      "outputs": []
    },
    {
      "cell_type": "code",
      "source": [
        "arr=np.arange(1,31)#abhi ye call ho rha hai and store bhi dono\n",
        "arr"
      ],
      "metadata": {
        "colab": {
          "base_uri": "https://localhost:8080/"
        },
        "id": "h7hXV_PsdDdp",
        "outputId": "cc29dfb6-65c7-4e99-f430-4aa6668a2d92"
      },
      "execution_count": 186,
      "outputs": [
        {
          "output_type": "execute_result",
          "data": {
            "text/plain": [
              "array([ 1,  2,  3,  4,  5,  6,  7,  8,  9, 10, 11, 12, 13, 14, 15, 16, 17,\n",
              "       18, 19, 20, 21, 22, 23, 24, 25, 26, 27, 28, 29, 30])"
            ]
          },
          "metadata": {},
          "execution_count": 186
        }
      ]
    },
    {
      "cell_type": "code",
      "source": [
        "arr=arr.reshape(6,5)#reshaping me dhyan dena hai ki element count bhi same hona chahiye warna nhi ho payeaga.\n",
        "arr"
      ],
      "metadata": {
        "colab": {
          "base_uri": "https://localhost:8080/"
        },
        "id": "J-GpDtfvdIno",
        "outputId": "72a73925-6d5f-4129-8f25-6552e7887ef8"
      },
      "execution_count": 187,
      "outputs": [
        {
          "output_type": "execute_result",
          "data": {
            "text/plain": [
              "array([[ 1,  2,  3,  4,  5],\n",
              "       [ 6,  7,  8,  9, 10],\n",
              "       [11, 12, 13, 14, 15],\n",
              "       [16, 17, 18, 19, 20],\n",
              "       [21, 22, 23, 24, 25],\n",
              "       [26, 27, 28, 29, 30]])"
            ]
          },
          "metadata": {},
          "execution_count": 187
        }
      ]
    },
    {
      "cell_type": "code",
      "source": [
        "arr"
      ],
      "metadata": {
        "colab": {
          "base_uri": "https://localhost:8080/"
        },
        "id": "jSlNmKALeA-J",
        "outputId": "65b65861-8164-4bc4-d2b6-f401e4cf5a9a"
      },
      "execution_count": 188,
      "outputs": [
        {
          "output_type": "execute_result",
          "data": {
            "text/plain": [
              "array([[ 1,  2,  3,  4,  5],\n",
              "       [ 6,  7,  8,  9, 10],\n",
              "       [11, 12, 13, 14, 15],\n",
              "       [16, 17, 18, 19, 20],\n",
              "       [21, 22, 23, 24, 25],\n",
              "       [26, 27, 28, 29, 30]])"
            ]
          },
          "metadata": {},
          "execution_count": 188
        }
      ]
    },
    {
      "cell_type": "markdown",
      "source": [
        "***NUMPY indexing and slicing of vectors***"
      ],
      "metadata": {
        "id": "Ed0pQvuIj-HZ"
      }
    },
    {
      "cell_type": "code",
      "source": [
        "arr=np.arange(11,21)\n",
        "arr"
      ],
      "metadata": {
        "colab": {
          "base_uri": "https://localhost:8080/"
        },
        "id": "NZwLU5flkGJJ",
        "outputId": "9c624ffe-2b38-4dbf-9eb8-23b5adcf84fb"
      },
      "execution_count": 189,
      "outputs": [
        {
          "output_type": "execute_result",
          "data": {
            "text/plain": [
              "array([11, 12, 13, 14, 15, 16, 17, 18, 19, 20])"
            ]
          },
          "metadata": {},
          "execution_count": 189
        }
      ]
    },
    {
      "cell_type": "code",
      "source": [
        "arr[6]"
      ],
      "metadata": {
        "colab": {
          "base_uri": "https://localhost:8080/"
        },
        "id": "fOsD-5_CkYKp",
        "outputId": "ef716fe5-16f0-48b1-baf4-75604c262d16"
      },
      "execution_count": 190,
      "outputs": [
        {
          "output_type": "execute_result",
          "data": {
            "text/plain": [
              "np.int64(17)"
            ]
          },
          "metadata": {},
          "execution_count": 190
        }
      ]
    },
    {
      "cell_type": "code",
      "source": [
        "arr[3:5]#slice ho gya"
      ],
      "metadata": {
        "colab": {
          "base_uri": "https://localhost:8080/"
        },
        "id": "VCiyuYfQmd7K",
        "outputId": "1c3fea4f-7830-49b5-92aa-cb57c6dcf0ad"
      },
      "execution_count": 191,
      "outputs": [
        {
          "output_type": "execute_result",
          "data": {
            "text/plain": [
              "array([14, 15])"
            ]
          },
          "metadata": {},
          "execution_count": 191
        }
      ]
    },
    {
      "cell_type": "code",
      "source": [],
      "metadata": {
        "id": "QWXtW-zkmsOp"
      },
      "execution_count": 191,
      "outputs": []
    },
    {
      "cell_type": "markdown",
      "source": [
        "*NUMPY Indexing and slicing of a matrix*"
      ],
      "metadata": {
        "id": "rycUWaFim5GE"
      }
    },
    {
      "cell_type": "code",
      "source": [
        "arr= np.arange(1,31).reshape(6,5)\n",
        "arr"
      ],
      "metadata": {
        "colab": {
          "base_uri": "https://localhost:8080/"
        },
        "id": "Ot7V2jBNm_sU",
        "outputId": "a174e503-32f6-4364-c1bd-9fb8c3a73e3e"
      },
      "execution_count": 192,
      "outputs": [
        {
          "output_type": "execute_result",
          "data": {
            "text/plain": [
              "array([[ 1,  2,  3,  4,  5],\n",
              "       [ 6,  7,  8,  9, 10],\n",
              "       [11, 12, 13, 14, 15],\n",
              "       [16, 17, 18, 19, 20],\n",
              "       [21, 22, 23, 24, 25],\n",
              "       [26, 27, 28, 29, 30]])"
            ]
          },
          "metadata": {},
          "execution_count": 192
        }
      ]
    },
    {
      "cell_type": "code",
      "source": [
        "arr[5]#for row"
      ],
      "metadata": {
        "colab": {
          "base_uri": "https://localhost:8080/"
        },
        "id": "xrFc7p4RnSJH",
        "outputId": "fe8477b5-44bf-4472-85cd-f487a40be717"
      },
      "execution_count": 193,
      "outputs": [
        {
          "output_type": "execute_result",
          "data": {
            "text/plain": [
              "array([26, 27, 28, 29, 30])"
            ]
          },
          "metadata": {},
          "execution_count": 193
        }
      ]
    },
    {
      "cell_type": "code",
      "source": [
        "arr[3]#for row"
      ],
      "metadata": {
        "colab": {
          "base_uri": "https://localhost:8080/"
        },
        "id": "2E4M05DknY6I",
        "outputId": "bdc3ca2d-eade-480e-f85c-892a5bc0f52b"
      },
      "execution_count": 194,
      "outputs": [
        {
          "output_type": "execute_result",
          "data": {
            "text/plain": [
              "array([16, 17, 18, 19, 20])"
            ]
          },
          "metadata": {},
          "execution_count": 194
        }
      ]
    },
    {
      "cell_type": "code",
      "source": [
        "arr[0,0]#for column"
      ],
      "metadata": {
        "colab": {
          "base_uri": "https://localhost:8080/"
        },
        "id": "5sM8H_xEnahu",
        "outputId": "a827da05-8bdb-4d5c-f444-3c8dde36cd5c"
      },
      "execution_count": 195,
      "outputs": [
        {
          "output_type": "execute_result",
          "data": {
            "text/plain": [
              "np.int64(1)"
            ]
          },
          "metadata": {},
          "execution_count": 195
        }
      ]
    },
    {
      "cell_type": "code",
      "source": [
        "arr[5,4]#for column, pahle row then column"
      ],
      "metadata": {
        "colab": {
          "base_uri": "https://localhost:8080/"
        },
        "id": "v87aKx0NnnuB",
        "outputId": "6e057976-15aa-4e30-df65-409a0770c143"
      },
      "execution_count": 196,
      "outputs": [
        {
          "output_type": "execute_result",
          "data": {
            "text/plain": [
              "np.int64(30)"
            ]
          },
          "metadata": {},
          "execution_count": 196
        }
      ]
    },
    {
      "cell_type": "markdown",
      "source": [],
      "metadata": {
        "id": "qTHMoaL0AA2C"
      }
    },
    {
      "cell_type": "code",
      "source": [
        "arr= np.arange(1,31).reshape(6,5)\n",
        "arr"
      ],
      "metadata": {
        "colab": {
          "base_uri": "https://localhost:8080/"
        },
        "id": "2ia9COw-nvCw",
        "outputId": "b5592e50-37eb-4cc4-da60-1021dc175ab8"
      },
      "execution_count": 197,
      "outputs": [
        {
          "output_type": "execute_result",
          "data": {
            "text/plain": [
              "array([[ 1,  2,  3,  4,  5],\n",
              "       [ 6,  7,  8,  9, 10],\n",
              "       [11, 12, 13, 14, 15],\n",
              "       [16, 17, 18, 19, 20],\n",
              "       [21, 22, 23, 24, 25],\n",
              "       [26, 27, 28, 29, 30]])"
            ]
          },
          "metadata": {},
          "execution_count": 197
        }
      ]
    },
    {
      "cell_type": "code",
      "source": [
        "slice=arr[0:2,1:3]\n",
        "slice"
      ],
      "metadata": {
        "colab": {
          "base_uri": "https://localhost:8080/"
        },
        "id": "PDPFiCQWn894",
        "outputId": "e2bc56d3-0aa8-4bc2-d352-429898cea609"
      },
      "execution_count": 198,
      "outputs": [
        {
          "output_type": "execute_result",
          "data": {
            "text/plain": [
              "array([[2, 3],\n",
              "       [7, 8]])"
            ]
          },
          "metadata": {},
          "execution_count": 198
        }
      ]
    },
    {
      "cell_type": "code",
      "source": [
        "slice=arr[3:6,3:5]\n",
        "slice"
      ],
      "metadata": {
        "colab": {
          "base_uri": "https://localhost:8080/"
        },
        "id": "LfbOM7mPp7PX",
        "outputId": "a28a447a-0a78-4588-9b89-a52e0cbf9737"
      },
      "execution_count": 199,
      "outputs": [
        {
          "output_type": "execute_result",
          "data": {
            "text/plain": [
              "array([[19, 20],\n",
              "       [24, 25],\n",
              "       [29, 30]])"
            ]
          },
          "metadata": {},
          "execution_count": 199
        }
      ]
    },
    {
      "cell_type": "code",
      "source": [
        "arr[:,2]#column slice"
      ],
      "metadata": {
        "colab": {
          "base_uri": "https://localhost:8080/"
        },
        "id": "Vrm5YpWIqXeg",
        "outputId": "b485864d-e5b7-4acd-93eb-ae4aa1e95f92"
      },
      "execution_count": 200,
      "outputs": [
        {
          "output_type": "execute_result",
          "data": {
            "text/plain": [
              "array([ 3,  8, 13, 18, 23, 28])"
            ]
          },
          "metadata": {},
          "execution_count": 200
        }
      ]
    },
    {
      "cell_type": "markdown",
      "source": [
        "**Boolean indexing**"
      ],
      "metadata": {
        "id": "WdEEy7WAqkQr"
      }
    },
    {
      "cell_type": "code",
      "source": [
        "arr = np.arange(11,21)\n",
        "arr"
      ],
      "metadata": {
        "colab": {
          "base_uri": "https://localhost:8080/"
        },
        "id": "x9DJtxK1qrbD",
        "outputId": "a657bf91-50cd-4453-cde2-3f1cf147c7fd"
      },
      "execution_count": 201,
      "outputs": [
        {
          "output_type": "execute_result",
          "data": {
            "text/plain": [
              "array([11, 12, 13, 14, 15, 16, 17, 18, 19, 20])"
            ]
          },
          "metadata": {},
          "execution_count": 201
        }
      ]
    },
    {
      "cell_type": "code",
      "source": [
        "bool_index = arr%2 ==0\n",
        "bool_index"
      ],
      "metadata": {
        "colab": {
          "base_uri": "https://localhost:8080/"
        },
        "id": "mrSv10LswnSX",
        "outputId": "bbf0738e-294b-4b01-d1e3-4f00c48e6b94"
      },
      "execution_count": 202,
      "outputs": [
        {
          "output_type": "execute_result",
          "data": {
            "text/plain": [
              "array([False,  True, False,  True, False,  True, False,  True, False,\n",
              "        True])"
            ]
          },
          "metadata": {},
          "execution_count": 202
        }
      ]
    },
    {
      "cell_type": "code",
      "source": [
        "arr = arr[bool_index]\n",
        "arr"
      ],
      "metadata": {
        "colab": {
          "base_uri": "https://localhost:8080/"
        },
        "id": "Kaxm-W6SwyZj",
        "outputId": "ee8681c1-d3e8-40ce-ec5d-4582b7073774"
      },
      "execution_count": 203,
      "outputs": [
        {
          "output_type": "execute_result",
          "data": {
            "text/plain": [
              "array([12, 14, 16, 18, 20])"
            ]
          },
          "metadata": {},
          "execution_count": 203
        }
      ]
    },
    {
      "cell_type": "markdown",
      "source": [
        "***Array opereations***"
      ],
      "metadata": {
        "id": "LJuv48TlLlEa"
      }
    },
    {
      "cell_type": "code",
      "source": [
        "import numpy as np"
      ],
      "metadata": {
        "id": "4pbJ6DWbw6Dh"
      },
      "execution_count": 204,
      "outputs": []
    },
    {
      "cell_type": "code",
      "source": [
        "a1=np.array([1,2,3,4,5])\n",
        "a2=np.array([6,7,8,9,10])\n",
        "a2"
      ],
      "metadata": {
        "colab": {
          "base_uri": "https://localhost:8080/"
        },
        "id": "fssqRIi1Ltor",
        "outputId": "11b38ca2-1872-4609-bedb-3128b541c7e5"
      },
      "execution_count": 205,
      "outputs": [
        {
          "output_type": "execute_result",
          "data": {
            "text/plain": [
              "array([ 6,  7,  8,  9, 10])"
            ]
          },
          "metadata": {},
          "execution_count": 205
        }
      ]
    },
    {
      "cell_type": "code",
      "source": [
        "a1+a2#addition of two arrays"
      ],
      "metadata": {
        "colab": {
          "base_uri": "https://localhost:8080/"
        },
        "id": "2WD0_pU_MAgb",
        "outputId": "29410baf-ff70-423d-ecb3-42c6eca4b02f"
      },
      "execution_count": 206,
      "outputs": [
        {
          "output_type": "execute_result",
          "data": {
            "text/plain": [
              "array([ 7,  9, 11, 13, 15])"
            ]
          },
          "metadata": {},
          "execution_count": 206
        }
      ]
    },
    {
      "cell_type": "code",
      "source": [
        "a1=np.array([1,2,3,4,5,8])#add karne ke liye dono me same number of elemnts hone chahiye jo nhi hai\n",
        "a2=np.array([6,7,8,9,10,8])#uuper 6 hai and niche 5 so ye nhi add hoga.So upper niche same rakhna chachiye agar add karna hai tu\n",
        "a1+a2"
      ],
      "metadata": {
        "colab": {
          "base_uri": "https://localhost:8080/"
        },
        "id": "TiZLNoH6MJDh",
        "outputId": "968e9bde-7c35-44df-9028-82582d1ffd2b"
      },
      "execution_count": 207,
      "outputs": [
        {
          "output_type": "execute_result",
          "data": {
            "text/plain": [
              "array([ 7,  9, 11, 13, 15, 16])"
            ]
          },
          "metadata": {},
          "execution_count": 207
        }
      ]
    },
    {
      "cell_type": "code",
      "source": [
        "a1=np.array([1,2,3,4,5,8])\n",
        "a2=np.array([6,7,8,9,10,12])\n",
        "arr2=a1+a2\n",
        "arr2"
      ],
      "metadata": {
        "colab": {
          "base_uri": "https://localhost:8080/"
        },
        "id": "1cI6sactMU_t",
        "outputId": "b51d816b-54d3-4484-cc24-3b125a878c7b"
      },
      "execution_count": 208,
      "outputs": [
        {
          "output_type": "execute_result",
          "data": {
            "text/plain": [
              "array([ 7,  9, 11, 13, 15, 20])"
            ]
          },
          "metadata": {},
          "execution_count": 208
        }
      ]
    },
    {
      "cell_type": "code",
      "source": [
        "a1-a2"
      ],
      "metadata": {
        "colab": {
          "base_uri": "https://localhost:8080/"
        },
        "id": "vvuMrufaMwBL",
        "outputId": "7d9c5b24-50c4-4c27-9930-85b30c24e22e"
      },
      "execution_count": 209,
      "outputs": [
        {
          "output_type": "execute_result",
          "data": {
            "text/plain": [
              "array([-5, -5, -5, -5, -5, -4])"
            ]
          },
          "metadata": {},
          "execution_count": 209
        }
      ]
    },
    {
      "cell_type": "code",
      "source": [
        "a1*a2"
      ],
      "metadata": {
        "colab": {
          "base_uri": "https://localhost:8080/"
        },
        "id": "IenF8vXiM4Qf",
        "outputId": "719e8c9c-498c-4491-8156-be34157d5133"
      },
      "execution_count": 210,
      "outputs": [
        {
          "output_type": "execute_result",
          "data": {
            "text/plain": [
              "array([ 6, 14, 24, 36, 50, 96])"
            ]
          },
          "metadata": {},
          "execution_count": 210
        }
      ]
    },
    {
      "cell_type": "code",
      "source": [
        "a1/a2"
      ],
      "metadata": {
        "colab": {
          "base_uri": "https://localhost:8080/"
        },
        "id": "re8msVawM_ja",
        "outputId": "58128058-2c5e-4a0b-c0aa-038ed0a99a10"
      },
      "execution_count": 211,
      "outputs": [
        {
          "output_type": "execute_result",
          "data": {
            "text/plain": [
              "array([0.16666667, 0.28571429, 0.375     , 0.44444444, 0.5       ,\n",
              "       0.66666667])"
            ]
          },
          "metadata": {},
          "execution_count": 211
        }
      ]
    },
    {
      "cell_type": "code",
      "source": [
        "a1//a2#floor division"
      ],
      "metadata": {
        "colab": {
          "base_uri": "https://localhost:8080/"
        },
        "id": "sMArWz4RNCo7",
        "outputId": "85be3629-ea8e-4a29-8763-41c0aeca0ffa"
      },
      "execution_count": 212,
      "outputs": [
        {
          "output_type": "execute_result",
          "data": {
            "text/plain": [
              "array([0, 0, 0, 0, 0, 0])"
            ]
          },
          "metadata": {},
          "execution_count": 212
        }
      ]
    },
    {
      "cell_type": "code",
      "source": [
        "a1**a2"
      ],
      "metadata": {
        "colab": {
          "base_uri": "https://localhost:8080/"
        },
        "id": "uc6lLWa0NOh6",
        "outputId": "e93afdfe-7989-487e-944e-61730207b0d7"
      },
      "execution_count": 213,
      "outputs": [
        {
          "output_type": "execute_result",
          "data": {
            "text/plain": [
              "array([          1,         128,        6561,      262144,     9765625,\n",
              "       68719476736])"
            ]
          },
          "metadata": {},
          "execution_count": 213
        }
      ]
    },
    {
      "cell_type": "markdown",
      "source": [
        "**Broadcasting**"
      ],
      "metadata": {
        "id": "zUS4zzwINTA0"
      }
    },
    {
      "cell_type": "code",
      "source": [
        "l=[10,20,30,40]\n",
        "arr=np.array(l)"
      ],
      "metadata": {
        "id": "w-kG-oAnNVGd"
      },
      "execution_count": 214,
      "outputs": []
    },
    {
      "cell_type": "code",
      "source": [
        "l+10# we cant directly add"
      ],
      "metadata": {
        "colab": {
          "base_uri": "https://localhost:8080/",
          "height": 141
        },
        "id": "TfUzV11-Njsk",
        "outputId": "87a70ea6-60f7-4bf0-936a-3b8a5d89ff94"
      },
      "execution_count": 215,
      "outputs": [
        {
          "output_type": "error",
          "ename": "TypeError",
          "evalue": "can only concatenate list (not \"int\") to list",
          "traceback": [
            "\u001b[0;31m---------------------------------------------------------------------------\u001b[0m",
            "\u001b[0;31mTypeError\u001b[0m                                 Traceback (most recent call last)",
            "\u001b[0;32m/tmp/ipython-input-2879731070.py\u001b[0m in \u001b[0;36m<cell line: 0>\u001b[0;34m()\u001b[0m\n\u001b[0;32m----> 1\u001b[0;31m \u001b[0ml\u001b[0m\u001b[0;34m+\u001b[0m\u001b[0;36m10\u001b[0m\u001b[0;31m# we cant directly add\u001b[0m\u001b[0;34m\u001b[0m\u001b[0;34m\u001b[0m\u001b[0m\n\u001b[0m",
            "\u001b[0;31mTypeError\u001b[0m: can only concatenate list (not \"int\") to list"
          ]
        }
      ]
    },
    {
      "cell_type": "code",
      "source": [
        "for i in l:# we need long procedure\n",
        "  print (i+10)# to avoid this we directly add in array"
      ],
      "metadata": {
        "id": "z5d-IhYjNpoP"
      },
      "execution_count": null,
      "outputs": []
    },
    {
      "cell_type": "code",
      "source": [
        "l=[10,20,30,40]#directly array me add karo ye hi broadcsting hai agar koi number hai jise add karna chahte ho sab me then  use broadcasting.\n",
        "arr=np.array(l)\n",
        "arr+10"
      ],
      "metadata": {
        "id": "zBtEmxF0N0O2"
      },
      "execution_count": null,
      "outputs": []
    },
    {
      "cell_type": "code",
      "source": [
        "arr2=np.arange(1,26).reshape(5,5)\n",
        "arr2"
      ],
      "metadata": {
        "id": "C0TKaIhiOqbn"
      },
      "execution_count": null,
      "outputs": []
    },
    {
      "cell_type": "code",
      "source": [
        "# ab hm isme bhi broadcast kaar sakte hai\n",
        "arr2=arr2+10"
      ],
      "metadata": {
        "id": "kB1rfiIFO2nH"
      },
      "execution_count": null,
      "outputs": []
    },
    {
      "cell_type": "code",
      "source": [
        "arr2*2"
      ],
      "metadata": {
        "id": "WiLkdVJnO_1n"
      },
      "execution_count": null,
      "outputs": []
    },
    {
      "cell_type": "markdown",
      "source": [
        "**Deep and shallow copy**"
      ],
      "metadata": {
        "id": "DFZ4Q-InPSmT"
      }
    },
    {
      "cell_type": "code",
      "source": [
        "a=np.arange(1,21)\n",
        "a"
      ],
      "metadata": {
        "id": "nzzJx1JXPNI6"
      },
      "execution_count": null,
      "outputs": []
    },
    {
      "cell_type": "code",
      "source": [
        "slice=a[:5]\n",
        "slice=slice*10\n",
        "slice"
      ],
      "metadata": {
        "id": "yQH8XaqrPf88"
      },
      "execution_count": null,
      "outputs": []
    },
    {
      "cell_type": "code",
      "source": [
        "a#slice portion me change hone se array me change nhi hua hai but agar hm list use karte tu change hota .\n",
        "# ye shallow copy hai  jisse main wale me change nhi ho rha hai\n",
        "#but agar hm b=a likh ke a me change kare tu a me changaes hoga"
      ],
      "metadata": {
        "id": "rp2eyw-JPqe0"
      },
      "execution_count": null,
      "outputs": []
    },
    {
      "cell_type": "code",
      "source": [],
      "metadata": {
        "id": "zU_MTZoVP0yb"
      },
      "execution_count": null,
      "outputs": []
    },
    {
      "cell_type": "markdown",
      "source": [
        "**Matrix Operations**"
      ],
      "metadata": {
        "id": "ob8GXb__RGaw"
      }
    },
    {
      "cell_type": "code",
      "source": [
        "A = np.array([[1, 2], [3, 4]])\n",
        "B = np.array([[5, 6], [7, 8]])\n"
      ],
      "metadata": {
        "id": "NxxnYN6wRM4u"
      },
      "execution_count": null,
      "outputs": []
    },
    {
      "cell_type": "code",
      "source": [
        "A"
      ],
      "metadata": {
        "id": "m1bnWsD5RW0X"
      },
      "execution_count": null,
      "outputs": []
    },
    {
      "cell_type": "code",
      "source": [
        "B"
      ],
      "metadata": {
        "id": "VZbnf78tRXR5"
      },
      "execution_count": null,
      "outputs": []
    },
    {
      "cell_type": "markdown",
      "source": [
        "**Matrix multiplication**"
      ],
      "metadata": {
        "id": "GTz3WyRHSWX7"
      }
    },
    {
      "cell_type": "code",
      "source": [
        "A*B# A and B multiply ho gya hai but wo matrix multiplication nhi hai."
      ],
      "metadata": {
        "id": "EsAk3k3iRZWB"
      },
      "execution_count": null,
      "outputs": []
    },
    {
      "cell_type": "code",
      "source": [
        "#tu hme matrix multiplication ke liye dot product karna hoga\n",
        "A @ B #@ MATRIX MULTIPLICATION KAARTA HAI."
      ],
      "metadata": {
        "id": "Uxi2-5vbRfkw"
      },
      "execution_count": null,
      "outputs": []
    },
    {
      "cell_type": "code",
      "source": [
        "#2nd method\n",
        "np.dot(A,B)#Agar hm np.dot ka use kaare tu usse bhi ho jayega matrix multiplication."
      ],
      "metadata": {
        "id": "MILGMqh1R58a"
      },
      "execution_count": null,
      "outputs": []
    },
    {
      "cell_type": "markdown",
      "source": [
        "**Transpose of a matrix**"
      ],
      "metadata": {
        "id": "hWvmGX9GSfej"
      }
    },
    {
      "cell_type": "code",
      "source": [
        "A"
      ],
      "metadata": {
        "id": "z1ZBfk2MSEmN"
      },
      "execution_count": null,
      "outputs": []
    },
    {
      "cell_type": "code",
      "source": [
        "A.T#.T for transpose"
      ],
      "metadata": {
        "id": "UUA6qFeFSphM"
      },
      "execution_count": null,
      "outputs": []
    },
    {
      "cell_type": "markdown",
      "source": [
        "**Advanced Array opertaion**"
      ],
      "metadata": {
        "id": "uiyGfbz8Swjw"
      }
    },
    {
      "cell_type": "code",
      "source": [
        "#stacking of two array we need to add vectors cant add matrix in stacking\n",
        "a = np.array([1, 2, 3, 4])\n",
        "b = np.array([5, 6, 7, 8])"
      ],
      "metadata": {
        "id": "wOfmirfZS1_3"
      },
      "execution_count": null,
      "outputs": []
    },
    {
      "cell_type": "code",
      "source": [
        "np.vstack((a,b))#verically stack"
      ],
      "metadata": {
        "id": "Fr2KTEa6S_Bo"
      },
      "execution_count": null,
      "outputs": []
    },
    {
      "cell_type": "code",
      "source": [
        "np.hstack((a,b))#horixontal staack"
      ],
      "metadata": {
        "id": "QWuWxXmpTEjT"
      },
      "execution_count": null,
      "outputs": []
    },
    {
      "cell_type": "code",
      "source": [
        "np.column_stack((a,b))#column stack"
      ],
      "metadata": {
        "id": "fKqSVX1XTiui"
      },
      "execution_count": null,
      "outputs": []
    },
    {
      "cell_type": "markdown",
      "source": [
        "**Splitting Array**\n",
        "*Array splitting need an equal division*"
      ],
      "metadata": {
        "id": "abBy0LwQTx-z"
      }
    },
    {
      "cell_type": "code",
      "source": [
        "c = np.arange(16).reshape(4, 4)\n",
        "c"
      ],
      "metadata": {
        "id": "1dNlUt9hTwI4"
      },
      "execution_count": null,
      "outputs": []
    },
    {
      "cell_type": "code",
      "source": [
        "np.hsplit(c,4)#horizontal split"
      ],
      "metadata": {
        "id": "MvNQlynCT57v"
      },
      "execution_count": null,
      "outputs": []
    },
    {
      "cell_type": "code",
      "source": [
        "\n",
        "np.vsplit(c,2)# vertically split"
      ],
      "metadata": {
        "id": "tIQdj0rBT80Q"
      },
      "execution_count": null,
      "outputs": []
    },
    {
      "cell_type": "code",
      "source": [
        "np.vsplit(c,3)# vertically split wrong divison for 16 array split does not result in an equal division"
      ],
      "metadata": {
        "id": "jCJp_XMAUAHA"
      },
      "execution_count": null,
      "outputs": []
    },
    {
      "cell_type": "code",
      "source": [
        "a=np.vsplit (c,4)# vertically split\n",
        "a"
      ],
      "metadata": {
        "id": "4-FUNB00rAOp"
      },
      "execution_count": null,
      "outputs": []
    },
    {
      "cell_type": "code",
      "source": [
        "for i in a :\n",
        "  print (i)"
      ],
      "metadata": {
        "id": "c6YEFwX5qmq9"
      },
      "execution_count": null,
      "outputs": []
    },
    {
      "cell_type": "markdown",
      "source": [
        "**Practicce questions**"
      ],
      "metadata": {
        "id": "VBBmt2_br6Nf"
      }
    },
    {
      "cell_type": "markdown",
      "source": [
        "*Valid Sudoku*"
      ],
      "metadata": {
        "id": "j-LL3pL0sBwB"
      }
    },
    {
      "cell_type": "code",
      "source": [
        "# row and column ka sum same hona chahiye and har block of 3x3 ka sum same hona chahiye\n",
        "s = np.array([\n",
        "    [5, 3, 4, 6, 7, 8, 9, 1, 2],\n",
        "    [6, 7, 2, 1, 9, 5, 3, 4, 8],\n",
        "    [1, 9, 8, 3, 4, 2, 5, 6, 7],\n",
        "\n",
        "    [8, 5, 9, 7, 6, 1, 4, 2, 3],\n",
        "    [4, 2, 6, 8, 5, 3, 7, 9, 1],\n",
        "    [7, 1, 3, 9, 2, 4, 8, 5, 6],\n",
        "\n",
        "    [9, 6, 1, 5, 3, 7, 2, 8, 4],\n",
        "    [2, 8, 7, 4, 1, 9, 6, 3, 5],\n",
        "    [3, 4, 5, 2, 8, 6, 1, 7, 9]\n",
        "])"
      ],
      "metadata": {
        "id": "TUC0fDfQsF7N"
      },
      "execution_count": null,
      "outputs": []
    },
    {
      "cell_type": "code",
      "source": [
        "b=np.sum(s,axis=1)# row kw liye 1 and column ke liye zero so valid sudoku\n",
        "b==45# for true and false"
      ],
      "metadata": {
        "id": "r7SBRW2HsheG"
      },
      "execution_count": null,
      "outputs": []
    },
    {
      "cell_type": "code",
      "source": [
        "c=np.sum(s,axis=0)# so row and column are same it is valid\n",
        "c==45"
      ],
      "metadata": {
        "id": "0OlQU4uutZve"
      },
      "execution_count": null,
      "outputs": []
    },
    {
      "cell_type": "code",
      "source": [
        "s[0:3,0:3]"
      ],
      "metadata": {
        "id": "83JwvK1rtb0J"
      },
      "execution_count": null,
      "outputs": []
    },
    {
      "cell_type": "code",
      "source": [
        "s[0:3,3:6]"
      ],
      "metadata": {
        "id": "vNM90EGyuBG_"
      },
      "execution_count": null,
      "outputs": []
    },
    {
      "cell_type": "code",
      "source": [
        "\n",
        "s[0:3,6:9]"
      ],
      "metadata": {
        "id": "UQIgn4YTuCBT"
      },
      "execution_count": null,
      "outputs": []
    },
    {
      "cell_type": "code",
      "source": [
        "#2nd approach we can use for loop\n",
        "for i in range(0,9,3):\n",
        "  for j in range(0,9,3):\n",
        "    print(s[i:i+3,j:j+3])"
      ],
      "metadata": {
        "id": "kmb7CSmsuBrL"
      },
      "execution_count": null,
      "outputs": []
    },
    {
      "cell_type": "code",
      "source": [
        "for i in range(0,9,3):\n",
        "  for j in range(0,9,3):\n",
        "    n= s[i:i+3,j:j+3]\n",
        "    print (n.sum())"
      ],
      "metadata": {
        "id": "GdvRit2Du6Rj"
      },
      "execution_count": null,
      "outputs": []
    },
    {
      "cell_type": "code",
      "source": [
        "import numpy as np\n",
        "\n",
        "# Columns: [Age, Math Marks, Science Marks]\n",
        "data = np.array([\n",
        "    [18, 85, 78],   # Student 1\n",
        "    [19, 92, 88],   # Student 2\n",
        "    [17, 76, 95],   # Student 3\n",
        "    [18, 65, 70],   # Student 4\n",
        "    [20, 90, 85]    # Student 5\n",
        "])"
      ],
      "metadata": {
        "id": "g4pvmar5sUlv"
      },
      "execution_count": null,
      "outputs": []
    },
    {
      "cell_type": "code",
      "source": [
        "\n",
        "#Get the shape of the matrix.\n",
        "data.shape"
      ],
      "metadata": {
        "id": "zLPTlNZhv3_0"
      },
      "execution_count": null,
      "outputs": []
    },
    {
      "cell_type": "code",
      "source": [
        "#Find the average age of students.\n",
        "np.mean(data[5:,0])# agar blank rahne doge tu bhi le lega kast tak\n",
        "np.mean(data[:,0])# dono sahi hai"
      ],
      "metadata": {
        "id": "4zJWmZ4Nv7a5"
      },
      "execution_count": null,
      "outputs": []
    },
    {
      "cell_type": "code",
      "source": [
        "#Extract Math marks of all students.\n",
        "'''all rows are selected agar blank chode tu ye bhi comment hi hai'''\n",
        "data[ :,1]"
      ],
      "metadata": {
        "id": "CdqHwaQBv-4H"
      },
      "execution_count": null,
      "outputs": []
    },
    {
      "cell_type": "code",
      "source": [
        "#Find the highest Science mark.\n",
        "data[ :,2]\n",
        "np.max(data[ :,2])"
      ],
      "metadata": {
        "id": "71HXfW7LwBtZ"
      },
      "execution_count": null,
      "outputs": []
    },
    {
      "cell_type": "code",
      "source": [
        "#Get details of the student who scored more than 90 in Math.\n",
        "data[:,1]>90"
      ],
      "metadata": {
        "id": "9-Z0xsR5wEFs"
      },
      "execution_count": null,
      "outputs": []
    },
    {
      "cell_type": "code",
      "source": [
        "#Get details of the student who scored more than 90 in Math.\n",
        "data[data[:,1]>90]"
      ],
      "metadata": {
        "id": "RD9wzP9tyfR5"
      },
      "execution_count": null,
      "outputs": []
    },
    {
      "cell_type": "code",
      "source": [
        "#Increase Math marks of all students by 5.\n",
        "data[:,1]+5\n"
      ],
      "metadata": {
        "id": "3TMrvNAHyJSf"
      },
      "execution_count": null,
      "outputs": []
    },
    {
      "cell_type": "code",
      "source": [
        "#Increase Math marks of all students by 5.\n",
        "data[:,1]=data[:,1]+5\n",
        "data"
      ],
      "metadata": {
        "id": "bIGewKZ-y24a"
      },
      "execution_count": null,
      "outputs": []
    },
    {
      "cell_type": "code",
      "source": [
        "\n",
        "#Find how many students are younger than 19.\n",
        "data[:,0]<19"
      ],
      "metadata": {
        "id": "anrk_SxSyLkA"
      },
      "execution_count": null,
      "outputs": []
    },
    {
      "cell_type": "code",
      "source": [
        "#Find how many students are younger than 19.\n",
        "len(data[data[:,0]<19])"
      ],
      "metadata": {
        "id": "y5KVgRVCzVlS"
      },
      "execution_count": null,
      "outputs": []
    },
    {
      "cell_type": "code",
      "source": [
        "#Calculate the average marks in each subject (column-wise mean).\n",
        "np.mean(data,axis=0)"
      ],
      "metadata": {
        "id": "Pj-WH7T5yOQc"
      },
      "execution_count": null,
      "outputs": []
    },
    {
      "cell_type": "code",
      "source": [
        "#Get data of students who scored at least 80 in both subjects.\n",
        "data[data[:,1]>80& (data[:,2]>80)]\n"
      ],
      "metadata": {
        "id": "up5vRaIryREQ"
      },
      "execution_count": null,
      "outputs": []
    },
    {
      "cell_type": "code",
      "source": [
        "#Replace all Science marks < 75 with 0.\n",
        "data[data[:,2]<75,2]=0#[ pahle row and then column is selected]\n",
        "data"
      ],
      "metadata": {
        "id": "eLXS_racyWT2"
      },
      "execution_count": null,
      "outputs": []
    },
    {
      "cell_type": "code",
      "source": [],
      "metadata": {
        "id": "nNr2rcMVm_l0"
      },
      "execution_count": null,
      "outputs": []
    }
  ]
}