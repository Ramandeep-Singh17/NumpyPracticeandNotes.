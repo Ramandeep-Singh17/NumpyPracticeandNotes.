{
  "nbformat": 4,
  "nbformat_minor": 0,
  "metadata": {
    "colab": {
      "provenance": [],
      "authorship_tag": "ABX9TyOukJf7n/84DKPcaJc9J0ds",
      "include_colab_link": true
    },
    "kernelspec": {
      "name": "python3",
      "display_name": "Python 3"
    },
    "language_info": {
      "name": "python"
    }
  },
  "cells": [
    {
      "cell_type": "markdown",
      "metadata": {
        "id": "view-in-github",
        "colab_type": "text"
      },
      "source": [
        "<a href=\"https://colab.research.google.com/github/Ramandeep-Singh17/NumpyPracticeandNotes./blob/main/Numpy1.ipynb\" target=\"_parent\"><img src=\"https://colab.research.google.com/assets/colab-badge.svg\" alt=\"Open In Colab\"/></a>"
      ]
    },
    {
      "cell_type": "code",
      "source": [
        "import numpy as np# np aliyas short form, kuch bhi likh sakte jaruri nhi np\n"
      ],
      "metadata": {
        "id": "PuJXAimZMnor"
      },
      "execution_count": 205,
      "outputs": []
    },
    {
      "cell_type": "markdown",
      "source": [
        "list se array"
      ],
      "metadata": {
        "id": "rtjiHBYBNAUM"
      }
    },
    {
      "cell_type": "code",
      "source": [
        "np.array([1,2,3,4,5])\n"
      ],
      "metadata": {
        "colab": {
          "base_uri": "https://localhost:8080/"
        },
        "id": "kSDREGLPM6WS",
        "outputId": "c4728170-0182-4f48-dc03-7b99092bef75"
      },
      "execution_count": 206,
      "outputs": [
        {
          "output_type": "execute_result",
          "data": {
            "text/plain": [
              "array([1, 2, 3, 4, 5])"
            ]
          },
          "metadata": {},
          "execution_count": 206
        }
      ]
    },
    {
      "cell_type": "markdown",
      "source": [
        "to save, array agar create hoga tu usmse array likha hua aayeaga"
      ],
      "metadata": {
        "id": "xhQ01W4YNMXT"
      }
    },
    {
      "cell_type": "code",
      "source": [
        "arr=np.array([1,2,3,4,5])\n",
        "arr"
      ],
      "metadata": {
        "colab": {
          "base_uri": "https://localhost:8080/"
        },
        "id": "MqXoNy6GNIuj",
        "outputId": "c6cffbd0-d4b7-4941-f095-3321c2de2663"
      },
      "execution_count": 207,
      "outputs": [
        {
          "output_type": "execute_result",
          "data": {
            "text/plain": [
              "array([1, 2, 3, 4, 5])"
            ]
          },
          "metadata": {},
          "execution_count": 207
        }
      ]
    },
    {
      "cell_type": "code",
      "source": [
        "a=[1,2,3.5,\"hello\"]\n",
        "a#print ke liye"
      ],
      "metadata": {
        "colab": {
          "base_uri": "https://localhost:8080/"
        },
        "id": "Zcwg6RFrNS-H",
        "outputId": "c5e35e89-4cd4-4099-e3fe-03f4dea5db93"
      },
      "execution_count": 208,
      "outputs": [
        {
          "output_type": "execute_result",
          "data": {
            "text/plain": [
              "[1, 2, 3.5, 'hello']"
            ]
          },
          "metadata": {},
          "execution_count": 208
        }
      ]
    },
    {
      "cell_type": "code",
      "source": [
        "np.array(a)#list pass kar rhe hai\n"
      ],
      "metadata": {
        "colab": {
          "base_uri": "https://localhost:8080/"
        },
        "id": "JWA2zH2wNtlM",
        "outputId": "2208bdc7-a679-48d4-cd7e-29d7421bf26a"
      },
      "execution_count": 209,
      "outputs": [
        {
          "output_type": "execute_result",
          "data": {
            "text/plain": [
              "array(['1', '2', '3.5', 'hello'], dtype='<U32')"
            ]
          },
          "metadata": {},
          "execution_count": 209
        }
      ]
    },
    {
      "cell_type": "markdown",
      "source": [
        "**Iska mtlb hai ki sare data types u32 mtlb string me convert ho gaye hai\n",
        "** **Aagr hm string pass nhi kiye tu given example ke hisab se sab float ban jayega**"
      ],
      "metadata": {
        "id": "hhbeJWZVN54P"
      }
    },
    {
      "cell_type": "code",
      "source": [
        "l=[[1,2,3],[4,5,6],[7,8,9]]\n",
        "l"
      ],
      "metadata": {
        "colab": {
          "base_uri": "https://localhost:8080/"
        },
        "id": "aDdjIiY7OIjj",
        "outputId": "200184c2-0e48-414c-fc43-99594b492cfb"
      },
      "execution_count": 210,
      "outputs": [
        {
          "output_type": "execute_result",
          "data": {
            "text/plain": [
              "[[1, 2, 3], [4, 5, 6], [7, 8, 9]]"
            ]
          },
          "metadata": {},
          "execution_count": 210
        }
      ]
    },
    {
      "cell_type": "markdown",
      "source": [
        "Conversion of list to matrix.\n",
        " *2d matrix se uppper sab tensor hai isiliye tensor flow*"
      ],
      "metadata": {
        "id": "6QUL4_joPbdZ"
      }
    },
    {
      "cell_type": "code",
      "source": [
        "np.array(l)#Agar hm niche l likh de tu wo phirse list ke hisab se kaam karne lagega\n",
        "\n"
      ],
      "metadata": {
        "colab": {
          "base_uri": "https://localhost:8080/"
        },
        "id": "u-Z_BDqcPhn-",
        "outputId": "cc309bb5-fb2a-4eb2-a44b-d1f01b3d0165"
      },
      "execution_count": 211,
      "outputs": [
        {
          "output_type": "execute_result",
          "data": {
            "text/plain": [
              "array([[1, 2, 3],\n",
              "       [4, 5, 6],\n",
              "       [7, 8, 9]])"
            ]
          },
          "metadata": {},
          "execution_count": 211
        }
      ]
    },
    {
      "cell_type": "markdown",
      "source": [
        "**`Array Generating function`**\n",
        "\n",
        "\n",
        "\n"
      ],
      "metadata": {
        "id": "G2UZ72unQHKY"
      }
    },
    {
      "cell_type": "code",
      "source": [
        "np.arange(1,11)#1 se 10 tak generate ho jayega, ye range function hi hai but array ke liye isliye starting me \"a\"."
      ],
      "metadata": {
        "colab": {
          "base_uri": "https://localhost:8080/"
        },
        "id": "GZN2r_TXP004",
        "outputId": "6e388b76-7d2c-47fe-e985-304a6f217bd5"
      },
      "execution_count": 212,
      "outputs": [
        {
          "output_type": "execute_result",
          "data": {
            "text/plain": [
              "array([ 1,  2,  3,  4,  5,  6,  7,  8,  9, 10])"
            ]
          },
          "metadata": {},
          "execution_count": 212
        }
      ]
    },
    {
      "cell_type": "code",
      "source": [
        "np.arange(1,11,2)# do ke gap me generate hoga.\n",
        "arr#save karne ke liye"
      ],
      "metadata": {
        "colab": {
          "base_uri": "https://localhost:8080/"
        },
        "id": "Lt4qQIYiRAJt",
        "outputId": "1eb90672-2a2f-47fd-a0d2-599e6ebf8d47"
      },
      "execution_count": 213,
      "outputs": [
        {
          "output_type": "execute_result",
          "data": {
            "text/plain": [
              "array([1, 2, 3, 4, 5])"
            ]
          },
          "metadata": {},
          "execution_count": 213
        }
      ]
    },
    {
      "cell_type": "code",
      "source": [
        "# to genarte zeros\n",
        "arr=np.zeros(6)\n",
        "arr#yaha print ke liye arr kykui = karke"
      ],
      "metadata": {
        "colab": {
          "base_uri": "https://localhost:8080/"
        },
        "id": "nfm2Q-8HRQ9W",
        "outputId": "eb39177c-ee6e-4aab-c79d-0920efd1fdec"
      },
      "execution_count": 214,
      "outputs": [
        {
          "output_type": "execute_result",
          "data": {
            "text/plain": [
              "array([0., 0., 0., 0., 0., 0.])"
            ]
          },
          "metadata": {},
          "execution_count": 214
        }
      ]
    },
    {
      "cell_type": "code",
      "source": [
        "#matrix of zeros\n",
        "arr=np.zeros((4,8))\n",
        "arr#yaha print ke liye arr kykui = karke"
      ],
      "metadata": {
        "colab": {
          "base_uri": "https://localhost:8080/"
        },
        "id": "fSTDGi5iRfGB",
        "outputId": "5b79c8ed-5853-490e-8073-0f84be9b0ce5"
      },
      "execution_count": 215,
      "outputs": [
        {
          "output_type": "execute_result",
          "data": {
            "text/plain": [
              "array([[0., 0., 0., 0., 0., 0., 0., 0.],\n",
              "       [0., 0., 0., 0., 0., 0., 0., 0.],\n",
              "       [0., 0., 0., 0., 0., 0., 0., 0.],\n",
              "       [0., 0., 0., 0., 0., 0., 0., 0.]])"
            ]
          },
          "metadata": {},
          "execution_count": 215
        }
      ]
    },
    {
      "cell_type": "code",
      "source": [
        "arr=np.ones((4,8))\n",
        "arr"
      ],
      "metadata": {
        "colab": {
          "base_uri": "https://localhost:8080/"
        },
        "id": "OxWnfLflSSRs",
        "outputId": "3928562e-cebf-4083-db44-c3d71be09dc9"
      },
      "execution_count": 216,
      "outputs": [
        {
          "output_type": "execute_result",
          "data": {
            "text/plain": [
              "array([[1., 1., 1., 1., 1., 1., 1., 1.],\n",
              "       [1., 1., 1., 1., 1., 1., 1., 1.],\n",
              "       [1., 1., 1., 1., 1., 1., 1., 1.],\n",
              "       [1., 1., 1., 1., 1., 1., 1., 1.]])"
            ]
          },
          "metadata": {},
          "execution_count": 216
        }
      ]
    },
    {
      "cell_type": "markdown",
      "source": [
        "linspace or liner spacing. Return evenly spaced numbers over a specified interval."
      ],
      "metadata": {
        "id": "20Yl1G9ZSjAI"
      }
    },
    {
      "cell_type": "code",
      "source": [
        "arr= np.linspace(1,5,2)#hme 1 aur 5 ke bich me 2 number chahiye with equal space\n",
        "arr"
      ],
      "metadata": {
        "colab": {
          "base_uri": "https://localhost:8080/"
        },
        "id": "PLK8UTrfSowI",
        "outputId": "c25086b7-e953-4953-8e88-3d2267388eba"
      },
      "execution_count": 217,
      "outputs": [
        {
          "output_type": "execute_result",
          "data": {
            "text/plain": [
              "array([1., 5.])"
            ]
          },
          "metadata": {},
          "execution_count": 217
        }
      ]
    },
    {
      "cell_type": "code",
      "source": [
        "arr= np.linspace(1,5,3)#hme 1 aur 5 ke bich me 3number chahiye with equal space\n",
        "arr"
      ],
      "metadata": {
        "colab": {
          "base_uri": "https://localhost:8080/"
        },
        "id": "cAkbi1DMTcdG",
        "outputId": "4600e6c5-bb2e-4c08-e7b1-d6eb8ecad5db"
      },
      "execution_count": 218,
      "outputs": [
        {
          "output_type": "execute_result",
          "data": {
            "text/plain": [
              "array([1., 3., 5.])"
            ]
          },
          "metadata": {},
          "execution_count": 218
        }
      ]
    },
    {
      "cell_type": "code",
      "source": [
        "arr= np.linspace(1,5,8)#hme 1 aur 5 ke bich me 8 number chahiye with equal space\n",
        "arr"
      ],
      "metadata": {
        "colab": {
          "base_uri": "https://localhost:8080/"
        },
        "id": "UWF9gP5aTiQY",
        "outputId": "71fa22ac-73b3-43f1-c8ee-d00b150d711d"
      },
      "execution_count": 219,
      "outputs": [
        {
          "output_type": "execute_result",
          "data": {
            "text/plain": [
              "array([1.        , 1.57142857, 2.14285714, 2.71428571, 3.28571429,\n",
              "       3.85714286, 4.42857143, 5.        ])"
            ]
          },
          "metadata": {},
          "execution_count": 219
        }
      ]
    },
    {
      "cell_type": "code",
      "source": [
        "arr= np.linspace(1,5,100)#hme 1 aur 5 ke bich me 200 number chahiye with equal space\n",
        "arr"
      ],
      "metadata": {
        "colab": {
          "base_uri": "https://localhost:8080/"
        },
        "id": "OtRc7MLATrDT",
        "outputId": "28778481-e020-4802-b6f9-09bbb79ff6b0"
      },
      "execution_count": 220,
      "outputs": [
        {
          "output_type": "execute_result",
          "data": {
            "text/plain": [
              "array([1.        , 1.04040404, 1.08080808, 1.12121212, 1.16161616,\n",
              "       1.2020202 , 1.24242424, 1.28282828, 1.32323232, 1.36363636,\n",
              "       1.4040404 , 1.44444444, 1.48484848, 1.52525253, 1.56565657,\n",
              "       1.60606061, 1.64646465, 1.68686869, 1.72727273, 1.76767677,\n",
              "       1.80808081, 1.84848485, 1.88888889, 1.92929293, 1.96969697,\n",
              "       2.01010101, 2.05050505, 2.09090909, 2.13131313, 2.17171717,\n",
              "       2.21212121, 2.25252525, 2.29292929, 2.33333333, 2.37373737,\n",
              "       2.41414141, 2.45454545, 2.49494949, 2.53535354, 2.57575758,\n",
              "       2.61616162, 2.65656566, 2.6969697 , 2.73737374, 2.77777778,\n",
              "       2.81818182, 2.85858586, 2.8989899 , 2.93939394, 2.97979798,\n",
              "       3.02020202, 3.06060606, 3.1010101 , 3.14141414, 3.18181818,\n",
              "       3.22222222, 3.26262626, 3.3030303 , 3.34343434, 3.38383838,\n",
              "       3.42424242, 3.46464646, 3.50505051, 3.54545455, 3.58585859,\n",
              "       3.62626263, 3.66666667, 3.70707071, 3.74747475, 3.78787879,\n",
              "       3.82828283, 3.86868687, 3.90909091, 3.94949495, 3.98989899,\n",
              "       4.03030303, 4.07070707, 4.11111111, 4.15151515, 4.19191919,\n",
              "       4.23232323, 4.27272727, 4.31313131, 4.35353535, 4.39393939,\n",
              "       4.43434343, 4.47474747, 4.51515152, 4.55555556, 4.5959596 ,\n",
              "       4.63636364, 4.67676768, 4.71717172, 4.75757576, 4.7979798 ,\n",
              "       4.83838384, 4.87878788, 4.91919192, 4.95959596, 5.        ])"
            ]
          },
          "metadata": {},
          "execution_count": 220
        }
      ]
    },
    {
      "cell_type": "markdown",
      "source": [
        "\n",
        "*RANDOM GENERATING FUNCTION*.  \n",
        " Ise hm random library with the help of rand function se banate hai."
      ],
      "metadata": {
        "id": "nP5nJ5f6USTq"
      }
    },
    {
      "cell_type": "code",
      "source": [
        "np.random.rand(5)"
      ],
      "metadata": {
        "colab": {
          "base_uri": "https://localhost:8080/"
        },
        "id": "hbu15mf9UcU4",
        "outputId": "4706f8a5-1e50-4d5a-f491-c3d9d2973adb"
      },
      "execution_count": 221,
      "outputs": [
        {
          "output_type": "execute_result",
          "data": {
            "text/plain": [
              "array([0.61352365, 0.58576542, 0.83247222, 0.83541777, 0.22488856])"
            ]
          },
          "metadata": {},
          "execution_count": 221
        }
      ]
    },
    {
      "cell_type": "code",
      "source": [
        "np.random.rand(20)# ye matrix nhi hai isme bas ek  hi [] agar do hota [[]] matrix hota hai sare value\n",
        "#0-1 ke beach me ahi ye normalization hai\n",
        "#agar standarization hoga tu value -3 se lekar +3 tak rahega\n"
      ],
      "metadata": {
        "colab": {
          "base_uri": "https://localhost:8080/"
        },
        "id": "obleJmlEVgvc",
        "outputId": "c099fee3-37da-4538-e510-2a1d08f9cd37"
      },
      "execution_count": 222,
      "outputs": [
        {
          "output_type": "execute_result",
          "data": {
            "text/plain": [
              "array([0.53920521, 0.01111334, 0.90797334, 0.68538046, 0.97756724,\n",
              "       0.34319656, 0.71840848, 0.47816649, 0.27763015, 0.53196451,\n",
              "       0.73143866, 0.23216682, 0.22986974, 0.74326123, 0.61907763,\n",
              "       0.41396362, 0.50850394, 0.61975606, 0.6114046 , 0.44963415])"
            ]
          },
          "metadata": {},
          "execution_count": 222
        }
      ]
    },
    {
      "cell_type": "code",
      "source": [
        "np.random.randn(20)# agar hm randn likhe tu standarization value aayeagi\n",
        "#agar standarization hoga tu value -3 se lekar +3 tak rahega\n"
      ],
      "metadata": {
        "colab": {
          "base_uri": "https://localhost:8080/"
        },
        "id": "4ZFkz2uAWdNO",
        "outputId": "14af8650-e409-4eb4-8d16-8532734d5203"
      },
      "execution_count": 223,
      "outputs": [
        {
          "output_type": "execute_result",
          "data": {
            "text/plain": [
              "array([ 0.33003458,  0.25650897, -1.21589289, -0.93330301, -0.83264226,\n",
              "       -0.37765654,  0.84332478,  0.44104237, -1.17753195,  0.31667682,\n",
              "        0.37098801, -0.6260882 ,  1.61591389, -1.06355487,  0.6232321 ,\n",
              "        0.44185857, -1.06475199, -0.46647254, -0.622616  ,  0.16967301])"
            ]
          },
          "metadata": {},
          "execution_count": 223
        }
      ]
    },
    {
      "cell_type": "code",
      "source": [
        "np.random.randint(10,20,5)#randint bata rha hai 10-20 ke beach me koi 5 random numbers and number repeat ho sakte hai."
      ],
      "metadata": {
        "colab": {
          "base_uri": "https://localhost:8080/"
        },
        "id": "JsMJrf6MXnck",
        "outputId": "02de92ba-7801-4ee7-df3b-77083337561a"
      },
      "execution_count": 224,
      "outputs": [
        {
          "output_type": "execute_result",
          "data": {
            "text/plain": [
              "array([13, 11, 13, 16, 17])"
            ]
          },
          "metadata": {},
          "execution_count": 224
        }
      ]
    },
    {
      "cell_type": "markdown",
      "source": [
        " **Array Attributes**\n",
        " attrubutes are variable defined inside a class\n",
        " methods are function defined insude a class"
      ],
      "metadata": {
        "id": "E3ixFipQYP9M"
      }
    },
    {
      "cell_type": "code",
      "source": [
        "#attributes ko call nhi karte hai direct likhte hai but methods ko call karte hai.\n",
        "arr=np.array([[1,2,3],[4,5,6],[7,8,9]])\n",
        "arr"
      ],
      "metadata": {
        "colab": {
          "base_uri": "https://localhost:8080/"
        },
        "id": "81IremQhYVwQ",
        "outputId": "640bd82a-edfa-4958-f906-b8362de414eb"
      },
      "execution_count": 225,
      "outputs": [
        {
          "output_type": "execute_result",
          "data": {
            "text/plain": [
              "array([[1, 2, 3],\n",
              "       [4, 5, 6],\n",
              "       [7, 8, 9]])"
            ]
          },
          "metadata": {},
          "execution_count": 225
        }
      ]
    },
    {
      "cell_type": "code",
      "source": [
        "arr.shape# shape attribute hai isme bracket nhi lagega agar lagaya tu galt ho jayeaga.\n"
      ],
      "metadata": {
        "colab": {
          "base_uri": "https://localhost:8080/"
        },
        "id": "BgxSYXIBampk",
        "outputId": "591c4e81-98fb-411d-d0ab-330522a65674"
      },
      "execution_count": 226,
      "outputs": [
        {
          "output_type": "execute_result",
          "data": {
            "text/plain": [
              "(3, 3)"
            ]
          },
          "metadata": {},
          "execution_count": 226
        }
      ]
    },
    {
      "cell_type": "code",
      "source": [
        "arr.size"
      ],
      "metadata": {
        "colab": {
          "base_uri": "https://localhost:8080/"
        },
        "id": "0fT30AmGawc5",
        "outputId": "a3bff723-f851-465f-abe7-87941a021828"
      },
      "execution_count": 227,
      "outputs": [
        {
          "output_type": "execute_result",
          "data": {
            "text/plain": [
              "9"
            ]
          },
          "metadata": {},
          "execution_count": 227
        }
      ]
    },
    {
      "cell_type": "code",
      "source": [
        "arr.dtype# data type ke jo integer hai.\n"
      ],
      "metadata": {
        "colab": {
          "base_uri": "https://localhost:8080/"
        },
        "id": "kv_1Jd3ba0L7",
        "outputId": "c14509b9-bcfe-4584-83e0-3008a76ad2ab"
      },
      "execution_count": 228,
      "outputs": [
        {
          "output_type": "execute_result",
          "data": {
            "text/plain": [
              "dtype('int64')"
            ]
          },
          "metadata": {},
          "execution_count": 228
        }
      ]
    },
    {
      "cell_type": "markdown",
      "source": [
        "**Array Methods**"
      ],
      "metadata": {
        "id": "4sMLMKkCbE08"
      }
    },
    {
      "cell_type": "code",
      "source": [
        "arr"
      ],
      "metadata": {
        "colab": {
          "base_uri": "https://localhost:8080/"
        },
        "id": "MfI-oCvqbJid",
        "outputId": "1d8d9b3b-e8d3-46d7-99e1-a0222d3e126b"
      },
      "execution_count": 229,
      "outputs": [
        {
          "output_type": "execute_result",
          "data": {
            "text/plain": [
              "array([[1, 2, 3],\n",
              "       [4, 5, 6],\n",
              "       [7, 8, 9]])"
            ]
          },
          "metadata": {},
          "execution_count": 229
        }
      ]
    },
    {
      "cell_type": "code",
      "source": [
        "arr.min()"
      ],
      "metadata": {
        "colab": {
          "base_uri": "https://localhost:8080/"
        },
        "id": "dpz6XlV7bQdO",
        "outputId": "ce3d4e34-2386-406f-d35a-adc4237eb8af"
      },
      "execution_count": 230,
      "outputs": [
        {
          "output_type": "execute_result",
          "data": {
            "text/plain": [
              "np.int64(1)"
            ]
          },
          "metadata": {},
          "execution_count": 230
        }
      ]
    },
    {
      "cell_type": "code",
      "source": [
        "arr.max()"
      ],
      "metadata": {
        "colab": {
          "base_uri": "https://localhost:8080/"
        },
        "id": "gPz0GRWnbSLE",
        "outputId": "4de76c2d-2390-412f-ffcc-2a8bdb296533"
      },
      "execution_count": 231,
      "outputs": [
        {
          "output_type": "execute_result",
          "data": {
            "text/plain": [
              "np.int64(9)"
            ]
          },
          "metadata": {},
          "execution_count": 231
        }
      ]
    },
    {
      "cell_type": "code",
      "source": [
        "arr.sum()"
      ],
      "metadata": {
        "colab": {
          "base_uri": "https://localhost:8080/"
        },
        "id": "acGniNkBbV4U",
        "outputId": "4896c256-b77c-4265-e5d2-41f485e93b08"
      },
      "execution_count": 232,
      "outputs": [
        {
          "output_type": "execute_result",
          "data": {
            "text/plain": [
              "np.int64(45)"
            ]
          },
          "metadata": {},
          "execution_count": 232
        }
      ]
    },
    {
      "cell_type": "code",
      "source": [
        "#row column sum karne ke liye\n",
        "arr.sum(axis=0)#column sum\n"
      ],
      "metadata": {
        "colab": {
          "base_uri": "https://localhost:8080/"
        },
        "id": "vexs2rlUbYhm",
        "outputId": "532efa31-47fc-4ecc-e658-cb273e8635a0"
      },
      "execution_count": 233,
      "outputs": [
        {
          "output_type": "execute_result",
          "data": {
            "text/plain": [
              "array([12, 15, 18])"
            ]
          },
          "metadata": {},
          "execution_count": 233
        }
      ]
    },
    {
      "cell_type": "code",
      "source": [
        "arr.sum(axis=1)#row sum"
      ],
      "metadata": {
        "colab": {
          "base_uri": "https://localhost:8080/"
        },
        "id": "cHYnCCcybws0",
        "outputId": "22cfdf5b-3dea-4ebf-a1dc-dff11989ef37"
      },
      "execution_count": 234,
      "outputs": [
        {
          "output_type": "execute_result",
          "data": {
            "text/plain": [
              "array([ 6, 15, 24])"
            ]
          },
          "metadata": {},
          "execution_count": 234
        }
      ]
    },
    {
      "cell_type": "code",
      "source": [
        "arr.mean()"
      ],
      "metadata": {
        "colab": {
          "base_uri": "https://localhost:8080/"
        },
        "id": "kqLdrijrb2J3",
        "outputId": "9ea6d4d2-8add-473e-92fb-a71a0704231d"
      },
      "execution_count": 235,
      "outputs": [
        {
          "output_type": "execute_result",
          "data": {
            "text/plain": [
              "np.float64(5.0)"
            ]
          },
          "metadata": {},
          "execution_count": 235
        }
      ]
    },
    {
      "cell_type": "code",
      "source": [
        "arr.std()#standard deviation"
      ],
      "metadata": {
        "colab": {
          "base_uri": "https://localhost:8080/"
        },
        "id": "KXxVmZSJcEGh",
        "outputId": "c55b8799-5586-4039-c4f1-b2a5ea90b0a6"
      },
      "execution_count": 236,
      "outputs": [
        {
          "output_type": "execute_result",
          "data": {
            "text/plain": [
              "np.float64(2.581988897471611)"
            ]
          },
          "metadata": {},
          "execution_count": 236
        }
      ]
    },
    {
      "cell_type": "code",
      "source": [
        "arr.argmax()#Return highest index value which is 9 in thid case at 8 position starting from zero"
      ],
      "metadata": {
        "colab": {
          "base_uri": "https://localhost:8080/"
        },
        "id": "jk-FYPBwcL-6",
        "outputId": "10e6677e-f900-4d1e-b755-3b4dba66dfbf"
      },
      "execution_count": 237,
      "outputs": [
        {
          "output_type": "execute_result",
          "data": {
            "text/plain": [
              "np.int64(8)"
            ]
          },
          "metadata": {},
          "execution_count": 237
        }
      ]
    },
    {
      "cell_type": "markdown",
      "source": [
        "**Reshaping and Resizing**"
      ],
      "metadata": {
        "id": "Q8Qi8N0Ncmrd"
      }
    },
    {
      "cell_type": "code",
      "source": [
        "np.arange(1,31)#abhi ye call ho rha hai but store nhi"
      ],
      "metadata": {
        "colab": {
          "base_uri": "https://localhost:8080/"
        },
        "id": "oQmue5Uxcr0g",
        "outputId": "f692ecf4-2909-49a3-a539-bbc187525cda"
      },
      "execution_count": 238,
      "outputs": [
        {
          "output_type": "execute_result",
          "data": {
            "text/plain": [
              "array([ 1,  2,  3,  4,  5,  6,  7,  8,  9, 10, 11, 12, 13, 14, 15, 16, 17,\n",
              "       18, 19, 20, 21, 22, 23, 24, 25, 26, 27, 28, 29, 30])"
            ]
          },
          "metadata": {},
          "execution_count": 238
        }
      ]
    },
    {
      "cell_type": "code",
      "source": [
        "arr=np.arange(1,31)#abhi ye store  ho rha hai but call nhi"
      ],
      "metadata": {
        "id": "zunGPdzjcyXB"
      },
      "execution_count": 239,
      "outputs": []
    },
    {
      "cell_type": "code",
      "source": [
        "arr=np.arange(1,31)#abhi ye call ho rha hai and store bhi dono\n",
        "arr"
      ],
      "metadata": {
        "colab": {
          "base_uri": "https://localhost:8080/"
        },
        "id": "h7hXV_PsdDdp",
        "outputId": "e77a1499-f6d1-4034-b0ae-f488aafb82c3"
      },
      "execution_count": 240,
      "outputs": [
        {
          "output_type": "execute_result",
          "data": {
            "text/plain": [
              "array([ 1,  2,  3,  4,  5,  6,  7,  8,  9, 10, 11, 12, 13, 14, 15, 16, 17,\n",
              "       18, 19, 20, 21, 22, 23, 24, 25, 26, 27, 28, 29, 30])"
            ]
          },
          "metadata": {},
          "execution_count": 240
        }
      ]
    },
    {
      "cell_type": "code",
      "source": [
        "arr=arr.reshape(6,5)#reshaping me dhyan dena hai ki element count bhi same hona chahiye warna nhi ho payeaga.\n",
        "arr"
      ],
      "metadata": {
        "colab": {
          "base_uri": "https://localhost:8080/"
        },
        "id": "J-GpDtfvdIno",
        "outputId": "5928802f-5680-4da7-d6f3-c31c6daa125a"
      },
      "execution_count": 241,
      "outputs": [
        {
          "output_type": "execute_result",
          "data": {
            "text/plain": [
              "array([[ 1,  2,  3,  4,  5],\n",
              "       [ 6,  7,  8,  9, 10],\n",
              "       [11, 12, 13, 14, 15],\n",
              "       [16, 17, 18, 19, 20],\n",
              "       [21, 22, 23, 24, 25],\n",
              "       [26, 27, 28, 29, 30]])"
            ]
          },
          "metadata": {},
          "execution_count": 241
        }
      ]
    },
    {
      "cell_type": "code",
      "source": [
        "arr"
      ],
      "metadata": {
        "colab": {
          "base_uri": "https://localhost:8080/"
        },
        "id": "jSlNmKALeA-J",
        "outputId": "88d8899d-1baf-485e-dec8-b02fe7ce06fa"
      },
      "execution_count": 242,
      "outputs": [
        {
          "output_type": "execute_result",
          "data": {
            "text/plain": [
              "array([[ 1,  2,  3,  4,  5],\n",
              "       [ 6,  7,  8,  9, 10],\n",
              "       [11, 12, 13, 14, 15],\n",
              "       [16, 17, 18, 19, 20],\n",
              "       [21, 22, 23, 24, 25],\n",
              "       [26, 27, 28, 29, 30]])"
            ]
          },
          "metadata": {},
          "execution_count": 242
        }
      ]
    },
    {
      "cell_type": "markdown",
      "source": [
        "***NUMPY indexing and slicing of vectors***"
      ],
      "metadata": {
        "id": "Ed0pQvuIj-HZ"
      }
    },
    {
      "cell_type": "code",
      "source": [
        "arr=np.arange(11,21)\n",
        "arr"
      ],
      "metadata": {
        "colab": {
          "base_uri": "https://localhost:8080/"
        },
        "id": "NZwLU5flkGJJ",
        "outputId": "eb5a3b29-6548-420c-fbca-13fc039c2a54"
      },
      "execution_count": 243,
      "outputs": [
        {
          "output_type": "execute_result",
          "data": {
            "text/plain": [
              "array([11, 12, 13, 14, 15, 16, 17, 18, 19, 20])"
            ]
          },
          "metadata": {},
          "execution_count": 243
        }
      ]
    },
    {
      "cell_type": "code",
      "source": [
        "arr[6]"
      ],
      "metadata": {
        "colab": {
          "base_uri": "https://localhost:8080/"
        },
        "id": "fOsD-5_CkYKp",
        "outputId": "fb5c35e0-438c-4559-b804-8904fb95fd90"
      },
      "execution_count": 244,
      "outputs": [
        {
          "output_type": "execute_result",
          "data": {
            "text/plain": [
              "np.int64(17)"
            ]
          },
          "metadata": {},
          "execution_count": 244
        }
      ]
    },
    {
      "cell_type": "code",
      "source": [
        "arr[3:5]#slice ho gya"
      ],
      "metadata": {
        "colab": {
          "base_uri": "https://localhost:8080/"
        },
        "id": "VCiyuYfQmd7K",
        "outputId": "81b349e3-4c5d-46a4-81c6-f23577a2dd18"
      },
      "execution_count": 245,
      "outputs": [
        {
          "output_type": "execute_result",
          "data": {
            "text/plain": [
              "array([14, 15])"
            ]
          },
          "metadata": {},
          "execution_count": 245
        }
      ]
    },
    {
      "cell_type": "code",
      "source": [],
      "metadata": {
        "id": "QWXtW-zkmsOp"
      },
      "execution_count": 245,
      "outputs": []
    },
    {
      "cell_type": "markdown",
      "source": [
        "*NUMPY Indexing and slicing of a matrix*"
      ],
      "metadata": {
        "id": "rycUWaFim5GE"
      }
    },
    {
      "cell_type": "code",
      "source": [
        "arr= np.arange(1,31).reshape(6,5)\n",
        "arr"
      ],
      "metadata": {
        "colab": {
          "base_uri": "https://localhost:8080/"
        },
        "id": "Ot7V2jBNm_sU",
        "outputId": "2e725816-c37c-41ba-872f-eb6a43b1dc80"
      },
      "execution_count": 246,
      "outputs": [
        {
          "output_type": "execute_result",
          "data": {
            "text/plain": [
              "array([[ 1,  2,  3,  4,  5],\n",
              "       [ 6,  7,  8,  9, 10],\n",
              "       [11, 12, 13, 14, 15],\n",
              "       [16, 17, 18, 19, 20],\n",
              "       [21, 22, 23, 24, 25],\n",
              "       [26, 27, 28, 29, 30]])"
            ]
          },
          "metadata": {},
          "execution_count": 246
        }
      ]
    },
    {
      "cell_type": "code",
      "source": [
        "arr[5]#for row"
      ],
      "metadata": {
        "colab": {
          "base_uri": "https://localhost:8080/"
        },
        "id": "xrFc7p4RnSJH",
        "outputId": "f80a3004-c19f-4934-8bd9-c50e1db7206a"
      },
      "execution_count": 247,
      "outputs": [
        {
          "output_type": "execute_result",
          "data": {
            "text/plain": [
              "array([26, 27, 28, 29, 30])"
            ]
          },
          "metadata": {},
          "execution_count": 247
        }
      ]
    },
    {
      "cell_type": "code",
      "source": [
        "arr[3]#for row"
      ],
      "metadata": {
        "colab": {
          "base_uri": "https://localhost:8080/"
        },
        "id": "2E4M05DknY6I",
        "outputId": "cefd43d1-e1f7-48a2-a38b-984744efe1d6"
      },
      "execution_count": 248,
      "outputs": [
        {
          "output_type": "execute_result",
          "data": {
            "text/plain": [
              "array([16, 17, 18, 19, 20])"
            ]
          },
          "metadata": {},
          "execution_count": 248
        }
      ]
    },
    {
      "cell_type": "code",
      "source": [
        "arr[0,0]#for column"
      ],
      "metadata": {
        "colab": {
          "base_uri": "https://localhost:8080/"
        },
        "id": "5sM8H_xEnahu",
        "outputId": "e0a34e6d-b7b3-4344-ef3c-699f269cbc30"
      },
      "execution_count": 249,
      "outputs": [
        {
          "output_type": "execute_result",
          "data": {
            "text/plain": [
              "np.int64(1)"
            ]
          },
          "metadata": {},
          "execution_count": 249
        }
      ]
    },
    {
      "cell_type": "code",
      "source": [
        "arr[5,4]#for column, pahle row then column"
      ],
      "metadata": {
        "colab": {
          "base_uri": "https://localhost:8080/"
        },
        "id": "v87aKx0NnnuB",
        "outputId": "e4b9bb3a-00eb-4744-9d76-c16bca4616bb"
      },
      "execution_count": 250,
      "outputs": [
        {
          "output_type": "execute_result",
          "data": {
            "text/plain": [
              "np.int64(30)"
            ]
          },
          "metadata": {},
          "execution_count": 250
        }
      ]
    },
    {
      "cell_type": "markdown",
      "source": [],
      "metadata": {
        "id": "qTHMoaL0AA2C"
      }
    },
    {
      "cell_type": "code",
      "source": [
        "arr= np.arange(1,31).reshape(6,5)\n",
        "arr"
      ],
      "metadata": {
        "colab": {
          "base_uri": "https://localhost:8080/"
        },
        "id": "2ia9COw-nvCw",
        "outputId": "c0298d4a-37de-4aca-c9d9-7588b2c25a2d"
      },
      "execution_count": 251,
      "outputs": [
        {
          "output_type": "execute_result",
          "data": {
            "text/plain": [
              "array([[ 1,  2,  3,  4,  5],\n",
              "       [ 6,  7,  8,  9, 10],\n",
              "       [11, 12, 13, 14, 15],\n",
              "       [16, 17, 18, 19, 20],\n",
              "       [21, 22, 23, 24, 25],\n",
              "       [26, 27, 28, 29, 30]])"
            ]
          },
          "metadata": {},
          "execution_count": 251
        }
      ]
    },
    {
      "cell_type": "code",
      "source": [
        "slice=arr[0:2,1:3]\n",
        "slice"
      ],
      "metadata": {
        "colab": {
          "base_uri": "https://localhost:8080/"
        },
        "id": "PDPFiCQWn894",
        "outputId": "669d5e79-24bd-4db2-9b68-30ae7d45225c"
      },
      "execution_count": 252,
      "outputs": [
        {
          "output_type": "execute_result",
          "data": {
            "text/plain": [
              "array([[2, 3],\n",
              "       [7, 8]])"
            ]
          },
          "metadata": {},
          "execution_count": 252
        }
      ]
    },
    {
      "cell_type": "code",
      "source": [
        "slice=arr[3:6,3:5]\n",
        "slice"
      ],
      "metadata": {
        "colab": {
          "base_uri": "https://localhost:8080/"
        },
        "id": "LfbOM7mPp7PX",
        "outputId": "8a722a70-873f-47fd-cc5a-f133d924a218"
      },
      "execution_count": 253,
      "outputs": [
        {
          "output_type": "execute_result",
          "data": {
            "text/plain": [
              "array([[19, 20],\n",
              "       [24, 25],\n",
              "       [29, 30]])"
            ]
          },
          "metadata": {},
          "execution_count": 253
        }
      ]
    },
    {
      "cell_type": "code",
      "source": [
        "arr[:,2]#column slice"
      ],
      "metadata": {
        "colab": {
          "base_uri": "https://localhost:8080/"
        },
        "id": "Vrm5YpWIqXeg",
        "outputId": "5dd99799-a8dd-4ae3-a94b-db5bbc26ab9c"
      },
      "execution_count": 254,
      "outputs": [
        {
          "output_type": "execute_result",
          "data": {
            "text/plain": [
              "array([ 3,  8, 13, 18, 23, 28])"
            ]
          },
          "metadata": {},
          "execution_count": 254
        }
      ]
    },
    {
      "cell_type": "markdown",
      "source": [
        "**Boolean indexing**"
      ],
      "metadata": {
        "id": "WdEEy7WAqkQr"
      }
    },
    {
      "cell_type": "code",
      "source": [
        "arr = np.arange(11,21)\n",
        "arr"
      ],
      "metadata": {
        "colab": {
          "base_uri": "https://localhost:8080/"
        },
        "id": "x9DJtxK1qrbD",
        "outputId": "668fa0a6-b101-4e36-e44f-9c6c4a2594f9"
      },
      "execution_count": 255,
      "outputs": [
        {
          "output_type": "execute_result",
          "data": {
            "text/plain": [
              "array([11, 12, 13, 14, 15, 16, 17, 18, 19, 20])"
            ]
          },
          "metadata": {},
          "execution_count": 255
        }
      ]
    },
    {
      "cell_type": "code",
      "source": [
        "bool_index = arr%2 ==0\n",
        "bool_index"
      ],
      "metadata": {
        "colab": {
          "base_uri": "https://localhost:8080/"
        },
        "id": "mrSv10LswnSX",
        "outputId": "f13803e7-47c9-4b67-93f5-515e765c5041"
      },
      "execution_count": 256,
      "outputs": [
        {
          "output_type": "execute_result",
          "data": {
            "text/plain": [
              "array([False,  True, False,  True, False,  True, False,  True, False,\n",
              "        True])"
            ]
          },
          "metadata": {},
          "execution_count": 256
        }
      ]
    },
    {
      "cell_type": "code",
      "source": [
        "arr = arr[bool_index]\n",
        "arr"
      ],
      "metadata": {
        "colab": {
          "base_uri": "https://localhost:8080/"
        },
        "id": "Kaxm-W6SwyZj",
        "outputId": "1155d2f5-b862-43aa-bc5f-c4debfa8e8e5"
      },
      "execution_count": 257,
      "outputs": [
        {
          "output_type": "execute_result",
          "data": {
            "text/plain": [
              "array([12, 14, 16, 18, 20])"
            ]
          },
          "metadata": {},
          "execution_count": 257
        }
      ]
    },
    {
      "cell_type": "markdown",
      "source": [
        "***Array opereations***"
      ],
      "metadata": {
        "id": "LJuv48TlLlEa"
      }
    },
    {
      "cell_type": "code",
      "source": [
        "import numpy as np"
      ],
      "metadata": {
        "id": "4pbJ6DWbw6Dh"
      },
      "execution_count": 258,
      "outputs": []
    },
    {
      "cell_type": "code",
      "source": [
        "a1=np.array([1,2,3,4,5])\n",
        "a2=np.array([6,7,8,9,10])\n",
        "a2"
      ],
      "metadata": {
        "colab": {
          "base_uri": "https://localhost:8080/"
        },
        "id": "fssqRIi1Ltor",
        "outputId": "a99680a4-ca84-4705-a03d-329749f6218a"
      },
      "execution_count": 259,
      "outputs": [
        {
          "output_type": "execute_result",
          "data": {
            "text/plain": [
              "array([ 6,  7,  8,  9, 10])"
            ]
          },
          "metadata": {},
          "execution_count": 259
        }
      ]
    },
    {
      "cell_type": "code",
      "source": [
        "a1+a2#addition of two arrays"
      ],
      "metadata": {
        "colab": {
          "base_uri": "https://localhost:8080/"
        },
        "id": "2WD0_pU_MAgb",
        "outputId": "d84cdc97-6296-4f81-d392-f600f9d676c7"
      },
      "execution_count": 260,
      "outputs": [
        {
          "output_type": "execute_result",
          "data": {
            "text/plain": [
              "array([ 7,  9, 11, 13, 15])"
            ]
          },
          "metadata": {},
          "execution_count": 260
        }
      ]
    },
    {
      "cell_type": "code",
      "source": [
        "a1=np.array([1,2,3,4,5,8])#add karne ke liye dono me same number of elemnts hone chahiye jo nhi hai\n",
        "a2=np.array([6,7,8,9,10,8])#uuper 6 hai and niche 5 so ye nhi add hoga.So upper niche same rakhna chachiye agar add karna hai tu\n",
        "a1+a2"
      ],
      "metadata": {
        "colab": {
          "base_uri": "https://localhost:8080/"
        },
        "id": "TiZLNoH6MJDh",
        "outputId": "13e17da6-3f6e-4de6-9332-65da3eb084af"
      },
      "execution_count": 261,
      "outputs": [
        {
          "output_type": "execute_result",
          "data": {
            "text/plain": [
              "array([ 7,  9, 11, 13, 15, 16])"
            ]
          },
          "metadata": {},
          "execution_count": 261
        }
      ]
    },
    {
      "cell_type": "code",
      "source": [
        "a1=np.array([1,2,3,4,5,8])\n",
        "a2=np.array([6,7,8,9,10,12])\n",
        "arr2=a1+a2\n",
        "arr2"
      ],
      "metadata": {
        "colab": {
          "base_uri": "https://localhost:8080/"
        },
        "id": "1cI6sactMU_t",
        "outputId": "274f5e7a-1f9c-4ade-d68f-cfadab2b5082"
      },
      "execution_count": 262,
      "outputs": [
        {
          "output_type": "execute_result",
          "data": {
            "text/plain": [
              "array([ 7,  9, 11, 13, 15, 20])"
            ]
          },
          "metadata": {},
          "execution_count": 262
        }
      ]
    },
    {
      "cell_type": "code",
      "source": [
        "a1-a2"
      ],
      "metadata": {
        "colab": {
          "base_uri": "https://localhost:8080/"
        },
        "id": "vvuMrufaMwBL",
        "outputId": "c5aebcad-83f4-49e1-cc77-699aa4653690"
      },
      "execution_count": 263,
      "outputs": [
        {
          "output_type": "execute_result",
          "data": {
            "text/plain": [
              "array([-5, -5, -5, -5, -5, -4])"
            ]
          },
          "metadata": {},
          "execution_count": 263
        }
      ]
    },
    {
      "cell_type": "code",
      "source": [
        "a1*a2"
      ],
      "metadata": {
        "colab": {
          "base_uri": "https://localhost:8080/"
        },
        "id": "IenF8vXiM4Qf",
        "outputId": "8ed20039-8461-4acd-bab5-1c9008740a3b"
      },
      "execution_count": 264,
      "outputs": [
        {
          "output_type": "execute_result",
          "data": {
            "text/plain": [
              "array([ 6, 14, 24, 36, 50, 96])"
            ]
          },
          "metadata": {},
          "execution_count": 264
        }
      ]
    },
    {
      "cell_type": "code",
      "source": [
        "a1/a2"
      ],
      "metadata": {
        "colab": {
          "base_uri": "https://localhost:8080/"
        },
        "id": "re8msVawM_ja",
        "outputId": "69dba866-3f4b-44a8-e0ef-5c7a07cd2fcc"
      },
      "execution_count": 265,
      "outputs": [
        {
          "output_type": "execute_result",
          "data": {
            "text/plain": [
              "array([0.16666667, 0.28571429, 0.375     , 0.44444444, 0.5       ,\n",
              "       0.66666667])"
            ]
          },
          "metadata": {},
          "execution_count": 265
        }
      ]
    },
    {
      "cell_type": "code",
      "source": [
        "a1//a2#floor division"
      ],
      "metadata": {
        "colab": {
          "base_uri": "https://localhost:8080/"
        },
        "id": "sMArWz4RNCo7",
        "outputId": "c582f8d2-c6f5-4cac-dc9b-a4abec5e4f6e"
      },
      "execution_count": 266,
      "outputs": [
        {
          "output_type": "execute_result",
          "data": {
            "text/plain": [
              "array([0, 0, 0, 0, 0, 0])"
            ]
          },
          "metadata": {},
          "execution_count": 266
        }
      ]
    },
    {
      "cell_type": "code",
      "source": [
        "a1**a2"
      ],
      "metadata": {
        "colab": {
          "base_uri": "https://localhost:8080/"
        },
        "id": "uc6lLWa0NOh6",
        "outputId": "f993164d-b790-4e6f-b261-4cc80ca3a0d1"
      },
      "execution_count": 267,
      "outputs": [
        {
          "output_type": "execute_result",
          "data": {
            "text/plain": [
              "array([          1,         128,        6561,      262144,     9765625,\n",
              "       68719476736])"
            ]
          },
          "metadata": {},
          "execution_count": 267
        }
      ]
    },
    {
      "cell_type": "markdown",
      "source": [
        "**Broadcasting**"
      ],
      "metadata": {
        "id": "zUS4zzwINTA0"
      }
    },
    {
      "cell_type": "code",
      "source": [
        "l=[10,20,30,40]\n",
        "arr=np.array(l)"
      ],
      "metadata": {
        "id": "w-kG-oAnNVGd"
      },
      "execution_count": 268,
      "outputs": []
    },
    {
      "cell_type": "code",
      "source": [
        "l+10# we cant directly add"
      ],
      "metadata": {
        "colab": {
          "base_uri": "https://localhost:8080/",
          "height": 141
        },
        "id": "TfUzV11-Njsk",
        "outputId": "45b03310-22f1-4038-9fa4-2001d6ec28d7"
      },
      "execution_count": 269,
      "outputs": [
        {
          "output_type": "error",
          "ename": "TypeError",
          "evalue": "can only concatenate list (not \"int\") to list",
          "traceback": [
            "\u001b[0;31m---------------------------------------------------------------------------\u001b[0m",
            "\u001b[0;31mTypeError\u001b[0m                                 Traceback (most recent call last)",
            "\u001b[0;32m/tmp/ipython-input-269-2879731070.py\u001b[0m in \u001b[0;36m<cell line: 0>\u001b[0;34m()\u001b[0m\n\u001b[0;32m----> 1\u001b[0;31m \u001b[0ml\u001b[0m\u001b[0;34m+\u001b[0m\u001b[0;36m10\u001b[0m\u001b[0;31m# we cant directly add\u001b[0m\u001b[0;34m\u001b[0m\u001b[0;34m\u001b[0m\u001b[0m\n\u001b[0m",
            "\u001b[0;31mTypeError\u001b[0m: can only concatenate list (not \"int\") to list"
          ]
        }
      ]
    },
    {
      "cell_type": "code",
      "source": [
        "for i in l:# we need long procedure\n",
        "  print (i+10)# to avoid this we directly add in array"
      ],
      "metadata": {
        "colab": {
          "base_uri": "https://localhost:8080/"
        },
        "id": "z5d-IhYjNpoP",
        "outputId": "a46074e3-8b22-4def-9241-436bf0f770d3"
      },
      "execution_count": 270,
      "outputs": [
        {
          "output_type": "stream",
          "name": "stdout",
          "text": [
            "20\n",
            "30\n",
            "40\n",
            "50\n"
          ]
        }
      ]
    },
    {
      "cell_type": "code",
      "source": [
        "l=[10,20,30,40]#directly array me add karo ye hi broadcsting hai agar koi number hai jise add karna chahte ho sab me then  use broadcasting.\n",
        "arr=np.array(l)\n",
        "arr+10"
      ],
      "metadata": {
        "colab": {
          "base_uri": "https://localhost:8080/"
        },
        "id": "zBtEmxF0N0O2",
        "outputId": "0a0ee89b-f42f-45cf-fcb2-6e8c17ae0425"
      },
      "execution_count": 271,
      "outputs": [
        {
          "output_type": "execute_result",
          "data": {
            "text/plain": [
              "array([20, 30, 40, 50])"
            ]
          },
          "metadata": {},
          "execution_count": 271
        }
      ]
    },
    {
      "cell_type": "code",
      "source": [
        "arr2=np.arange(1,26).reshape(5,5)\n",
        "arr2"
      ],
      "metadata": {
        "colab": {
          "base_uri": "https://localhost:8080/"
        },
        "id": "C0TKaIhiOqbn",
        "outputId": "e898bfd6-5e71-467d-f25f-e0f048989e22"
      },
      "execution_count": 272,
      "outputs": [
        {
          "output_type": "execute_result",
          "data": {
            "text/plain": [
              "array([[ 1,  2,  3,  4,  5],\n",
              "       [ 6,  7,  8,  9, 10],\n",
              "       [11, 12, 13, 14, 15],\n",
              "       [16, 17, 18, 19, 20],\n",
              "       [21, 22, 23, 24, 25]])"
            ]
          },
          "metadata": {},
          "execution_count": 272
        }
      ]
    },
    {
      "cell_type": "code",
      "source": [
        "# ab hm isme bhi broadcast kaar sakte hai\n",
        "arr2=arr2+10"
      ],
      "metadata": {
        "id": "kB1rfiIFO2nH"
      },
      "execution_count": 273,
      "outputs": []
    },
    {
      "cell_type": "code",
      "source": [
        "arr2*2"
      ],
      "metadata": {
        "colab": {
          "base_uri": "https://localhost:8080/"
        },
        "id": "WiLkdVJnO_1n",
        "outputId": "7f8dddc1-678b-4221-8324-cb0ae3fff5ae"
      },
      "execution_count": 274,
      "outputs": [
        {
          "output_type": "execute_result",
          "data": {
            "text/plain": [
              "array([[22, 24, 26, 28, 30],\n",
              "       [32, 34, 36, 38, 40],\n",
              "       [42, 44, 46, 48, 50],\n",
              "       [52, 54, 56, 58, 60],\n",
              "       [62, 64, 66, 68, 70]])"
            ]
          },
          "metadata": {},
          "execution_count": 274
        }
      ]
    },
    {
      "cell_type": "markdown",
      "source": [
        "**Deep and shallow copy**"
      ],
      "metadata": {
        "id": "DFZ4Q-InPSmT"
      }
    },
    {
      "cell_type": "code",
      "source": [
        "a=np.arange(1,21)\n",
        "a"
      ],
      "metadata": {
        "colab": {
          "base_uri": "https://localhost:8080/"
        },
        "id": "nzzJx1JXPNI6",
        "outputId": "7cc35fe0-ab67-4d95-f0e6-3541765bd115"
      },
      "execution_count": 275,
      "outputs": [
        {
          "output_type": "execute_result",
          "data": {
            "text/plain": [
              "array([ 1,  2,  3,  4,  5,  6,  7,  8,  9, 10, 11, 12, 13, 14, 15, 16, 17,\n",
              "       18, 19, 20])"
            ]
          },
          "metadata": {},
          "execution_count": 275
        }
      ]
    },
    {
      "cell_type": "code",
      "source": [
        "slice=a[:5]\n",
        "slice=slice*10\n",
        "slice"
      ],
      "metadata": {
        "colab": {
          "base_uri": "https://localhost:8080/"
        },
        "id": "yQH8XaqrPf88",
        "outputId": "dd45c0c6-744e-4e96-87d8-9eef4c484077"
      },
      "execution_count": 276,
      "outputs": [
        {
          "output_type": "execute_result",
          "data": {
            "text/plain": [
              "array([10, 20, 30, 40, 50])"
            ]
          },
          "metadata": {},
          "execution_count": 276
        }
      ]
    },
    {
      "cell_type": "code",
      "source": [
        "a#slice portion me change hone se array me change nhi hua hai but agar hm list use karte tu change hota .\n",
        "# ye shallow copy hai  jisse main wale me change nhi ho rha hai\n",
        "#but agar hm b=a likh ke a me change kare tu a me changaes hoga"
      ],
      "metadata": {
        "colab": {
          "base_uri": "https://localhost:8080/"
        },
        "id": "rp2eyw-JPqe0",
        "outputId": "142b41f0-ab46-4257-989c-5196c25e244c"
      },
      "execution_count": 277,
      "outputs": [
        {
          "output_type": "execute_result",
          "data": {
            "text/plain": [
              "array([ 1,  2,  3,  4,  5,  6,  7,  8,  9, 10, 11, 12, 13, 14, 15, 16, 17,\n",
              "       18, 19, 20])"
            ]
          },
          "metadata": {},
          "execution_count": 277
        }
      ]
    },
    {
      "cell_type": "code",
      "source": [],
      "metadata": {
        "id": "zU_MTZoVP0yb"
      },
      "execution_count": 286,
      "outputs": []
    },
    {
      "cell_type": "markdown",
      "source": [
        "**Matrix Operations**"
      ],
      "metadata": {
        "id": "ob8GXb__RGaw"
      }
    },
    {
      "cell_type": "code",
      "source": [
        "A = np.array([[1, 2], [3, 4]])\n",
        "B = np.array([[5, 6], [7, 8]])\n"
      ],
      "metadata": {
        "id": "NxxnYN6wRM4u"
      },
      "execution_count": 278,
      "outputs": []
    },
    {
      "cell_type": "code",
      "source": [
        "A"
      ],
      "metadata": {
        "id": "m1bnWsD5RW0X"
      },
      "execution_count": null,
      "outputs": []
    },
    {
      "cell_type": "code",
      "source": [
        "B"
      ],
      "metadata": {
        "colab": {
          "base_uri": "https://localhost:8080/"
        },
        "id": "VZbnf78tRXR5",
        "outputId": "b51b4f8e-89f2-4421-9e1d-5fc0dd5f6670"
      },
      "execution_count": 279,
      "outputs": [
        {
          "output_type": "execute_result",
          "data": {
            "text/plain": [
              "array([[5, 6],\n",
              "       [7, 8]])"
            ]
          },
          "metadata": {},
          "execution_count": 279
        }
      ]
    },
    {
      "cell_type": "markdown",
      "source": [
        "**Matrix multiplication**"
      ],
      "metadata": {
        "id": "GTz3WyRHSWX7"
      }
    },
    {
      "cell_type": "code",
      "source": [
        "A*B# A and B multiply ho gya hai but wo matrix multiplication nhi hai."
      ],
      "metadata": {
        "colab": {
          "base_uri": "https://localhost:8080/"
        },
        "id": "EsAk3k3iRZWB",
        "outputId": "f5238b1b-4347-4698-a11b-434100de192e"
      },
      "execution_count": 280,
      "outputs": [
        {
          "output_type": "execute_result",
          "data": {
            "text/plain": [
              "array([[ 5, 12],\n",
              "       [21, 32]])"
            ]
          },
          "metadata": {},
          "execution_count": 280
        }
      ]
    },
    {
      "cell_type": "code",
      "source": [
        "#tu hme matrix multiplication ke liye dot product karna hoga\n",
        "A @ B #@ MATRIX MULTIPLICATION KAARTA HAI."
      ],
      "metadata": {
        "colab": {
          "base_uri": "https://localhost:8080/"
        },
        "id": "Uxi2-5vbRfkw",
        "outputId": "6edfe4cb-645f-4150-dc35-9d0c008a9c16"
      },
      "execution_count": 281,
      "outputs": [
        {
          "output_type": "execute_result",
          "data": {
            "text/plain": [
              "array([[19, 22],\n",
              "       [43, 50]])"
            ]
          },
          "metadata": {},
          "execution_count": 281
        }
      ]
    },
    {
      "cell_type": "code",
      "source": [
        "#2nd method\n",
        "np.dot(A,B)#Agar hm np.dot ka use kaare tu usse bhi ho jayega matrix multiplication."
      ],
      "metadata": {
        "colab": {
          "base_uri": "https://localhost:8080/"
        },
        "id": "MILGMqh1R58a",
        "outputId": "9d28246d-0fbf-4d66-d023-4b3c7671b1a7"
      },
      "execution_count": 282,
      "outputs": [
        {
          "output_type": "execute_result",
          "data": {
            "text/plain": [
              "array([[19, 22],\n",
              "       [43, 50]])"
            ]
          },
          "metadata": {},
          "execution_count": 282
        }
      ]
    },
    {
      "cell_type": "markdown",
      "source": [
        "**Transpose of a matrix**"
      ],
      "metadata": {
        "id": "hWvmGX9GSfej"
      }
    },
    {
      "cell_type": "code",
      "source": [
        "A"
      ],
      "metadata": {
        "colab": {
          "base_uri": "https://localhost:8080/"
        },
        "id": "z1ZBfk2MSEmN",
        "outputId": "2a5ca22e-c05e-4092-b4c8-2577c65af5c9"
      },
      "execution_count": 283,
      "outputs": [
        {
          "output_type": "execute_result",
          "data": {
            "text/plain": [
              "array([[1, 2],\n",
              "       [3, 4]])"
            ]
          },
          "metadata": {},
          "execution_count": 283
        }
      ]
    },
    {
      "cell_type": "code",
      "source": [
        "A.T#.T for transpose"
      ],
      "metadata": {
        "colab": {
          "base_uri": "https://localhost:8080/"
        },
        "id": "UUA6qFeFSphM",
        "outputId": "2da2c0a5-33da-45c0-d9ed-88f4f9b7871b"
      },
      "execution_count": 284,
      "outputs": [
        {
          "output_type": "execute_result",
          "data": {
            "text/plain": [
              "array([[1, 3],\n",
              "       [2, 4]])"
            ]
          },
          "metadata": {},
          "execution_count": 284
        }
      ]
    },
    {
      "cell_type": "markdown",
      "source": [
        "**Advanced Array opertaion**"
      ],
      "metadata": {
        "id": "uiyGfbz8Swjw"
      }
    },
    {
      "cell_type": "code",
      "source": [
        "#stacking of two array we need to add vectors cant add matrix in stacking\n",
        "a = np.array([1, 2, 3, 4])\n",
        "b = np.array([5, 6, 7, 8])"
      ],
      "metadata": {
        "id": "wOfmirfZS1_3"
      },
      "execution_count": 285,
      "outputs": []
    },
    {
      "cell_type": "code",
      "source": [
        "np.vstack((a,b))#verically stack"
      ],
      "metadata": {
        "colab": {
          "base_uri": "https://localhost:8080/"
        },
        "id": "Fr2KTEa6S_Bo",
        "outputId": "2576f96c-a6f4-4f63-fb27-b716d7ca428f"
      },
      "execution_count": 286,
      "outputs": [
        {
          "output_type": "execute_result",
          "data": {
            "text/plain": [
              "array([[1, 2, 3, 4],\n",
              "       [5, 6, 7, 8]])"
            ]
          },
          "metadata": {},
          "execution_count": 286
        }
      ]
    },
    {
      "cell_type": "code",
      "source": [
        "np.hstack((a,b))#horixontal staack"
      ],
      "metadata": {
        "colab": {
          "base_uri": "https://localhost:8080/"
        },
        "id": "QWuWxXmpTEjT",
        "outputId": "08465ca9-ea16-49e9-c2c0-36e18f8d3e4e"
      },
      "execution_count": 288,
      "outputs": [
        {
          "output_type": "execute_result",
          "data": {
            "text/plain": [
              "array([1, 2, 3, 4, 5, 6, 7, 8])"
            ]
          },
          "metadata": {},
          "execution_count": 288
        }
      ]
    },
    {
      "cell_type": "code",
      "source": [
        "np.column_stack((a,b))#column stack"
      ],
      "metadata": {
        "colab": {
          "base_uri": "https://localhost:8080/"
        },
        "id": "fKqSVX1XTiui",
        "outputId": "9fccf380-1b6f-450a-c39c-3ef9fb961d0d"
      },
      "execution_count": 290,
      "outputs": [
        {
          "output_type": "execute_result",
          "data": {
            "text/plain": [
              "array([[1, 5],\n",
              "       [2, 6],\n",
              "       [3, 7],\n",
              "       [4, 8]])"
            ]
          },
          "metadata": {},
          "execution_count": 290
        }
      ]
    },
    {
      "cell_type": "markdown",
      "source": [
        "**Splitting Array**\n",
        "*Array splitting need an equal division*"
      ],
      "metadata": {
        "id": "abBy0LwQTx-z"
      }
    },
    {
      "cell_type": "code",
      "source": [
        "c = np.arange(16).reshape(4, 4)\n",
        "c"
      ],
      "metadata": {
        "colab": {
          "base_uri": "https://localhost:8080/"
        },
        "id": "1dNlUt9hTwI4",
        "outputId": "e0ab334c-5e72-4d31-ac1a-b22294d5a3f2"
      },
      "execution_count": 291,
      "outputs": [
        {
          "output_type": "execute_result",
          "data": {
            "text/plain": [
              "array([[ 0,  1,  2,  3],\n",
              "       [ 4,  5,  6,  7],\n",
              "       [ 8,  9, 10, 11],\n",
              "       [12, 13, 14, 15]])"
            ]
          },
          "metadata": {},
          "execution_count": 291
        }
      ]
    },
    {
      "cell_type": "code",
      "source": [
        "np.hsplit(c,4)#horizontal split"
      ],
      "metadata": {
        "colab": {
          "base_uri": "https://localhost:8080/"
        },
        "id": "MvNQlynCT57v",
        "outputId": "fbea9ffa-8e2e-485f-96a7-46b5171c9744"
      },
      "execution_count": 292,
      "outputs": [
        {
          "output_type": "execute_result",
          "data": {
            "text/plain": [
              "[array([[ 0],\n",
              "        [ 4],\n",
              "        [ 8],\n",
              "        [12]]),\n",
              " array([[ 1],\n",
              "        [ 5],\n",
              "        [ 9],\n",
              "        [13]]),\n",
              " array([[ 2],\n",
              "        [ 6],\n",
              "        [10],\n",
              "        [14]]),\n",
              " array([[ 3],\n",
              "        [ 7],\n",
              "        [11],\n",
              "        [15]])]"
            ]
          },
          "metadata": {},
          "execution_count": 292
        }
      ]
    },
    {
      "cell_type": "code",
      "source": [
        "\n",
        "np.vsplit(c,2)# vertically split"
      ],
      "metadata": {
        "colab": {
          "base_uri": "https://localhost:8080/"
        },
        "id": "tIQdj0rBT80Q",
        "outputId": "47711d21-1e45-4fda-b2c2-a788f263a4ed"
      },
      "execution_count": 293,
      "outputs": [
        {
          "output_type": "execute_result",
          "data": {
            "text/plain": [
              "[array([[0, 1, 2, 3],\n",
              "        [4, 5, 6, 7]]),\n",
              " array([[ 8,  9, 10, 11],\n",
              "        [12, 13, 14, 15]])]"
            ]
          },
          "metadata": {},
          "execution_count": 293
        }
      ]
    },
    {
      "cell_type": "code",
      "source": [
        "np.vsplit(c,3)# vertically split wrong divison for 16 array split does not result in an equal division"
      ],
      "metadata": {
        "colab": {
          "base_uri": "https://localhost:8080/",
          "height": 287
        },
        "id": "jCJp_XMAUAHA",
        "outputId": "c7cb612a-77d2-452e-aa97-66d0d6ea1928"
      },
      "execution_count": 297,
      "outputs": [
        {
          "output_type": "error",
          "ename": "ValueError",
          "evalue": "array split does not result in an equal division",
          "traceback": [
            "\u001b[0;31m---------------------------------------------------------------------------\u001b[0m",
            "\u001b[0;31mValueError\u001b[0m                                Traceback (most recent call last)",
            "\u001b[0;32m/tmp/ipython-input-297-968902586.py\u001b[0m in \u001b[0;36m<cell line: 0>\u001b[0;34m()\u001b[0m\n\u001b[0;32m----> 1\u001b[0;31m \u001b[0mnp\u001b[0m\u001b[0;34m.\u001b[0m\u001b[0mvsplit\u001b[0m\u001b[0;34m(\u001b[0m\u001b[0mc\u001b[0m\u001b[0;34m,\u001b[0m\u001b[0;36m3\u001b[0m\u001b[0;34m)\u001b[0m\u001b[0;31m# vertically split wrong divison for 16 array split does not result in an equal division\u001b[0m\u001b[0;34m\u001b[0m\u001b[0;34m\u001b[0m\u001b[0m\n\u001b[0m",
            "\u001b[0;32m/usr/local/lib/python3.11/dist-packages/numpy/lib/_shape_base_impl.py\u001b[0m in \u001b[0;36mvsplit\u001b[0;34m(ary, indices_or_sections)\u001b[0m\n\u001b[1;32m   1001\u001b[0m     \u001b[0;32mif\u001b[0m \u001b[0m_nx\u001b[0m\u001b[0;34m.\u001b[0m\u001b[0mndim\u001b[0m\u001b[0;34m(\u001b[0m\u001b[0mary\u001b[0m\u001b[0;34m)\u001b[0m \u001b[0;34m<\u001b[0m \u001b[0;36m2\u001b[0m\u001b[0;34m:\u001b[0m\u001b[0;34m\u001b[0m\u001b[0;34m\u001b[0m\u001b[0m\n\u001b[1;32m   1002\u001b[0m         \u001b[0;32mraise\u001b[0m \u001b[0mValueError\u001b[0m\u001b[0;34m(\u001b[0m\u001b[0;34m'vsplit only works on arrays of 2 or more dimensions'\u001b[0m\u001b[0;34m)\u001b[0m\u001b[0;34m\u001b[0m\u001b[0;34m\u001b[0m\u001b[0m\n\u001b[0;32m-> 1003\u001b[0;31m     \u001b[0;32mreturn\u001b[0m \u001b[0msplit\u001b[0m\u001b[0;34m(\u001b[0m\u001b[0mary\u001b[0m\u001b[0;34m,\u001b[0m \u001b[0mindices_or_sections\u001b[0m\u001b[0;34m,\u001b[0m \u001b[0;36m0\u001b[0m\u001b[0;34m)\u001b[0m\u001b[0;34m\u001b[0m\u001b[0;34m\u001b[0m\u001b[0m\n\u001b[0m\u001b[1;32m   1004\u001b[0m \u001b[0;34m\u001b[0m\u001b[0m\n\u001b[1;32m   1005\u001b[0m \u001b[0;34m\u001b[0m\u001b[0m\n",
            "\u001b[0;32m/usr/local/lib/python3.11/dist-packages/numpy/lib/_shape_base_impl.py\u001b[0m in \u001b[0;36msplit\u001b[0;34m(ary, indices_or_sections, axis)\u001b[0m\n\u001b[1;32m    872\u001b[0m         \u001b[0mN\u001b[0m \u001b[0;34m=\u001b[0m \u001b[0mary\u001b[0m\u001b[0;34m.\u001b[0m\u001b[0mshape\u001b[0m\u001b[0;34m[\u001b[0m\u001b[0maxis\u001b[0m\u001b[0;34m]\u001b[0m\u001b[0;34m\u001b[0m\u001b[0;34m\u001b[0m\u001b[0m\n\u001b[1;32m    873\u001b[0m         \u001b[0;32mif\u001b[0m \u001b[0mN\u001b[0m \u001b[0;34m%\u001b[0m \u001b[0msections\u001b[0m\u001b[0;34m:\u001b[0m\u001b[0;34m\u001b[0m\u001b[0;34m\u001b[0m\u001b[0m\n\u001b[0;32m--> 874\u001b[0;31m             raise ValueError(\n\u001b[0m\u001b[1;32m    875\u001b[0m                 'array split does not result in an equal division') from None\n\u001b[1;32m    876\u001b[0m     \u001b[0;32mreturn\u001b[0m \u001b[0marray_split\u001b[0m\u001b[0;34m(\u001b[0m\u001b[0mary\u001b[0m\u001b[0;34m,\u001b[0m \u001b[0mindices_or_sections\u001b[0m\u001b[0;34m,\u001b[0m \u001b[0maxis\u001b[0m\u001b[0;34m)\u001b[0m\u001b[0;34m\u001b[0m\u001b[0;34m\u001b[0m\u001b[0m\n",
            "\u001b[0;31mValueError\u001b[0m: array split does not result in an equal division"
          ]
        }
      ]
    },
    {
      "cell_type": "code",
      "source": [
        "a=np.vsplit (c,4)# vertically split\n",
        "a"
      ],
      "metadata": {
        "colab": {
          "base_uri": "https://localhost:8080/"
        },
        "id": "4-FUNB00rAOp",
        "outputId": "da2c2346-445b-406f-c0e6-82ec074e36b4"
      },
      "execution_count": 295,
      "outputs": [
        {
          "output_type": "execute_result",
          "data": {
            "text/plain": [
              "[array([[0, 1, 2, 3]]),\n",
              " array([[4, 5, 6, 7]]),\n",
              " array([[ 8,  9, 10, 11]]),\n",
              " array([[12, 13, 14, 15]])]"
            ]
          },
          "metadata": {},
          "execution_count": 295
        }
      ]
    },
    {
      "cell_type": "code",
      "source": [
        "for i in a :\n",
        "  print (i)"
      ],
      "metadata": {
        "colab": {
          "base_uri": "https://localhost:8080/"
        },
        "id": "c6YEFwX5qmq9",
        "outputId": "a89403b1-322b-41fb-acec-3c1e22721be7"
      },
      "execution_count": 296,
      "outputs": [
        {
          "output_type": "stream",
          "name": "stdout",
          "text": [
            "[[0 1 2 3]]\n",
            "[[4 5 6 7]]\n",
            "[[ 8  9 10 11]]\n",
            "[[12 13 14 15]]\n"
          ]
        }
      ]
    },
    {
      "cell_type": "markdown",
      "source": [
        "**Practicce questions**"
      ],
      "metadata": {
        "id": "VBBmt2_br6Nf"
      }
    },
    {
      "cell_type": "markdown",
      "source": [
        "*Valid Sudoku*"
      ],
      "metadata": {
        "id": "j-LL3pL0sBwB"
      }
    },
    {
      "cell_type": "code",
      "source": [
        "# row and column ka sum same hona chahiye and har block of 3x3 ka sum same hona chahiye\n",
        "s = np.array([\n",
        "    [5, 3, 4, 6, 7, 8, 9, 1, 2],\n",
        "    [6, 7, 2, 1, 9, 5, 3, 4, 8],\n",
        "    [1, 9, 8, 3, 4, 2, 5, 6, 7],\n",
        "\n",
        "    [8, 5, 9, 7, 6, 1, 4, 2, 3],\n",
        "    [4, 2, 6, 8, 5, 3, 7, 9, 1],\n",
        "    [7, 1, 3, 9, 2, 4, 8, 5, 6],\n",
        "\n",
        "    [9, 6, 1, 5, 3, 7, 2, 8, 4],\n",
        "    [2, 8, 7, 4, 1, 9, 6, 3, 5],\n",
        "    [3, 4, 5, 2, 8, 6, 1, 7, 9]\n",
        "])"
      ],
      "metadata": {
        "id": "TUC0fDfQsF7N"
      },
      "execution_count": 299,
      "outputs": []
    },
    {
      "cell_type": "code",
      "source": [
        "b=np.sum(s,axis=1)# row kw liye 1 and column ke liye zero so valid sudoku\n",
        "b==45# for true and false"
      ],
      "metadata": {
        "colab": {
          "base_uri": "https://localhost:8080/"
        },
        "id": "r7SBRW2HsheG",
        "outputId": "88a22377-64c9-4cae-abf0-2caa918234ba"
      },
      "execution_count": 300,
      "outputs": [
        {
          "output_type": "execute_result",
          "data": {
            "text/plain": [
              "array([ True,  True,  True,  True,  True,  True,  True,  True,  True])"
            ]
          },
          "metadata": {},
          "execution_count": 300
        }
      ]
    },
    {
      "cell_type": "code",
      "source": [
        "c=np.sum(s,axis=0)# so row and column are same it is valid\n",
        "c==45"
      ],
      "metadata": {
        "colab": {
          "base_uri": "https://localhost:8080/"
        },
        "id": "0OlQU4uutZve",
        "outputId": "c701e9a5-3c8b-4dc6-cb2f-0f5b06501d8f"
      },
      "execution_count": 301,
      "outputs": [
        {
          "output_type": "execute_result",
          "data": {
            "text/plain": [
              "array([ True,  True,  True,  True,  True,  True,  True,  True,  True])"
            ]
          },
          "metadata": {},
          "execution_count": 301
        }
      ]
    },
    {
      "cell_type": "code",
      "source": [
        "s[0:3,0:3]"
      ],
      "metadata": {
        "colab": {
          "base_uri": "https://localhost:8080/"
        },
        "id": "83JwvK1rtb0J",
        "outputId": "2224ab82-869a-43b3-a5d5-b7730d377f17"
      },
      "execution_count": 302,
      "outputs": [
        {
          "output_type": "execute_result",
          "data": {
            "text/plain": [
              "array([[5, 3, 4],\n",
              "       [6, 7, 2],\n",
              "       [1, 9, 8]])"
            ]
          },
          "metadata": {},
          "execution_count": 302
        }
      ]
    },
    {
      "cell_type": "code",
      "source": [
        "s[0:3,3:6]"
      ],
      "metadata": {
        "colab": {
          "base_uri": "https://localhost:8080/"
        },
        "id": "vNM90EGyuBG_",
        "outputId": "9cb514af-1fb1-4dee-f35b-bd9f473830d7"
      },
      "execution_count": 303,
      "outputs": [
        {
          "output_type": "execute_result",
          "data": {
            "text/plain": [
              "array([[6, 7, 8],\n",
              "       [1, 9, 5],\n",
              "       [3, 4, 2]])"
            ]
          },
          "metadata": {},
          "execution_count": 303
        }
      ]
    },
    {
      "cell_type": "code",
      "source": [
        "\n",
        "s[0:3,6:9]"
      ],
      "metadata": {
        "colab": {
          "base_uri": "https://localhost:8080/"
        },
        "id": "UQIgn4YTuCBT",
        "outputId": "3f188a31-7d2e-48de-d329-a27bbec560e7"
      },
      "execution_count": 304,
      "outputs": [
        {
          "output_type": "execute_result",
          "data": {
            "text/plain": [
              "array([[9, 1, 2],\n",
              "       [3, 4, 8],\n",
              "       [5, 6, 7]])"
            ]
          },
          "metadata": {},
          "execution_count": 304
        }
      ]
    },
    {
      "cell_type": "code",
      "source": [
        "#2nd approach we can use for loop\n",
        "for i in range(0,9,3):\n",
        "  for j in range(0,9,3):\n",
        "    print(s[i:i+3,j:j+3])"
      ],
      "metadata": {
        "colab": {
          "base_uri": "https://localhost:8080/"
        },
        "id": "kmb7CSmsuBrL",
        "outputId": "1c1dff19-d79a-4b6d-dd2e-04b5567e9e06"
      },
      "execution_count": 305,
      "outputs": [
        {
          "output_type": "stream",
          "name": "stdout",
          "text": [
            "[[5 3 4]\n",
            " [6 7 2]\n",
            " [1 9 8]]\n",
            "[[6 7 8]\n",
            " [1 9 5]\n",
            " [3 4 2]]\n",
            "[[9 1 2]\n",
            " [3 4 8]\n",
            " [5 6 7]]\n",
            "[[8 5 9]\n",
            " [4 2 6]\n",
            " [7 1 3]]\n",
            "[[7 6 1]\n",
            " [8 5 3]\n",
            " [9 2 4]]\n",
            "[[4 2 3]\n",
            " [7 9 1]\n",
            " [8 5 6]]\n",
            "[[9 6 1]\n",
            " [2 8 7]\n",
            " [3 4 5]]\n",
            "[[5 3 7]\n",
            " [4 1 9]\n",
            " [2 8 6]]\n",
            "[[2 8 4]\n",
            " [6 3 5]\n",
            " [1 7 9]]\n"
          ]
        }
      ]
    },
    {
      "cell_type": "code",
      "source": [
        "for i in range(0,9,3):\n",
        "  for j in range(0,9,3):\n",
        "    n= s[i:i+3,j:j+3]\n",
        "    print (n.sum())"
      ],
      "metadata": {
        "colab": {
          "base_uri": "https://localhost:8080/"
        },
        "id": "GdvRit2Du6Rj",
        "outputId": "cc18254b-affb-4eff-9775-ff3dad0c985d"
      },
      "execution_count": 306,
      "outputs": [
        {
          "output_type": "stream",
          "name": "stdout",
          "text": [
            "45\n",
            "45\n",
            "45\n",
            "45\n",
            "45\n",
            "45\n",
            "45\n",
            "45\n",
            "45\n"
          ]
        }
      ]
    },
    {
      "cell_type": "code",
      "source": [
        "import numpy as np\n",
        "\n",
        "# Columns: [Age, Math Marks, Science Marks]\n",
        "data = np.array([\n",
        "    [18, 85, 78],   # Student 1\n",
        "    [19, 92, 88],   # Student 2\n",
        "    [17, 76, 95],   # Student 3\n",
        "    [18, 65, 70],   # Student 4\n",
        "    [20, 90, 85]    # Student 5\n",
        "])"
      ],
      "metadata": {
        "id": "g4pvmar5sUlv"
      },
      "execution_count": 307,
      "outputs": []
    },
    {
      "cell_type": "code",
      "source": [
        "\n",
        "#Get the shape of the matrix.\n",
        "data.shape"
      ],
      "metadata": {
        "colab": {
          "base_uri": "https://localhost:8080/"
        },
        "id": "zLPTlNZhv3_0",
        "outputId": "1a077138-9651-4663-9739-426ee6a8a0ca"
      },
      "execution_count": 308,
      "outputs": [
        {
          "output_type": "execute_result",
          "data": {
            "text/plain": [
              "(5, 3)"
            ]
          },
          "metadata": {},
          "execution_count": 308
        }
      ]
    },
    {
      "cell_type": "code",
      "source": [
        "#Find the average age of students.\n",
        "np.mean(data[5:,0])# agar blank rahne doge tu bhi le lega kast tak\n",
        "np.mean(data[:,0])# dono sahi hai"
      ],
      "metadata": {
        "colab": {
          "base_uri": "https://localhost:8080/"
        },
        "id": "4zJWmZ4Nv7a5",
        "outputId": "b476c8e6-21e8-40a7-8c05-d89ccdb83974"
      },
      "execution_count": 309,
      "outputs": [
        {
          "output_type": "execute_result",
          "data": {
            "text/plain": [
              "np.float64(18.4)"
            ]
          },
          "metadata": {},
          "execution_count": 309
        }
      ]
    },
    {
      "cell_type": "code",
      "source": [
        "#Extract Math marks of all students.\n",
        "'''all rows are selected agar blank chode tu ye bhi comment hi hai'''\n",
        "data[ :,1]"
      ],
      "metadata": {
        "colab": {
          "base_uri": "https://localhost:8080/"
        },
        "id": "CdqHwaQBv-4H",
        "outputId": "b3ad58ef-1d17-4a2b-be7b-7a202f5eb5a1"
      },
      "execution_count": 310,
      "outputs": [
        {
          "output_type": "execute_result",
          "data": {
            "text/plain": [
              "array([85, 92, 76, 65, 90])"
            ]
          },
          "metadata": {},
          "execution_count": 310
        }
      ]
    },
    {
      "cell_type": "code",
      "source": [
        "#Find the highest Science mark.\n",
        "data[ :,2]\n",
        "np.max(data[ :,2])"
      ],
      "metadata": {
        "colab": {
          "base_uri": "https://localhost:8080/"
        },
        "id": "71HXfW7LwBtZ",
        "outputId": "142cb308-2cdf-4d24-bb27-e498bd9c9830"
      },
      "execution_count": 311,
      "outputs": [
        {
          "output_type": "execute_result",
          "data": {
            "text/plain": [
              "np.int64(95)"
            ]
          },
          "metadata": {},
          "execution_count": 311
        }
      ]
    },
    {
      "cell_type": "code",
      "source": [
        "#Get details of the student who scored more than 90 in Math.\n",
        "data[:,1]>90"
      ],
      "metadata": {
        "colab": {
          "base_uri": "https://localhost:8080/"
        },
        "id": "9-Z0xsR5wEFs",
        "outputId": "cb012c96-ef25-4172-f7ab-46ed47069d77"
      },
      "execution_count": 312,
      "outputs": [
        {
          "output_type": "execute_result",
          "data": {
            "text/plain": [
              "array([False,  True, False, False, False])"
            ]
          },
          "metadata": {},
          "execution_count": 312
        }
      ]
    },
    {
      "cell_type": "code",
      "source": [
        "#Get details of the student who scored more than 90 in Math.\n",
        "data[data[:,1]>90]"
      ],
      "metadata": {
        "colab": {
          "base_uri": "https://localhost:8080/"
        },
        "id": "RD9wzP9tyfR5",
        "outputId": "1cd93f35-ce4d-4f4b-a3be-fe881e507ef7"
      },
      "execution_count": 313,
      "outputs": [
        {
          "output_type": "execute_result",
          "data": {
            "text/plain": [
              "array([[19, 92, 88]])"
            ]
          },
          "metadata": {},
          "execution_count": 313
        }
      ]
    },
    {
      "cell_type": "code",
      "source": [
        "#Increase Math marks of all students by 5.\n",
        "data[:,1]+5\n"
      ],
      "metadata": {
        "colab": {
          "base_uri": "https://localhost:8080/"
        },
        "id": "3TMrvNAHyJSf",
        "outputId": "3e5da08f-1d2b-475c-fbf4-bfd9695ebbe1"
      },
      "execution_count": 314,
      "outputs": [
        {
          "output_type": "execute_result",
          "data": {
            "text/plain": [
              "array([90, 97, 81, 70, 95])"
            ]
          },
          "metadata": {},
          "execution_count": 314
        }
      ]
    },
    {
      "cell_type": "code",
      "source": [
        "#Increase Math marks of all students by 5.\n",
        "data[:,1]=data[:,1]+5\n",
        "data"
      ],
      "metadata": {
        "colab": {
          "base_uri": "https://localhost:8080/"
        },
        "id": "bIGewKZ-y24a",
        "outputId": "fa394286-9258-4cb1-db9b-c54f5ff985bd"
      },
      "execution_count": 315,
      "outputs": [
        {
          "output_type": "execute_result",
          "data": {
            "text/plain": [
              "array([[18, 90, 78],\n",
              "       [19, 97, 88],\n",
              "       [17, 81, 95],\n",
              "       [18, 70, 70],\n",
              "       [20, 95, 85]])"
            ]
          },
          "metadata": {},
          "execution_count": 315
        }
      ]
    },
    {
      "cell_type": "code",
      "source": [
        "\n",
        "#Find how many students are younger than 19.\n",
        "data[:,0]<19"
      ],
      "metadata": {
        "colab": {
          "base_uri": "https://localhost:8080/"
        },
        "id": "anrk_SxSyLkA",
        "outputId": "8baca460-4b03-4f91-a44a-3f02bdee9640"
      },
      "execution_count": 316,
      "outputs": [
        {
          "output_type": "execute_result",
          "data": {
            "text/plain": [
              "array([ True, False,  True,  True, False])"
            ]
          },
          "metadata": {},
          "execution_count": 316
        }
      ]
    },
    {
      "cell_type": "code",
      "source": [
        "#Find how many students are younger than 19.\n",
        "len(data[data[:,0]<19])"
      ],
      "metadata": {
        "colab": {
          "base_uri": "https://localhost:8080/"
        },
        "id": "y5KVgRVCzVlS",
        "outputId": "31b1ea6d-1019-42bb-99e4-29700a4a17fc"
      },
      "execution_count": 317,
      "outputs": [
        {
          "output_type": "execute_result",
          "data": {
            "text/plain": [
              "3"
            ]
          },
          "metadata": {},
          "execution_count": 317
        }
      ]
    },
    {
      "cell_type": "code",
      "source": [
        "#Calculate the average marks in each subject (column-wise mean).\n",
        "np.mean(data,axis=0)"
      ],
      "metadata": {
        "colab": {
          "base_uri": "https://localhost:8080/"
        },
        "id": "Pj-WH7T5yOQc",
        "outputId": "562b46e8-e0b5-4666-c23d-de07e2b71575"
      },
      "execution_count": 318,
      "outputs": [
        {
          "output_type": "execute_result",
          "data": {
            "text/plain": [
              "array([18.4, 86.6, 83.2])"
            ]
          },
          "metadata": {},
          "execution_count": 318
        }
      ]
    },
    {
      "cell_type": "code",
      "source": [
        "#Get data of students who scored at least 80 in both subjects.\n",
        "data[data[:,1]>80& (data[:,2]>80)]\n"
      ],
      "metadata": {
        "colab": {
          "base_uri": "https://localhost:8080/"
        },
        "id": "up5vRaIryREQ",
        "outputId": "07074057-fdcd-49de-fb1c-bd3c1536175f"
      },
      "execution_count": 319,
      "outputs": [
        {
          "output_type": "execute_result",
          "data": {
            "text/plain": [
              "array([[18, 90, 78],\n",
              "       [19, 97, 88],\n",
              "       [17, 81, 95],\n",
              "       [18, 70, 70],\n",
              "       [20, 95, 85]])"
            ]
          },
          "metadata": {},
          "execution_count": 319
        }
      ]
    },
    {
      "cell_type": "code",
      "source": [
        "#Replace all Science marks < 75 with 0.\n",
        "data[data[:,2]<75,2]=0#[ pahle row and then column is selected]\n",
        "data"
      ],
      "metadata": {
        "colab": {
          "base_uri": "https://localhost:8080/"
        },
        "id": "eLXS_racyWT2",
        "outputId": "346c0d02-f132-47e1-a730-8be12b627eef"
      },
      "execution_count": 320,
      "outputs": [
        {
          "output_type": "execute_result",
          "data": {
            "text/plain": [
              "array([[18, 90, 78],\n",
              "       [19, 97, 88],\n",
              "       [17, 81, 95],\n",
              "       [18, 70,  0],\n",
              "       [20, 95, 85]])"
            ]
          },
          "metadata": {},
          "execution_count": 320
        }
      ]
    },
    {
      "cell_type": "code",
      "source": [],
      "metadata": {
        "id": "nNr2rcMVm_l0"
      },
      "execution_count": null,
      "outputs": []
    }
  ]
}